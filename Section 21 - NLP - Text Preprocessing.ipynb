{
 "cells": [
  {
   "cell_type": "markdown",
   "id": "01c80da8-9834-45a0-bba5-6946f9f1ad5b",
   "metadata": {},
   "source": [
    "## Section 21: NLP Preprocessing"
   ]
  },
  {
   "cell_type": "markdown",
   "id": "a6ae2be6-c0f3-4b6d-b3d9-715204de7b86",
   "metadata": {
    "jp-MarkdownHeadingCollapsed": true
   },
   "source": [
    "### Lowercase"
   ]
  },
  {
   "cell_type": "code",
   "execution_count": 1,
   "id": "4b911acd-3c07-4c8d-9b92-bee1662c9655",
   "metadata": {},
   "outputs": [],
   "source": [
    "sentence = \"Her cat's name is Luna\""
   ]
  },
  {
   "cell_type": "code",
   "execution_count": 2,
   "id": "e591b0c5-a29d-4abf-9d6c-72642cda5856",
   "metadata": {},
   "outputs": [
    {
     "data": {
      "text/plain": [
       "\"her cat's name is luna\""
      ]
     },
     "execution_count": 2,
     "metadata": {},
     "output_type": "execute_result"
    }
   ],
   "source": [
    "lower_sentence = sentence.lower()\n",
    "lower_sentence"
   ]
  },
  {
   "cell_type": "code",
   "execution_count": 3,
   "id": "228a24c3-1ae2-4521-b9fa-1f9a89d788f8",
   "metadata": {},
   "outputs": [
    {
     "data": {
      "text/plain": [
       "['Sentence 1', 'Sentence 2']"
      ]
     },
     "execution_count": 3,
     "metadata": {},
     "output_type": "execute_result"
    }
   ],
   "source": [
    "sentence_list = [\"Sentence 1\", \"Sentence 2\"]\n",
    "sentence_list"
   ]
  },
  {
   "cell_type": "code",
   "execution_count": 4,
   "id": "b9805bf0-376c-435b-a5e4-85bf0e8d323f",
   "metadata": {},
   "outputs": [
    {
     "data": {
      "text/plain": [
       "['sentence 1', 'sentence 2']"
      ]
     },
     "execution_count": 4,
     "metadata": {},
     "output_type": "execute_result"
    }
   ],
   "source": [
    "lower_list = [i.lower() for i in sentence_list] ## this is called list comprehension\n",
    "lower_list"
   ]
  },
  {
   "cell_type": "markdown",
   "id": "926de186-b196-46fc-8045-8727edb113da",
   "metadata": {},
   "source": [
    "List comprehension here: https://docs.python.org/2/tutorial/datastructures.html#list-comprehensions\n",
    "\n",
    "Format is [f(x) for x in y if *condition*]\n"
   ]
  },
  {
   "cell_type": "markdown",
   "id": "362952b8-5977-4edc-973a-b385af22071f",
   "metadata": {
    "jp-MarkdownHeadingCollapsed": true
   },
   "source": [
    "### Removing Stop Words"
   ]
  },
  {
   "cell_type": "code",
   "execution_count": 5,
   "id": "2919b0e0-926f-4cfb-92f9-7d15c1d1fcfa",
   "metadata": {},
   "outputs": [
    {
     "name": "stderr",
     "output_type": "stream",
     "text": [
      "[nltk_data] Downloading package stopwords to /Users/ben/nltk_data...\n",
      "[nltk_data]   Package stopwords is already up-to-date!\n"
     ]
    },
    {
     "data": {
      "text/plain": [
       "True"
      ]
     },
     "execution_count": 5,
     "metadata": {},
     "output_type": "execute_result"
    }
   ],
   "source": [
    "import nltk\n",
    "nltk.download('stopwords')"
   ]
  },
  {
   "cell_type": "code",
   "execution_count": 6,
   "id": "c9d14d1b-7a4c-4994-99de-ca1772224b6b",
   "metadata": {},
   "outputs": [],
   "source": [
    "from nltk.corpus import stopwords"
   ]
  },
  {
   "cell_type": "code",
   "execution_count": 7,
   "id": "28266a0a-a804-4fc2-bf4d-8ecc72156040",
   "metadata": {},
   "outputs": [],
   "source": [
    "en_stopwords = stopwords.words('english')"
   ]
  },
  {
   "cell_type": "code",
   "execution_count": 8,
   "id": "77902d49-7edd-4bf2-8505-d001ad6c647d",
   "metadata": {},
   "outputs": [
    {
     "data": {
      "text/plain": [
       "179"
      ]
     },
     "execution_count": 8,
     "metadata": {},
     "output_type": "execute_result"
    }
   ],
   "source": [
    "len(en_stopwords)"
   ]
  },
  {
   "cell_type": "code",
   "execution_count": 9,
   "id": "4cfda70c-21ee-4b70-b11c-45f66bbff420",
   "metadata": {},
   "outputs": [
    {
     "name": "stdout",
     "output_type": "stream",
     "text": [
      "['i', 'me', 'my', 'myself', 'we', 'our', 'ours', 'ourselves', 'you', \"you're\", \"you've\", \"you'll\", \"you'd\", 'your', 'yours', 'yourself', 'yourselves', 'he', 'him', 'his', 'himself', 'she', \"she's\", 'her', 'hers', 'herself', 'it', \"it's\", 'its', 'itself', 'they', 'them', 'their', 'theirs', 'themselves', 'what', 'which', 'who', 'whom', 'this', 'that', \"that'll\", 'these', 'those', 'am', 'is', 'are', 'was', 'were', 'be', 'been', 'being', 'have', 'has', 'had', 'having', 'do', 'does', 'did', 'doing', 'a', 'an', 'the', 'and', 'but', 'if', 'or', 'because', 'as', 'until', 'while', 'of', 'at', 'by', 'for', 'with', 'about', 'against', 'between', 'into', 'through', 'during', 'before', 'after', 'above', 'below', 'to', 'from', 'up', 'down', 'in', 'out', 'on', 'off', 'over', 'under', 'again', 'further', 'then', 'once', 'here', 'there', 'when', 'where', 'why', 'how', 'all', 'any', 'both', 'each', 'few', 'more', 'most', 'other', 'some', 'such', 'no', 'nor', 'not', 'only', 'own', 'same', 'so', 'than', 'too', 'very', 's', 't', 'can', 'will', 'just', 'don', \"don't\", 'should', \"should've\", 'now', 'd', 'll', 'm', 'o', 're', 've', 'y', 'ain', 'aren', \"aren't\", 'couldn', \"couldn't\", 'didn', \"didn't\", 'doesn', \"doesn't\", 'hadn', \"hadn't\", 'hasn', \"hasn't\", 'haven', \"haven't\", 'isn', \"isn't\", 'ma', 'mightn', \"mightn't\", 'mustn', \"mustn't\", 'needn', \"needn't\", 'shan', \"shan't\", 'shouldn', \"shouldn't\", 'wasn', \"wasn't\", 'weren', \"weren't\", 'won', \"won't\", 'wouldn', \"wouldn't\"]\n"
     ]
    }
   ],
   "source": [
    "print(en_stopwords)"
   ]
  },
  {
   "cell_type": "code",
   "execution_count": 10,
   "id": "7fc32708-f257-49a3-8844-a7d16b04ee30",
   "metadata": {},
   "outputs": [],
   "source": [
    "sentence = \"it was too far to to go the shop, and he did not want her to work\""
   ]
  },
  {
   "cell_type": "code",
   "execution_count": 11,
   "id": "0f9e870f-c5f9-4751-b8c7-3fa75b0c644f",
   "metadata": {},
   "outputs": [
    {
     "data": {
      "text/plain": [
       "'far go shop, want work'"
      ]
     },
     "execution_count": 11,
     "metadata": {},
     "output_type": "execute_result"
    }
   ],
   "source": [
    "sentence_no_stopwords = ' '.join([word for word in sentence.split() if word not in en_stopwords])\n",
    "sentence_no_stopwords"
   ]
  },
  {
   "cell_type": "code",
   "execution_count": 12,
   "id": "f8ea9313-9164-4e71-938a-4d4e3b98f7a6",
   "metadata": {},
   "outputs": [
    {
     "data": {
      "text/plain": [
       "'hi-bye'"
      ]
     },
     "execution_count": 12,
     "metadata": {},
     "output_type": "execute_result"
    }
   ],
   "source": [
    "test = '-'.join(['hi','bye'])\n",
    "test"
   ]
  },
  {
   "cell_type": "code",
   "execution_count": 13,
   "id": "36f386ec-afea-442b-be13-9202644f8ca5",
   "metadata": {},
   "outputs": [
    {
     "data": {
      "text/plain": [
       "'far go shop, want workwork '"
      ]
     },
     "execution_count": 13,
     "metadata": {},
     "output_type": "execute_result"
    }
   ],
   "source": [
    "sentence_no_stopwords2=''\n",
    "for word in sentence.split(): #split default is a space I guess?\n",
    "    # print(word)\n",
    "    if word not in (en_stopwords):\n",
    "        sentence_no_stopwords2 = sentence_no_stopwords+ f\"{word} \"\n",
    "        \n",
    "        # sentence_no_stopwords = sentence_no_stopwords+\" word\"\n",
    "        \n",
    "sentence_no_stopwords2"
   ]
  },
  {
   "cell_type": "code",
   "execution_count": 14,
   "id": "c50ed211-2ed1-40ab-9eba-86dbcdfcdee1",
   "metadata": {},
   "outputs": [
    {
     "data": {
      "text/plain": [
       "'far go shop, want work'"
      ]
     },
     "execution_count": 14,
     "metadata": {},
     "output_type": "execute_result"
    }
   ],
   "source": [
    "sentence_no_stopwords"
   ]
  },
  {
   "cell_type": "code",
   "execution_count": 15,
   "id": "5404d288-fc3b-4dc9-b81c-29509f50baab",
   "metadata": {},
   "outputs": [],
   "source": [
    "en_stopwords.remove('did')\n",
    "en_stopwords.remove('not')\n",
    "en_stopwords.append('go')"
   ]
  },
  {
   "cell_type": "code",
   "execution_count": 16,
   "id": "3799938b-bbdf-48d5-ac81-a8455e8a2b63",
   "metadata": {},
   "outputs": [
    {
     "name": "stdout",
     "output_type": "stream",
     "text": [
      "['i', 'me', 'my', 'myself', 'we', 'our', 'ours', 'ourselves', 'you', \"you're\", \"you've\", \"you'll\", \"you'd\", 'your', 'yours', 'yourself', 'yourselves', 'he', 'him', 'his', 'himself', 'she', \"she's\", 'her', 'hers', 'herself', 'it', \"it's\", 'its', 'itself', 'they', 'them', 'their', 'theirs', 'themselves', 'what', 'which', 'who', 'whom', 'this', 'that', \"that'll\", 'these', 'those', 'am', 'is', 'are', 'was', 'were', 'be', 'been', 'being', 'have', 'has', 'had', 'having', 'do', 'does', 'doing', 'a', 'an', 'the', 'and', 'but', 'if', 'or', 'because', 'as', 'until', 'while', 'of', 'at', 'by', 'for', 'with', 'about', 'against', 'between', 'into', 'through', 'during', 'before', 'after', 'above', 'below', 'to', 'from', 'up', 'down', 'in', 'out', 'on', 'off', 'over', 'under', 'again', 'further', 'then', 'once', 'here', 'there', 'when', 'where', 'why', 'how', 'all', 'any', 'both', 'each', 'few', 'more', 'most', 'other', 'some', 'such', 'no', 'nor', 'only', 'own', 'same', 'so', 'than', 'too', 'very', 's', 't', 'can', 'will', 'just', 'don', \"don't\", 'should', \"should've\", 'now', 'd', 'll', 'm', 'o', 're', 've', 'y', 'ain', 'aren', \"aren't\", 'couldn', \"couldn't\", 'didn', \"didn't\", 'doesn', \"doesn't\", 'hadn', \"hadn't\", 'hasn', \"hasn't\", 'haven', \"haven't\", 'isn', \"isn't\", 'ma', 'mightn', \"mightn't\", 'mustn', \"mustn't\", 'needn', \"needn't\", 'shan', \"shan't\", 'shouldn', \"shouldn't\", 'wasn', \"wasn't\", 'weren', \"weren't\", 'won', \"won't\", 'wouldn', \"wouldn't\", 'go']\n"
     ]
    }
   ],
   "source": [
    "print(en_stopwords)"
   ]
  },
  {
   "cell_type": "code",
   "execution_count": 17,
   "id": "9ce832e5-35fd-4f44-ab5f-60bfa9e20270",
   "metadata": {},
   "outputs": [
    {
     "name": "stdout",
     "output_type": "stream",
     "text": [
      "far shop, did not want work\n"
     ]
    }
   ],
   "source": [
    "no_stopwords_custom = ' '.join([word for word in sentence.split() if word not in en_stopwords])\n",
    "print(no_stopwords_custom)"
   ]
  },
  {
   "cell_type": "markdown",
   "id": "e76b40db-92da-4a1a-b83d-5ae91c2de5fe",
   "metadata": {
    "jp-MarkdownHeadingCollapsed": true
   },
   "source": [
    "### Regex"
   ]
  },
  {
   "cell_type": "code",
   "execution_count": 18,
   "id": "ef4f6564-5489-4cef-afb1-0ca334dc56c3",
   "metadata": {},
   "outputs": [],
   "source": [
    "import re"
   ]
  },
  {
   "cell_type": "code",
   "execution_count": 19,
   "id": "808c6e35-1bc6-4991-a93b-905cea9e0315",
   "metadata": {},
   "outputs": [
    {
     "name": "stdout",
     "output_type": "stream",
     "text": [
      "C:\\desktop\n",
      "otes\n"
     ]
    },
    {
     "name": "stderr",
     "output_type": "stream",
     "text": [
      "<>:1: SyntaxWarning: invalid escape sequence '\\d'\n",
      "<>:1: SyntaxWarning: invalid escape sequence '\\d'\n",
      "/var/folders/63/r63xkxxn775973yzh59ghr4r0000gn/T/ipykernel_85090/2431543049.py:1: SyntaxWarning: invalid escape sequence '\\d'\n",
      "  my_folder = \"C:\\desktop\\notes\" ## see how newline gets caught up in the string\n"
     ]
    }
   ],
   "source": [
    "my_folder = \"C:\\desktop\\notes\" ## see how newline gets caught up in the string\n",
    "print(my_folder)"
   ]
  },
  {
   "cell_type": "code",
   "execution_count": 20,
   "id": "8beb9188-8ec6-49b2-bd50-499e449e6772",
   "metadata": {},
   "outputs": [
    {
     "name": "stdout",
     "output_type": "stream",
     "text": [
      "C:\\desktop\\notes\n"
     ]
    }
   ],
   "source": [
    "my_folder = r\"C:\\desktop\\notes\"\n",
    "print(my_folder)\n",
    "# the lowercase \"r\" in front of the string tells python this is a 'raw string' and to forget any syntaxes/escapes"
   ]
  },
  {
   "cell_type": "code",
   "execution_count": 21,
   "id": "18dda54d-1456-4b05-bdd3-4f280916e7ca",
   "metadata": {},
   "outputs": [
    {
     "name": "stdout",
     "output_type": "stream",
     "text": [
      "<re.Match object; span=(12, 19), match='pattern'>\n"
     ]
    }
   ],
   "source": [
    "result_search = re.search('pattern', r'string with pattern')\n",
    "print(result_search)"
   ]
  },
  {
   "cell_type": "code",
   "execution_count": 22,
   "id": "7f99e6e9-7eb0-4b24-9fbd-7bcaa7e9a816",
   "metadata": {},
   "outputs": [
    {
     "name": "stdout",
     "output_type": "stream",
     "text": [
      "None\n"
     ]
    }
   ],
   "source": [
    "result_search2 = re.search('pattern', r'string with the pat tern')\n",
    "print(result_search2)"
   ]
  },
  {
   "cell_type": "code",
   "execution_count": 23,
   "id": "ff9119fd-fddd-4503-97f1-c857845f6d8a",
   "metadata": {},
   "outputs": [
    {
     "name": "stdout",
     "output_type": "stream",
     "text": [
      "sarah was able to help me find the items I needed quickly\n"
     ]
    }
   ],
   "source": [
    "string = r\"sara was able to help me find the items I needed quickly\"\n",
    "new_string = re.sub('sara', 'sarah', string)\n",
    "print(new_string)"
   ]
  },
  {
   "cell_type": "markdown",
   "id": "92893ced-d075-4ea0-bcd7-d99b3bc5fb5b",
   "metadata": {
    "jp-MarkdownHeadingCollapsed": true
   },
   "source": [
    "### Tokenization\n",
    "A very basic example of word and sentence tokenization"
   ]
  },
  {
   "cell_type": "code",
   "execution_count": 24,
   "id": "b7a65292-c9c4-462c-a1f4-64924f3124c1",
   "metadata": {},
   "outputs": [
    {
     "name": "stderr",
     "output_type": "stream",
     "text": [
      "[nltk_data] Downloading package punkt_tab to /Users/ben/nltk_data...\n",
      "[nltk_data]   Package punkt_tab is already up-to-date!\n"
     ]
    },
    {
     "data": {
      "text/plain": [
       "True"
      ]
     },
     "execution_count": 24,
     "metadata": {},
     "output_type": "execute_result"
    }
   ],
   "source": [
    "import nltk\n",
    "nltk.download('punkt_tab')"
   ]
  },
  {
   "cell_type": "code",
   "execution_count": 25,
   "id": "c00f3480-4a4c-4366-9a59-d21002be5e5d",
   "metadata": {},
   "outputs": [],
   "source": [
    "from nltk.tokenize import word_tokenize, sent_tokenize"
   ]
  },
  {
   "cell_type": "code",
   "execution_count": 26,
   "id": "988bfdd6-f953-4c4c-aaec-c3ad42106605",
   "metadata": {},
   "outputs": [
    {
     "name": "stdout",
     "output_type": "stream",
     "text": [
      "Her cat's name is Luna. Her dog's name is Max\n"
     ]
    }
   ],
   "source": [
    "sentences = \"Her cat's name is Luna. Her dog's name is Max\"\n",
    "print(sentences)"
   ]
  },
  {
   "cell_type": "code",
   "execution_count": 27,
   "id": "625ab78a-4d00-478a-9411-8b4c8069e8a3",
   "metadata": {},
   "outputs": [
    {
     "data": {
      "text/plain": [
       "[\"Her cat's name is Luna.\", \"Her dog's name is Max\"]"
      ]
     },
     "execution_count": 27,
     "metadata": {},
     "output_type": "execute_result"
    }
   ],
   "source": [
    "sent_tokenize(sentences) ## this is a tokenized list of sentences "
   ]
  },
  {
   "cell_type": "code",
   "execution_count": 28,
   "id": "f4cb7ef6-2b79-450f-8103-d5d6cd1fc1f5",
   "metadata": {},
   "outputs": [
    {
     "data": {
      "text/plain": [
       "['Her',\n",
       " 'cat',\n",
       " \"'s\",\n",
       " 'name',\n",
       " 'is',\n",
       " 'Luna',\n",
       " '.',\n",
       " 'Her',\n",
       " 'dog',\n",
       " \"'s\",\n",
       " 'name',\n",
       " 'is',\n",
       " 'Max']"
      ]
     },
     "execution_count": 28,
     "metadata": {},
     "output_type": "execute_result"
    }
   ],
   "source": [
    "word_tokenize(sentences)"
   ]
  },
  {
   "cell_type": "markdown",
   "id": "96a907ce-fc44-44cb-b80a-6b5e952b62bf",
   "metadata": {},
   "source": [
    "### Stemming\n",
    "Reducing words to their base form"
   ]
  },
  {
   "cell_type": "code",
   "execution_count": 61,
   "id": "de7adf34-c620-45bb-90dc-5b124a48b6aa",
   "metadata": {},
   "outputs": [],
   "source": [
    "from nltk.stem import PorterStemmer"
   ]
  },
  {
   "cell_type": "code",
   "execution_count": 62,
   "id": "5bbac4d3-0d43-48b3-9ad5-238b70b24092",
   "metadata": {},
   "outputs": [],
   "source": [
    "ps = PorterStemmer()"
   ]
  },
  {
   "cell_type": "code",
   "execution_count": 63,
   "id": "053d9c6b-239f-40d3-a125-d27779342b8d",
   "metadata": {},
   "outputs": [],
   "source": [
    "tokens = ['connecting','connected', 'connectivity', 'connect', 'connects', 'testing', 'learner', 'learned', 'learning']\n"
   ]
  },
  {
   "cell_type": "code",
   "execution_count": 64,
   "id": "f5b206b3-8f21-4313-b811-4a22d73cae1a",
   "metadata": {},
   "outputs": [
    {
     "name": "stdout",
     "output_type": "stream",
     "text": [
      "connecting >> connect\n",
      "connected >> connect\n",
      "connectivity >> connect\n",
      "connect >> connect\n",
      "connects >> connect\n",
      "testing >> test\n",
      "learner >> learner\n",
      "learned >> learn\n",
      "learning >> learn\n"
     ]
    }
   ],
   "source": [
    "for i in tokens:\n",
    "    print(i, \">>\", ps.stem(i))"
   ]
  },
  {
   "cell_type": "markdown",
   "id": "cc90ae4b-8057-42b8-bba2-b01e86dc24e2",
   "metadata": {},
   "source": [
    "### Lemmatization\n",
    "Similar to Stemming but much less aggressive/lossy"
   ]
  },
  {
   "cell_type": "code",
   "execution_count": 83,
   "id": "61f5a821-a602-45d1-bbcb-75ab0b7e4dd1",
   "metadata": {},
   "outputs": [
    {
     "name": "stderr",
     "output_type": "stream",
     "text": [
      "[nltk_data] Downloading package wordnet to /Users/ben/nltk_data...\n",
      "[nltk_data]   Package wordnet is already up-to-date!\n"
     ]
    }
   ],
   "source": [
    "nltk.download('wordnet')\n",
    "from nltk.stem import WordNetLemmatizer"
   ]
  },
  {
   "cell_type": "code",
   "execution_count": 84,
   "id": "862ac019-7667-4f42-82c0-0e55a02ebd03",
   "metadata": {},
   "outputs": [],
   "source": [
    "Lem = WordNetLemmatizer() # initialize the module"
   ]
  },
  {
   "cell_type": "code",
   "execution_count": 85,
   "id": "2151687b-1d2a-4c83-bbd1-5ffd7e7c6614",
   "metadata": {},
   "outputs": [
    {
     "name": "stdout",
     "output_type": "stream",
     "text": [
      "the >> the\n",
      "rise >> rise\n",
      "of >> of\n",
      "artificial >> artificial\n",
      "intelligence >> intelligence\n",
      "has >> ha\n",
      "led >> led\n",
      "to >> to\n",
      "significant >> significant\n",
      "advancements >> advancement\n",
      "in >> in\n",
      "natural >> natural\n",
      "language >> language\n",
      "processing >> processing\n",
      "computer >> computer\n",
      "vision >> vision\n",
      "and >> and\n",
      "other >> other\n",
      "fields >> field\n",
      "machine >> machine\n",
      "learning >> learning\n",
      "algorithms >> algorithm\n",
      "are >> are\n",
      "becoming >> becoming\n",
      "more >> more\n",
      "sophisticated >> sophisticated\n",
      "enabling >> enabling\n",
      "computers >> computer\n",
      "to >> to\n",
      "perform >> perform\n",
      "complex >> complex\n",
      "tasks >> task\n",
      "that >> that\n",
      "were >> were\n",
      "once >> once\n",
      "thought >> thought\n",
      "to >> to\n",
      "be >> be\n",
      "the >> the\n",
      "exclusive >> exclusive\n",
      "domain >> domain\n",
      "of >> of\n",
      "humans >> human\n",
      "with >> with\n",
      "the >> the\n",
      "advent >> advent\n",
      "of >> of\n",
      "deep >> deep\n",
      "learning >> learning\n",
      "neural >> neural\n",
      "networks >> network\n",
      "have >> have\n",
      "become >> become\n",
      "even >> even\n",
      "more >> more\n",
      "powerful >> powerful\n",
      "capable >> capable\n",
      "of >> of\n",
      "processing >> processing\n",
      "vast >> vast\n",
      "amounts >> amount\n",
      "of >> of\n",
      "data >> data\n",
      "and >> and\n",
      "learning >> learning\n",
      "from >> from\n",
      "it >> it\n",
      "in >> in\n",
      "ways >> way\n",
      "that >> that\n",
      "were >> were\n",
      "not >> not\n",
      "possible >> possible\n",
      "before >> before\n",
      "as >> a\n",
      "a >> a\n",
      "result >> result\n",
      "ai >> ai\n",
      "is >> is\n",
      "increasingly >> increasingly\n",
      "being >> being\n",
      "used >> used\n",
      "in >> in\n",
      "a >> a\n",
      "wide >> wide\n",
      "range >> range\n",
      "of >> of\n",
      "industries >> industry\n",
      "from >> from\n",
      "healthcare >> healthcare\n",
      "to >> to\n",
      "finance >> finance\n",
      "to >> to\n",
      "transportation >> transportation\n",
      "and >> and\n",
      "its >> it\n",
      "impact >> impact\n",
      "is >> is\n",
      "only >> only\n",
      "set >> set\n",
      "to >> to\n",
      "grow >> grow\n",
      "in >> in\n",
      "the >> the\n",
      "years >> year\n",
      "to >> to\n",
      "come >> come\n"
     ]
    }
   ],
   "source": [
    "for i in tokens:\n",
    "    print(i, \">>\", Lem.lemmatize(i))"
   ]
  },
  {
   "cell_type": "markdown",
   "id": "d993bcd6-eef9-452c-83c0-6d523e40aabf",
   "metadata": {},
   "source": [
    "### N-grams\n",
    "Occurances of neighboring *n* number of tokens (1 = unigram, 2=bigram, trigram, etc)"
   ]
  },
  {
   "cell_type": "code",
   "execution_count": 86,
   "id": "33c06e93-05e2-403e-88ad-8315a6e1daaf",
   "metadata": {},
   "outputs": [],
   "source": [
    "import nltk\n",
    "import pandas as pd\n",
    "import matplotlib.pyplot as plot"
   ]
  },
  {
   "cell_type": "code",
   "execution_count": 87,
   "id": "edbbe5fe-bde3-47c0-9816-ca8a140e82b4",
   "metadata": {},
   "outputs": [
    {
     "name": "stdout",
     "output_type": "stream",
     "text": [
      "['the', 'rise', 'of', 'artificial', 'intelligence', 'has', 'led', 'to', 'significant', 'advancements', 'in', 'natural', 'language', 'processing', 'computer', 'vision', 'and', 'other', 'fields', 'machine', 'learning', 'algorithms', 'are', 'becoming', 'more', 'sophisticated', 'enabling', 'computers', 'to', 'perform', 'complex', 'tasks', 'that', 'were', 'once', 'thought', 'to', 'be', 'the', 'exclusive', 'domain', 'of', 'humans', 'with', 'the', 'advent', 'of', 'deep', 'learning', 'neural', 'networks', 'have', 'become', 'even', 'more', 'powerful', 'capable', 'of', 'processing', 'vast', 'amounts', 'of', 'data', 'and', 'learning', 'from', 'it', 'in', 'ways', 'that', 'were', 'not', 'possible', 'before', 'as', 'a', 'result', 'ai', 'is', 'increasingly', 'being', 'used', 'in', 'a', 'wide', 'range', 'of', 'industries', 'from', 'healthcare', 'to', 'finance', 'to', 'transportation', 'and', 'its', 'impact', 'is', 'only', 'set', 'to', 'grow', 'in', 'the', 'years', 'to', 'come']\n"
     ]
    }
   ],
   "source": [
    "tokens = ['the', 'rise', 'of', 'artificial', 'intelligence', 'has', 'led', 'to', 'significant', 'advancements', 'in', 'natural', 'language', 'processing', 'computer', 'vision', 'and', 'other', 'fields', 'machine', 'learning', 'algorithms', 'are', 'becoming', 'more', 'sophisticated', 'enabling', 'computers', 'to', 'perform', 'complex', 'tasks', 'that', 'were', 'once', 'thought', 'to', 'be', 'the', 'exclusive', 'domain', 'of', 'humans', 'with', 'the', 'advent', 'of', 'deep', 'learning', 'neural', 'networks', 'have', 'become', 'even', 'more', 'powerful', 'capable', 'of', 'processing', 'vast', 'amounts', 'of', 'data', 'and', 'learning', 'from', 'it', 'in', 'ways', 'that', 'were', 'not', 'possible', 'before', 'as', 'a', 'result', 'ai', 'is', 'increasingly', 'being', 'used', 'in', 'a', 'wide', 'range', 'of', 'industries', 'from', 'healthcare', 'to', 'finance', 'to', 'transportation', 'and', 'its', 'impact', 'is', 'only', 'set', 'to', 'grow', 'in', 'the', 'years', 'to', 'come']\n",
    "print(tokens)"
   ]
  },
  {
   "cell_type": "code",
   "execution_count": 88,
   "id": "e31e38cc-1dad-4b55-b422-4d884782b34a",
   "metadata": {},
   "outputs": [
    {
     "name": "stdout",
     "output_type": "stream",
     "text": [
      "(to,)          7\n",
      "(of,)          6\n",
      "(the,)         4\n",
      "(in,)          4\n",
      "(learning,)    3\n",
      "              ..\n",
      "(humans,)      1\n",
      "(rise,)        1\n",
      "(advent,)      1\n",
      "(deep,)        1\n",
      "(come,)        1\n",
      "Name: count, Length: 79, dtype: int64\n"
     ]
    }
   ],
   "source": [
    "unigrams = (pd.Series(nltk.ngrams(tokens,1)).value_counts())\n",
    "print(unigrams)"
   ]
  },
  {
   "cell_type": "code",
   "execution_count": 89,
   "id": "29f98269-28a8-44bb-ba1e-4935c13070e2",
   "metadata": {},
   "outputs": [],
   "source": [
    "# print(nltk.ngrams(tokens,1))\n",
    "# print(pd.Series(nltk.ngrams(tokens,1)))"
   ]
  },
  {
   "cell_type": "code",
   "execution_count": 90,
   "id": "5bd2b838-d107-4031-bb7c-6ad851ef8077",
   "metadata": {},
   "outputs": [
    {
     "data": {
      "text/plain": [
       "(to,)          7\n",
       "(of,)          6\n",
       "(the,)         4\n",
       "(in,)          4\n",
       "(learning,)    3\n",
       "(and,)         3\n",
       "(from,)        2\n",
       "(more,)        2\n",
       "(is,)          2\n",
       "(that,)        2\n",
       "Name: count, dtype: int64"
      ]
     },
     "execution_count": 90,
     "metadata": {},
     "output_type": "execute_result"
    }
   ],
   "source": [
    "unigrams[:10]\n"
   ]
  },
  {
   "cell_type": "code",
   "execution_count": 91,
   "id": "33256c6f-58fb-4692-a4a0-b7db5bf5c815",
   "metadata": {},
   "outputs": [
    {
     "data": {
      "text/plain": [
       "Text(0.5, 1.0, 'Most frequently occurring tokens')"
      ]
     },
     "execution_count": 91,
     "metadata": {},
     "output_type": "execute_result"
    },
    {
     "data": {
      "image/png": "[encoded data removed]",
      "text/plain": [
       "<Figure size 500x400 with 1 Axes>"
      ]
     },
     "metadata": {},
     "output_type": "display_data"
    }
   ],
   "source": [
    "unigrams[:10].sort_values().plot.barh(color='orange', width=0.5, figsize=(5,4))\n",
    "plot.title(\"Most frequently occurring tokens\")"
   ]
  },
  {
   "cell_type": "code",
   "execution_count": 92,
   "id": "13bb945a-4e61-4c05-8ae5-1b9871251626",
   "metadata": {},
   "outputs": [
    {
     "data": {
      "text/plain": [
       "Text(0.5, 1.0, 'Most frequently occurring bigrams')"
      ]
     },
     "execution_count": 92,
     "metadata": {},
     "output_type": "execute_result"
    },
    {
     "data": {
      "image/png": "[encoded data removed]",
      "text/plain": [
       "<Figure size 500x400 with 1 Axes>"
      ]
     },
     "metadata": {},
     "output_type": "display_data"
    }
   ],
   "source": [
    "bigrams = (pd.Series(nltk.ngrams(tokens,2)).value_counts())\n",
    "\n",
    "bigrams[:10].sort_values().plot.barh(color='blue', width=.5, figsize=(5,4))\n",
    "plot.title(\"Most frequently occurring bigrams\")"
   ]
  },
  {
   "cell_type": "markdown",
   "id": "3a480c42-5c0c-4ad2-aab4-099f7f20dc74",
   "metadata": {},
   "source": [
    "### Section 21: Practical Test"
   ]
  },
  {
   "cell_type": "code",
   "execution_count": 93,
   "id": "9cfa0d4f-ed35-4fde-93e4-b1821651f03f",
   "metadata": {},
   "outputs": [],
   "source": [
    "import nltk\n",
    "from nltk.tokenize import word_tokenize\n",
    "from nltk.stem import PorterStemmer, WordNetLemmatizer\n",
    "from nltk.corpus import stopwords\n",
    "import re\n",
    "import pandas as pd"
   ]
  },
  {
   "cell_type": "code",
   "execution_count": 94,
   "id": "f3359ab3-6c2c-4ff6-9682-b8a6e3c2fcfd",
   "metadata": {},
   "outputs": [
    {
     "name": "stdout",
     "output_type": "stream",
     "text": [
      "                                               Review  Rating\n",
      "34  good place spending big bucks warwick plenty c...       4\n"
     ]
    }
   ],
   "source": [
    "data = pd.read_csv('tripadvisor_hotel_reviews.csv')\n",
    "print(data.sample())"
   ]
  },
  {
   "cell_type": "code",
   "execution_count": 95,
   "id": "91415fca-df39-4ca6-acae-c0ff99c72173",
   "metadata": {},
   "outputs": [
    {
     "name": "stdout",
     "output_type": "stream",
     "text": [
      "<class 'pandas.core.frame.DataFrame'>\n",
      "RangeIndex: 109 entries, 0 to 108\n",
      "Data columns (total 2 columns):\n",
      " #   Column  Non-Null Count  Dtype \n",
      "---  ------  --------------  ----- \n",
      " 0   Review  109 non-null    object\n",
      " 1   Rating  109 non-null    int64 \n",
      "dtypes: int64(1), object(1)\n",
      "memory usage: 1.8+ KB\n",
      "None\n"
     ]
    }
   ],
   "source": [
    "print(data.info())"
   ]
  },
  {
   "cell_type": "code",
   "execution_count": 96,
   "id": "9fc5b5a6-dabc-407d-9a65-4949cb32b7ed",
   "metadata": {},
   "outputs": [
    {
     "data": {
      "text/html": [
       "<div>\n",
       "<style scoped>\n",
       "    .dataframe tbody tr th:only-of-type {\n",
       "        vertical-align: middle;\n",
       "    }\n",
       "\n",
       "    .dataframe tbody tr th {\n",
       "        vertical-align: top;\n",
       "    }\n",
       "\n",
       "    .dataframe thead th {\n",
       "        text-align: right;\n",
       "    }\n",
       "</style>\n",
       "<table border=\"1\" class=\"dataframe\">\n",
       "  <thead>\n",
       "    <tr style=\"text-align: right;\">\n",
       "      <th></th>\n",
       "      <th>Review</th>\n",
       "      <th>Rating</th>\n",
       "    </tr>\n",
       "  </thead>\n",
       "  <tbody>\n",
       "    <tr>\n",
       "      <th>0</th>\n",
       "      <td>nice hotel expensive parking got good deal sta...</td>\n",
       "      <td>4</td>\n",
       "    </tr>\n",
       "    <tr>\n",
       "      <th>1</th>\n",
       "      <td>ok nothing special charge diamond member hilto...</td>\n",
       "      <td>2</td>\n",
       "    </tr>\n",
       "    <tr>\n",
       "      <th>2</th>\n",
       "      <td>nice rooms not 4* experience hotel monaco seat...</td>\n",
       "      <td>3</td>\n",
       "    </tr>\n",
       "    <tr>\n",
       "      <th>3</th>\n",
       "      <td>unique, great stay, wonderful time hotel monac...</td>\n",
       "      <td>5</td>\n",
       "    </tr>\n",
       "    <tr>\n",
       "      <th>4</th>\n",
       "      <td>great stay great stay, went seahawk game aweso...</td>\n",
       "      <td>5</td>\n",
       "    </tr>\n",
       "  </tbody>\n",
       "</table>\n",
       "</div>"
      ],
      "text/plain": [
       "                                              Review  Rating\n",
       "0  nice hotel expensive parking got good deal sta...       4\n",
       "1  ok nothing special charge diamond member hilto...       2\n",
       "2  nice rooms not 4* experience hotel monaco seat...       3\n",
       "3  unique, great stay, wonderful time hotel monac...       5\n",
       "4  great stay great stay, went seahawk game aweso...       5"
      ]
     },
     "execution_count": 96,
     "metadata": {},
     "output_type": "execute_result"
    }
   ],
   "source": [
    "data.head()"
   ]
  },
  {
   "cell_type": "code",
   "execution_count": 97,
   "id": "f0a14cfa-df18-48df-b2a2-187d96fed408",
   "metadata": {},
   "outputs": [
    {
     "data": {
      "text/plain": [
       "'nice hotel expensive parking got good deal stay hotel anniversary, arrived late evening took advice previous reviews did valet parking, check quick easy, little disappointed non-existent view room room clean nice size, bed comfortable woke stiff neck high pillows, not soundproof like heard music room night morning loud bangs doors opening closing hear people talking hallway, maybe just noisy neighbors, aveda bath products nice, did not goldfish stay nice touch taken advantage staying longer, location great walking distance shopping, overall nice experience having pay 40 parking night,  '"
      ]
     },
     "execution_count": 97,
     "metadata": {},
     "output_type": "execute_result"
    }
   ],
   "source": [
    "data['Review'][0]"
   ]
  },
  {
   "cell_type": "code",
   "execution_count": 98,
   "id": "e17b2871-3936-47a7-af29-0f3c436ec7a9",
   "metadata": {},
   "outputs": [],
   "source": [
    "# data['lower_review'] = data['Review'].lower() # this fails due to the object still being a panda \"Series\" object\n",
    "\n",
    "data['lower_review'] = data['Review'].str.lower() # inserts a new column into the DF "
   ]
  },
  {
   "cell_type": "code",
   "execution_count": 99,
   "id": "e8800acf-3458-44c1-a168-86069584d368",
   "metadata": {},
   "outputs": [
    {
     "data": {
      "text/html": [
       "<div>\n",
       "<style scoped>\n",
       "    .dataframe tbody tr th:only-of-type {\n",
       "        vertical-align: middle;\n",
       "    }\n",
       "\n",
       "    .dataframe tbody tr th {\n",
       "        vertical-align: top;\n",
       "    }\n",
       "\n",
       "    .dataframe thead th {\n",
       "        text-align: right;\n",
       "    }\n",
       "</style>\n",
       "<table border=\"1\" class=\"dataframe\">\n",
       "  <thead>\n",
       "    <tr style=\"text-align: right;\">\n",
       "      <th></th>\n",
       "      <th>Review</th>\n",
       "      <th>Rating</th>\n",
       "      <th>lower_review</th>\n",
       "    </tr>\n",
       "  </thead>\n",
       "  <tbody>\n",
       "    <tr>\n",
       "      <th>0</th>\n",
       "      <td>nice hotel expensive parking got good deal sta...</td>\n",
       "      <td>4</td>\n",
       "      <td>nice hotel expensive parking got good deal sta...</td>\n",
       "    </tr>\n",
       "    <tr>\n",
       "      <th>1</th>\n",
       "      <td>ok nothing special charge diamond member hilto...</td>\n",
       "      <td>2</td>\n",
       "      <td>ok nothing special charge diamond member hilto...</td>\n",
       "    </tr>\n",
       "    <tr>\n",
       "      <th>2</th>\n",
       "      <td>nice rooms not 4* experience hotel monaco seat...</td>\n",
       "      <td>3</td>\n",
       "      <td>nice rooms not 4* experience hotel monaco seat...</td>\n",
       "    </tr>\n",
       "    <tr>\n",
       "      <th>3</th>\n",
       "      <td>unique, great stay, wonderful time hotel monac...</td>\n",
       "      <td>5</td>\n",
       "      <td>unique, great stay, wonderful time hotel monac...</td>\n",
       "    </tr>\n",
       "    <tr>\n",
       "      <th>4</th>\n",
       "      <td>great stay great stay, went seahawk game aweso...</td>\n",
       "      <td>5</td>\n",
       "      <td>great stay great stay, went seahawk game aweso...</td>\n",
       "    </tr>\n",
       "  </tbody>\n",
       "</table>\n",
       "</div>"
      ],
      "text/plain": [
       "                                              Review  Rating  \\\n",
       "0  nice hotel expensive parking got good deal sta...       4   \n",
       "1  ok nothing special charge diamond member hilto...       2   \n",
       "2  nice rooms not 4* experience hotel monaco seat...       3   \n",
       "3  unique, great stay, wonderful time hotel monac...       5   \n",
       "4  great stay great stay, went seahawk game aweso...       5   \n",
       "\n",
       "                                        lower_review  \n",
       "0  nice hotel expensive parking got good deal sta...  \n",
       "1  ok nothing special charge diamond member hilto...  \n",
       "2  nice rooms not 4* experience hotel monaco seat...  \n",
       "3  unique, great stay, wonderful time hotel monac...  \n",
       "4  great stay great stay, went seahawk game aweso...  "
      ]
     },
     "execution_count": 99,
     "metadata": {},
     "output_type": "execute_result"
    }
   ],
   "source": [
    "data.head()"
   ]
  },
  {
   "cell_type": "code",
   "execution_count": 100,
   "id": "633cf21d-6d70-4af9-adb7-5b5543db0918",
   "metadata": {},
   "outputs": [
    {
     "name": "stdout",
     "output_type": "stream",
     "text": [
      "['i', 'me', 'my', 'myself', 'we', 'our', 'ours', 'ourselves', 'you', \"you're\", \"you've\", \"you'll\", \"you'd\", 'your', 'yours', 'yourself', 'yourselves', 'he', 'him', 'his', 'himself', 'she', \"she's\", 'her', 'hers', 'herself', 'it', \"it's\", 'its', 'itself', 'they', 'them', 'their', 'theirs', 'themselves', 'what', 'which', 'who', 'whom', 'this', 'that', \"that'll\", 'these', 'those', 'am', 'is', 'are', 'was', 'were', 'be', 'been', 'being', 'have', 'has', 'had', 'having', 'do', 'does', 'did', 'doing', 'a', 'an', 'the', 'and', 'but', 'if', 'or', 'because', 'as', 'until', 'while', 'of', 'at', 'by', 'for', 'with', 'about', 'against', 'between', 'into', 'through', 'during', 'before', 'after', 'above', 'below', 'to', 'from', 'up', 'down', 'in', 'out', 'on', 'off', 'over', 'under', 'again', 'further', 'then', 'once', 'here', 'there', 'when', 'where', 'why', 'how', 'all', 'any', 'both', 'each', 'few', 'more', 'most', 'other', 'some', 'such', 'no', 'nor', 'only', 'own', 'same', 'so', 'than', 'too', 'very', 's', 't', 'can', 'will', 'just', 'don', \"don't\", 'should', \"should've\", 'now', 'd', 'll', 'm', 'o', 're', 've', 'y', 'ain', 'aren', \"aren't\", 'couldn', \"couldn't\", 'didn', \"didn't\", 'doesn', \"doesn't\", 'hadn', \"hadn't\", 'hasn', \"hasn't\", 'haven', \"haven't\", 'isn', \"isn't\", 'ma', 'mightn', \"mightn't\", 'mustn', \"mustn't\", 'needn', \"needn't\", 'shan', \"shan't\", 'shouldn', \"shouldn't\", 'wasn', \"wasn't\", 'weren', \"weren't\", 'won', \"won't\", 'wouldn', \"wouldn't\"]\n"
     ]
    }
   ],
   "source": [
    "en_stopwords = stopwords.words('english') # create our initial stopwords list\n",
    "en_stopwords.remove('not') # remove not from them\n",
    "print(en_stopwords)"
   ]
  },
  {
   "cell_type": "code",
   "execution_count": 101,
   "id": "0b4256a8-4931-41b3-a850-c240a1feaa71",
   "metadata": {},
   "outputs": [],
   "source": [
    "# the panda Series .apply() method runs a function against the series\n",
    "# https://pandas.pydata.org/docs/reference/api/pandas.Series.apply.html\n",
    "\n",
    "# the \"lamda x\" here is called a lambda function basically a short, throwaway function\n",
    "# https://www.geeksforgeeks.org/python-lambda-anonymous-functions-filter-map-reduce/\n",
    "data['review_no_stopwords']=data['lower_review'].apply(lambda x: ' '.join([word for word in x.split() if word not in en_stopwords]))"
   ]
  },
  {
   "cell_type": "code",
   "execution_count": 102,
   "id": "2e50eada-278d-4e8e-a472-369d7592fcaf",
   "metadata": {},
   "outputs": [
    {
     "data": {
      "text/html": [
       "<div>\n",
       "<style scoped>\n",
       "    .dataframe tbody tr th:only-of-type {\n",
       "        vertical-align: middle;\n",
       "    }\n",
       "\n",
       "    .dataframe tbody tr th {\n",
       "        vertical-align: top;\n",
       "    }\n",
       "\n",
       "    .dataframe thead th {\n",
       "        text-align: right;\n",
       "    }\n",
       "</style>\n",
       "<table border=\"1\" class=\"dataframe\">\n",
       "  <thead>\n",
       "    <tr style=\"text-align: right;\">\n",
       "      <th></th>\n",
       "      <th>Review</th>\n",
       "      <th>Rating</th>\n",
       "      <th>lower_review</th>\n",
       "      <th>review_no_stopwords</th>\n",
       "    </tr>\n",
       "  </thead>\n",
       "  <tbody>\n",
       "    <tr>\n",
       "      <th>65</th>\n",
       "      <td>hated inn terrible, room-service horrible staf...</td>\n",
       "      <td>1</td>\n",
       "      <td>hated inn terrible, room-service horrible staf...</td>\n",
       "      <td>hated inn terrible, room-service horrible staf...</td>\n",
       "    </tr>\n",
       "    <tr>\n",
       "      <th>27</th>\n",
       "      <td>met expectations centrally located hotel block...</td>\n",
       "      <td>3</td>\n",
       "      <td>met expectations centrally located hotel block...</td>\n",
       "      <td>met expectations centrally located hotel block...</td>\n",
       "    </tr>\n",
       "    <tr>\n",
       "      <th>80</th>\n",
       "      <td>priority award floor, 32 member hilton honors ...</td>\n",
       "      <td>2</td>\n",
       "      <td>priority award floor, 32 member hilton honors ...</td>\n",
       "      <td>priority award floor, 32 member hilton honors ...</td>\n",
       "    </tr>\n",
       "    <tr>\n",
       "      <th>40</th>\n",
       "      <td>bad choice, booked hotel hot wire called immed...</td>\n",
       "      <td>1</td>\n",
       "      <td>bad choice, booked hotel hot wire called immed...</td>\n",
       "      <td>bad choice, booked hotel hot wire called immed...</td>\n",
       "    </tr>\n",
       "    <tr>\n",
       "      <th>57</th>\n",
       "      <td>boutique charmer great location wife recently ...</td>\n",
       "      <td>5</td>\n",
       "      <td>boutique charmer great location wife recently ...</td>\n",
       "      <td>boutique charmer great location wife recently ...</td>\n",
       "    </tr>\n",
       "  </tbody>\n",
       "</table>\n",
       "</div>"
      ],
      "text/plain": [
       "                                               Review  Rating  \\\n",
       "65  hated inn terrible, room-service horrible staf...       1   \n",
       "27  met expectations centrally located hotel block...       3   \n",
       "80  priority award floor, 32 member hilton honors ...       2   \n",
       "40  bad choice, booked hotel hot wire called immed...       1   \n",
       "57  boutique charmer great location wife recently ...       5   \n",
       "\n",
       "                                         lower_review  \\\n",
       "65  hated inn terrible, room-service horrible staf...   \n",
       "27  met expectations centrally located hotel block...   \n",
       "80  priority award floor, 32 member hilton honors ...   \n",
       "40  bad choice, booked hotel hot wire called immed...   \n",
       "57  boutique charmer great location wife recently ...   \n",
       "\n",
       "                                  review_no_stopwords  \n",
       "65  hated inn terrible, room-service horrible staf...  \n",
       "27  met expectations centrally located hotel block...  \n",
       "80  priority award floor, 32 member hilton honors ...  \n",
       "40  bad choice, booked hotel hot wire called immed...  \n",
       "57  boutique charmer great location wife recently ...  "
      ]
     },
     "execution_count": 102,
     "metadata": {},
     "output_type": "execute_result"
    }
   ],
   "source": [
    "data.sample(5)"
   ]
  },
  {
   "cell_type": "code",
   "execution_count": 103,
   "id": "f9f90ffc-487a-44bf-8f32-ab1b0fe2b098",
   "metadata": {},
   "outputs": [
    {
     "data": {
      "text/plain": [
       "'nice hotel expensive parking got good deal stay hotel anniversary, arrived late evening took advice previous reviews valet parking, check quick easy, little disappointed non-existent view room room clean nice size, bed comfortable woke stiff neck high pillows, not soundproof like heard music room night morning loud bangs doors opening closing hear people talking hallway, maybe noisy neighbors, aveda bath products nice, not goldfish stay nice touch taken advantage staying longer, location great walking distance shopping, overall nice experience pay 40 parking night,'"
      ]
     },
     "execution_count": 103,
     "metadata": {},
     "output_type": "execute_result"
    }
   ],
   "source": [
    "data['review_no_stopwords'][0]"
   ]
  },
  {
   "cell_type": "code",
   "execution_count": 104,
   "id": "5acaa130-1d2d-4381-a26b-fcd4c3a4bfb2",
   "metadata": {},
   "outputs": [
    {
     "name": "stdout",
     "output_type": "stream",
     "text": [
      "593\n",
      "571\n"
     ]
    }
   ],
   "source": [
    "print(len(data['lower_review'][0]))\n",
    "print(len(data['review_no_stopwords'][0]))"
   ]
  },
  {
   "cell_type": "code",
   "execution_count": null,
   "id": "8b20add7",
   "metadata": {},
   "outputs": [],
   "source": []
  },
  {
   "cell_type": "markdown",
   "id": "79c0245b-da11-4330-a02b-159f048bbe99",
   "metadata": {},
   "source": [
    "Let's remove the punctuation next\n",
    "\n",
    "---"
   ]
  },
  {
   "cell_type": "code",
   "execution_count": 105,
   "id": "17d18bb7-3231-43c4-85f6-9d2686459513",
   "metadata": {},
   "outputs": [],
   "source": [
    "data['no_punc'] = data['review_no_stopwords'].apply(lambda x: re.sub(r\"[*]\", \"star\", x) )\n",
    "## testing removal of the * for stars"
   ]
  },
  {
   "cell_type": "code",
   "execution_count": 106,
   "id": "9d6e4bbf-d320-4211-a83a-2db1829dcb0b",
   "metadata": {},
   "outputs": [
    {
     "data": {
      "text/html": [
       "<div>\n",
       "<style scoped>\n",
       "    .dataframe tbody tr th:only-of-type {\n",
       "        vertical-align: middle;\n",
       "    }\n",
       "\n",
       "    .dataframe tbody tr th {\n",
       "        vertical-align: top;\n",
       "    }\n",
       "\n",
       "    .dataframe thead th {\n",
       "        text-align: right;\n",
       "    }\n",
       "</style>\n",
       "<table border=\"1\" class=\"dataframe\">\n",
       "  <thead>\n",
       "    <tr style=\"text-align: right;\">\n",
       "      <th></th>\n",
       "      <th>Review</th>\n",
       "      <th>Rating</th>\n",
       "      <th>lower_review</th>\n",
       "      <th>review_no_stopwords</th>\n",
       "      <th>no_punc</th>\n",
       "    </tr>\n",
       "  </thead>\n",
       "  <tbody>\n",
       "    <tr>\n",
       "      <th>0</th>\n",
       "      <td>nice hotel expensive parking got good deal sta...</td>\n",
       "      <td>4</td>\n",
       "      <td>nice hotel expensive parking got good deal sta...</td>\n",
       "      <td>nice hotel expensive parking got good deal sta...</td>\n",
       "      <td>nice hotel expensive parking got good deal sta...</td>\n",
       "    </tr>\n",
       "    <tr>\n",
       "      <th>1</th>\n",
       "      <td>ok nothing special charge diamond member hilto...</td>\n",
       "      <td>2</td>\n",
       "      <td>ok nothing special charge diamond member hilto...</td>\n",
       "      <td>ok nothing special charge diamond member hilto...</td>\n",
       "      <td>ok nothing special charge diamond member hilto...</td>\n",
       "    </tr>\n",
       "    <tr>\n",
       "      <th>2</th>\n",
       "      <td>nice rooms not 4* experience hotel monaco seat...</td>\n",
       "      <td>3</td>\n",
       "      <td>nice rooms not 4* experience hotel monaco seat...</td>\n",
       "      <td>nice rooms not 4* experience hotel monaco seat...</td>\n",
       "      <td>nice rooms not 4star experience hotel monaco s...</td>\n",
       "    </tr>\n",
       "    <tr>\n",
       "      <th>3</th>\n",
       "      <td>unique, great stay, wonderful time hotel monac...</td>\n",
       "      <td>5</td>\n",
       "      <td>unique, great stay, wonderful time hotel monac...</td>\n",
       "      <td>unique, great stay, wonderful time hotel monac...</td>\n",
       "      <td>unique, great stay, wonderful time hotel monac...</td>\n",
       "    </tr>\n",
       "    <tr>\n",
       "      <th>4</th>\n",
       "      <td>great stay great stay, went seahawk game aweso...</td>\n",
       "      <td>5</td>\n",
       "      <td>great stay great stay, went seahawk game aweso...</td>\n",
       "      <td>great stay great stay, went seahawk game aweso...</td>\n",
       "      <td>great stay great stay, went seahawk game aweso...</td>\n",
       "    </tr>\n",
       "  </tbody>\n",
       "</table>\n",
       "</div>"
      ],
      "text/plain": [
       "                                              Review  Rating  \\\n",
       "0  nice hotel expensive parking got good deal sta...       4   \n",
       "1  ok nothing special charge diamond member hilto...       2   \n",
       "2  nice rooms not 4* experience hotel monaco seat...       3   \n",
       "3  unique, great stay, wonderful time hotel monac...       5   \n",
       "4  great stay great stay, went seahawk game aweso...       5   \n",
       "\n",
       "                                        lower_review  \\\n",
       "0  nice hotel expensive parking got good deal sta...   \n",
       "1  ok nothing special charge diamond member hilto...   \n",
       "2  nice rooms not 4* experience hotel monaco seat...   \n",
       "3  unique, great stay, wonderful time hotel monac...   \n",
       "4  great stay great stay, went seahawk game aweso...   \n",
       "\n",
       "                                 review_no_stopwords  \\\n",
       "0  nice hotel expensive parking got good deal sta...   \n",
       "1  ok nothing special charge diamond member hilto...   \n",
       "2  nice rooms not 4* experience hotel monaco seat...   \n",
       "3  unique, great stay, wonderful time hotel monac...   \n",
       "4  great stay great stay, went seahawk game aweso...   \n",
       "\n",
       "                                             no_punc  \n",
       "0  nice hotel expensive parking got good deal sta...  \n",
       "1  ok nothing special charge diamond member hilto...  \n",
       "2  nice rooms not 4star experience hotel monaco s...  \n",
       "3  unique, great stay, wonderful time hotel monac...  \n",
       "4  great stay great stay, went seahawk game aweso...  "
      ]
     },
     "execution_count": 106,
     "metadata": {},
     "output_type": "execute_result"
    }
   ],
   "source": [
    "data.head()"
   ]
  },
  {
   "cell_type": "code",
   "execution_count": 107,
   "id": "a4277c83-b586-44a1-9c51-4ec39f58dcaa",
   "metadata": {},
   "outputs": [],
   "source": [
    "data['no_punc'] = data['no_punc'].apply(lambda x: re.sub(r\"([^\\w\\s])\", \"\", x) )"
   ]
  },
  {
   "cell_type": "code",
   "execution_count": 108,
   "id": "029c0072-baba-46fe-88c1-303303d70b6f",
   "metadata": {},
   "outputs": [
    {
     "data": {
      "text/html": [
       "<div>\n",
       "<style scoped>\n",
       "    .dataframe tbody tr th:only-of-type {\n",
       "        vertical-align: middle;\n",
       "    }\n",
       "\n",
       "    .dataframe tbody tr th {\n",
       "        vertical-align: top;\n",
       "    }\n",
       "\n",
       "    .dataframe thead th {\n",
       "        text-align: right;\n",
       "    }\n",
       "</style>\n",
       "<table border=\"1\" class=\"dataframe\">\n",
       "  <thead>\n",
       "    <tr style=\"text-align: right;\">\n",
       "      <th></th>\n",
       "      <th>Review</th>\n",
       "      <th>Rating</th>\n",
       "      <th>lower_review</th>\n",
       "      <th>review_no_stopwords</th>\n",
       "      <th>no_punc</th>\n",
       "    </tr>\n",
       "  </thead>\n",
       "  <tbody>\n",
       "    <tr>\n",
       "      <th>39</th>\n",
       "      <td>average nice stay hotel amazing location great...</td>\n",
       "      <td>4</td>\n",
       "      <td>average nice stay hotel amazing location great...</td>\n",
       "      <td>average nice stay hotel amazing location great...</td>\n",
       "      <td>average nice stay hotel amazing location great...</td>\n",
       "    </tr>\n",
       "    <tr>\n",
       "      <th>15</th>\n",
       "      <td>horrible customer service hotel stay february ...</td>\n",
       "      <td>1</td>\n",
       "      <td>horrible customer service hotel stay february ...</td>\n",
       "      <td>horrible customer service hotel stay february ...</td>\n",
       "      <td>horrible customer service hotel stay february ...</td>\n",
       "    </tr>\n",
       "    <tr>\n",
       "      <th>1</th>\n",
       "      <td>ok nothing special charge diamond member hilto...</td>\n",
       "      <td>2</td>\n",
       "      <td>ok nothing special charge diamond member hilto...</td>\n",
       "      <td>ok nothing special charge diamond member hilto...</td>\n",
       "      <td>ok nothing special charge diamond member hilto...</td>\n",
       "    </tr>\n",
       "    <tr>\n",
       "      <th>40</th>\n",
       "      <td>bad choice, booked hotel hot wire called immed...</td>\n",
       "      <td>1</td>\n",
       "      <td>bad choice, booked hotel hot wire called immed...</td>\n",
       "      <td>bad choice, booked hotel hot wire called immed...</td>\n",
       "      <td>bad choice booked hotel hot wire called immedi...</td>\n",
       "    </tr>\n",
       "    <tr>\n",
       "      <th>67</th>\n",
       "      <td>ace not place husband stayed ace hotel seattle...</td>\n",
       "      <td>3</td>\n",
       "      <td>ace not place husband stayed ace hotel seattle...</td>\n",
       "      <td>ace not place husband stayed ace hotel seattle...</td>\n",
       "      <td>ace not place husband stayed ace hotel seattle...</td>\n",
       "    </tr>\n",
       "  </tbody>\n",
       "</table>\n",
       "</div>"
      ],
      "text/plain": [
       "                                               Review  Rating  \\\n",
       "39  average nice stay hotel amazing location great...       4   \n",
       "15  horrible customer service hotel stay february ...       1   \n",
       "1   ok nothing special charge diamond member hilto...       2   \n",
       "40  bad choice, booked hotel hot wire called immed...       1   \n",
       "67  ace not place husband stayed ace hotel seattle...       3   \n",
       "\n",
       "                                         lower_review  \\\n",
       "39  average nice stay hotel amazing location great...   \n",
       "15  horrible customer service hotel stay february ...   \n",
       "1   ok nothing special charge diamond member hilto...   \n",
       "40  bad choice, booked hotel hot wire called immed...   \n",
       "67  ace not place husband stayed ace hotel seattle...   \n",
       "\n",
       "                                  review_no_stopwords  \\\n",
       "39  average nice stay hotel amazing location great...   \n",
       "15  horrible customer service hotel stay february ...   \n",
       "1   ok nothing special charge diamond member hilto...   \n",
       "40  bad choice, booked hotel hot wire called immed...   \n",
       "67  ace not place husband stayed ace hotel seattle...   \n",
       "\n",
       "                                              no_punc  \n",
       "39  average nice stay hotel amazing location great...  \n",
       "15  horrible customer service hotel stay february ...  \n",
       "1   ok nothing special charge diamond member hilto...  \n",
       "40  bad choice booked hotel hot wire called immedi...  \n",
       "67  ace not place husband stayed ace hotel seattle...  "
      ]
     },
     "execution_count": 108,
     "metadata": {},
     "output_type": "execute_result"
    }
   ],
   "source": [
    "data.sample(5)"
   ]
  },
  {
   "cell_type": "code",
   "execution_count": 109,
   "id": "8ccf19e3-e1e6-4287-89c6-6ae70f05f8ca",
   "metadata": {},
   "outputs": [
    {
     "data": {
      "text/plain": [
       "'nice hotel expensive parking got good deal stay hotel anniversary arrived late evening took advice previous reviews valet parking check quick easy little disappointed nonexistent view room room clean nice size bed comfortable woke stiff neck high pillows not soundproof like heard music room night morning loud bangs doors opening closing hear people talking hallway maybe noisy neighbors aveda bath products nice not goldfish stay nice touch taken advantage staying longer location great walking distance shopping overall nice experience pay 40 parking night'"
      ]
     },
     "execution_count": 109,
     "metadata": {},
     "output_type": "execute_result"
    }
   ],
   "source": [
    "data['no_punc'][0]"
   ]
  },
  {
   "cell_type": "markdown",
   "id": "33a76921-ed4d-4f00-bd83-d21f70b961f4",
   "metadata": {},
   "source": [
    "-----\n",
    "okay now lets tokenize our cleaned data"
   ]
  },
  {
   "cell_type": "code",
   "execution_count": 110,
   "id": "a41415b6-e6af-40cf-ac6e-0e4a5dd3b4c0",
   "metadata": {},
   "outputs": [],
   "source": [
    "data['tokenized'] = data['no_punc'].apply(lambda x: word_tokenize(x))"
   ]
  },
  {
   "cell_type": "code",
   "execution_count": 111,
   "id": "afb6146f-7040-4dbf-95a2-7e098a8048e2",
   "metadata": {},
   "outputs": [
    {
     "data": {
      "text/html": [
       "<div>\n",
       "<style scoped>\n",
       "    .dataframe tbody tr th:only-of-type {\n",
       "        vertical-align: middle;\n",
       "    }\n",
       "\n",
       "    .dataframe tbody tr th {\n",
       "        vertical-align: top;\n",
       "    }\n",
       "\n",
       "    .dataframe thead th {\n",
       "        text-align: right;\n",
       "    }\n",
       "</style>\n",
       "<table border=\"1\" class=\"dataframe\">\n",
       "  <thead>\n",
       "    <tr style=\"text-align: right;\">\n",
       "      <th></th>\n",
       "      <th>Review</th>\n",
       "      <th>Rating</th>\n",
       "      <th>lower_review</th>\n",
       "      <th>review_no_stopwords</th>\n",
       "      <th>no_punc</th>\n",
       "      <th>tokenized</th>\n",
       "    </tr>\n",
       "  </thead>\n",
       "  <tbody>\n",
       "    <tr>\n",
       "      <th>0</th>\n",
       "      <td>nice hotel expensive parking got good deal sta...</td>\n",
       "      <td>4</td>\n",
       "      <td>nice hotel expensive parking got good deal sta...</td>\n",
       "      <td>nice hotel expensive parking got good deal sta...</td>\n",
       "      <td>nice hotel expensive parking got good deal sta...</td>\n",
       "      <td>[nice, hotel, expensive, parking, got, good, d...</td>\n",
       "    </tr>\n",
       "    <tr>\n",
       "      <th>1</th>\n",
       "      <td>ok nothing special charge diamond member hilto...</td>\n",
       "      <td>2</td>\n",
       "      <td>ok nothing special charge diamond member hilto...</td>\n",
       "      <td>ok nothing special charge diamond member hilto...</td>\n",
       "      <td>ok nothing special charge diamond member hilto...</td>\n",
       "      <td>[ok, nothing, special, charge, diamond, member...</td>\n",
       "    </tr>\n",
       "    <tr>\n",
       "      <th>2</th>\n",
       "      <td>nice rooms not 4* experience hotel monaco seat...</td>\n",
       "      <td>3</td>\n",
       "      <td>nice rooms not 4* experience hotel monaco seat...</td>\n",
       "      <td>nice rooms not 4* experience hotel monaco seat...</td>\n",
       "      <td>nice rooms not 4star experience hotel monaco s...</td>\n",
       "      <td>[nice, rooms, not, 4star, experience, hotel, m...</td>\n",
       "    </tr>\n",
       "    <tr>\n",
       "      <th>3</th>\n",
       "      <td>unique, great stay, wonderful time hotel monac...</td>\n",
       "      <td>5</td>\n",
       "      <td>unique, great stay, wonderful time hotel monac...</td>\n",
       "      <td>unique, great stay, wonderful time hotel monac...</td>\n",
       "      <td>unique great stay wonderful time hotel monaco ...</td>\n",
       "      <td>[unique, great, stay, wonderful, time, hotel, ...</td>\n",
       "    </tr>\n",
       "    <tr>\n",
       "      <th>4</th>\n",
       "      <td>great stay great stay, went seahawk game aweso...</td>\n",
       "      <td>5</td>\n",
       "      <td>great stay great stay, went seahawk game aweso...</td>\n",
       "      <td>great stay great stay, went seahawk game aweso...</td>\n",
       "      <td>great stay great stay went seahawk game awesom...</td>\n",
       "      <td>[great, stay, great, stay, went, seahawk, game...</td>\n",
       "    </tr>\n",
       "  </tbody>\n",
       "</table>\n",
       "</div>"
      ],
      "text/plain": [
       "                                              Review  Rating  \\\n",
       "0  nice hotel expensive parking got good deal sta...       4   \n",
       "1  ok nothing special charge diamond member hilto...       2   \n",
       "2  nice rooms not 4* experience hotel monaco seat...       3   \n",
       "3  unique, great stay, wonderful time hotel monac...       5   \n",
       "4  great stay great stay, went seahawk game aweso...       5   \n",
       "\n",
       "                                        lower_review  \\\n",
       "0  nice hotel expensive parking got good deal sta...   \n",
       "1  ok nothing special charge diamond member hilto...   \n",
       "2  nice rooms not 4* experience hotel monaco seat...   \n",
       "3  unique, great stay, wonderful time hotel monac...   \n",
       "4  great stay great stay, went seahawk game aweso...   \n",
       "\n",
       "                                 review_no_stopwords  \\\n",
       "0  nice hotel expensive parking got good deal sta...   \n",
       "1  ok nothing special charge diamond member hilto...   \n",
       "2  nice rooms not 4* experience hotel monaco seat...   \n",
       "3  unique, great stay, wonderful time hotel monac...   \n",
       "4  great stay great stay, went seahawk game aweso...   \n",
       "\n",
       "                                             no_punc  \\\n",
       "0  nice hotel expensive parking got good deal sta...   \n",
       "1  ok nothing special charge diamond member hilto...   \n",
       "2  nice rooms not 4star experience hotel monaco s...   \n",
       "3  unique great stay wonderful time hotel monaco ...   \n",
       "4  great stay great stay went seahawk game awesom...   \n",
       "\n",
       "                                           tokenized  \n",
       "0  [nice, hotel, expensive, parking, got, good, d...  \n",
       "1  [ok, nothing, special, charge, diamond, member...  \n",
       "2  [nice, rooms, not, 4star, experience, hotel, m...  \n",
       "3  [unique, great, stay, wonderful, time, hotel, ...  \n",
       "4  [great, stay, great, stay, went, seahawk, game...  "
      ]
     },
     "execution_count": 111,
     "metadata": {},
     "output_type": "execute_result"
    }
   ],
   "source": [
    "data.head()"
   ]
  },
  {
   "cell_type": "markdown",
   "id": "86f9f926-de60-4088-aa3f-badbbb812ca9",
   "metadata": {},
   "source": [
    "------\n",
    "\n",
    "now we'll stem it"
   ]
  },
  {
   "cell_type": "code",
   "execution_count": 112,
   "id": "d78d17eb-d374-45a6-b08a-dc23347eecda",
   "metadata": {},
   "outputs": [],
   "source": [
    "ps = PorterStemmer() # initialize stemmer\n",
    "data['stemmed']=data['tokenized'].apply(lambda x: [ps.stem(x) for x in x])"
   ]
  },
  {
   "cell_type": "code",
   "execution_count": 113,
   "id": "1a15e6e9-f50b-4680-bf4e-32c97e02c85f",
   "metadata": {},
   "outputs": [
    {
     "data": {
      "text/html": [
       "<div>\n",
       "<style scoped>\n",
       "    .dataframe tbody tr th:only-of-type {\n",
       "        vertical-align: middle;\n",
       "    }\n",
       "\n",
       "    .dataframe tbody tr th {\n",
       "        vertical-align: top;\n",
       "    }\n",
       "\n",
       "    .dataframe thead th {\n",
       "        text-align: right;\n",
       "    }\n",
       "</style>\n",
       "<table border=\"1\" class=\"dataframe\">\n",
       "  <thead>\n",
       "    <tr style=\"text-align: right;\">\n",
       "      <th></th>\n",
       "      <th>Review</th>\n",
       "      <th>Rating</th>\n",
       "      <th>lower_review</th>\n",
       "      <th>review_no_stopwords</th>\n",
       "      <th>no_punc</th>\n",
       "      <th>tokenized</th>\n",
       "      <th>stemmed</th>\n",
       "    </tr>\n",
       "  </thead>\n",
       "  <tbody>\n",
       "    <tr>\n",
       "      <th>0</th>\n",
       "      <td>nice hotel expensive parking got good deal sta...</td>\n",
       "      <td>4</td>\n",
       "      <td>nice hotel expensive parking got good deal sta...</td>\n",
       "      <td>nice hotel expensive parking got good deal sta...</td>\n",
       "      <td>nice hotel expensive parking got good deal sta...</td>\n",
       "      <td>[nice, hotel, expensive, parking, got, good, d...</td>\n",
       "      <td>[nice, hotel, expens, park, got, good, deal, s...</td>\n",
       "    </tr>\n",
       "    <tr>\n",
       "      <th>1</th>\n",
       "      <td>ok nothing special charge diamond member hilto...</td>\n",
       "      <td>2</td>\n",
       "      <td>ok nothing special charge diamond member hilto...</td>\n",
       "      <td>ok nothing special charge diamond member hilto...</td>\n",
       "      <td>ok nothing special charge diamond member hilto...</td>\n",
       "      <td>[ok, nothing, special, charge, diamond, member...</td>\n",
       "      <td>[ok, noth, special, charg, diamond, member, hi...</td>\n",
       "    </tr>\n",
       "    <tr>\n",
       "      <th>2</th>\n",
       "      <td>nice rooms not 4* experience hotel monaco seat...</td>\n",
       "      <td>3</td>\n",
       "      <td>nice rooms not 4* experience hotel monaco seat...</td>\n",
       "      <td>nice rooms not 4* experience hotel monaco seat...</td>\n",
       "      <td>nice rooms not 4star experience hotel monaco s...</td>\n",
       "      <td>[nice, rooms, not, 4star, experience, hotel, m...</td>\n",
       "      <td>[nice, room, not, 4star, experi, hotel, monaco...</td>\n",
       "    </tr>\n",
       "    <tr>\n",
       "      <th>3</th>\n",
       "      <td>unique, great stay, wonderful time hotel monac...</td>\n",
       "      <td>5</td>\n",
       "      <td>unique, great stay, wonderful time hotel monac...</td>\n",
       "      <td>unique, great stay, wonderful time hotel monac...</td>\n",
       "      <td>unique great stay wonderful time hotel monaco ...</td>\n",
       "      <td>[unique, great, stay, wonderful, time, hotel, ...</td>\n",
       "      <td>[uniqu, great, stay, wonder, time, hotel, mona...</td>\n",
       "    </tr>\n",
       "    <tr>\n",
       "      <th>4</th>\n",
       "      <td>great stay great stay, went seahawk game aweso...</td>\n",
       "      <td>5</td>\n",
       "      <td>great stay great stay, went seahawk game aweso...</td>\n",
       "      <td>great stay great stay, went seahawk game aweso...</td>\n",
       "      <td>great stay great stay went seahawk game awesom...</td>\n",
       "      <td>[great, stay, great, stay, went, seahawk, game...</td>\n",
       "      <td>[great, stay, great, stay, went, seahawk, game...</td>\n",
       "    </tr>\n",
       "  </tbody>\n",
       "</table>\n",
       "</div>"
      ],
      "text/plain": [
       "                                              Review  Rating  \\\n",
       "0  nice hotel expensive parking got good deal sta...       4   \n",
       "1  ok nothing special charge diamond member hilto...       2   \n",
       "2  nice rooms not 4* experience hotel monaco seat...       3   \n",
       "3  unique, great stay, wonderful time hotel monac...       5   \n",
       "4  great stay great stay, went seahawk game aweso...       5   \n",
       "\n",
       "                                        lower_review  \\\n",
       "0  nice hotel expensive parking got good deal sta...   \n",
       "1  ok nothing special charge diamond member hilto...   \n",
       "2  nice rooms not 4* experience hotel monaco seat...   \n",
       "3  unique, great stay, wonderful time hotel monac...   \n",
       "4  great stay great stay, went seahawk game aweso...   \n",
       "\n",
       "                                 review_no_stopwords  \\\n",
       "0  nice hotel expensive parking got good deal sta...   \n",
       "1  ok nothing special charge diamond member hilto...   \n",
       "2  nice rooms not 4* experience hotel monaco seat...   \n",
       "3  unique, great stay, wonderful time hotel monac...   \n",
       "4  great stay great stay, went seahawk game aweso...   \n",
       "\n",
       "                                             no_punc  \\\n",
       "0  nice hotel expensive parking got good deal sta...   \n",
       "1  ok nothing special charge diamond member hilto...   \n",
       "2  nice rooms not 4star experience hotel monaco s...   \n",
       "3  unique great stay wonderful time hotel monaco ...   \n",
       "4  great stay great stay went seahawk game awesom...   \n",
       "\n",
       "                                           tokenized  \\\n",
       "0  [nice, hotel, expensive, parking, got, good, d...   \n",
       "1  [ok, nothing, special, charge, diamond, member...   \n",
       "2  [nice, rooms, not, 4star, experience, hotel, m...   \n",
       "3  [unique, great, stay, wonderful, time, hotel, ...   \n",
       "4  [great, stay, great, stay, went, seahawk, game...   \n",
       "\n",
       "                                             stemmed  \n",
       "0  [nice, hotel, expens, park, got, good, deal, s...  \n",
       "1  [ok, noth, special, charg, diamond, member, hi...  \n",
       "2  [nice, room, not, 4star, experi, hotel, monaco...  \n",
       "3  [uniqu, great, stay, wonder, time, hotel, mona...  \n",
       "4  [great, stay, great, stay, went, seahawk, game...  "
      ]
     },
     "execution_count": 113,
     "metadata": {},
     "output_type": "execute_result"
    }
   ],
   "source": [
    "data.head()"
   ]
  },
  {
   "cell_type": "code",
   "execution_count": 114,
   "id": "74ec8bcd-90c9-4317-b23b-6279943ee1dc",
   "metadata": {},
   "outputs": [],
   "source": [
    "lemmatizer = WordNetLemmatizer()\n",
    "data['lemmatized']=data['tokenized'].apply(lambda x: [lemmatizer.lemmatize(x) for x in x])"
   ]
  },
  {
   "cell_type": "code",
   "execution_count": 115,
   "id": "4c41d685-86ad-4c39-aebb-46c5f6b21e2f",
   "metadata": {},
   "outputs": [
    {
     "data": {
      "text/html": [
       "<div>\n",
       "<style scoped>\n",
       "    .dataframe tbody tr th:only-of-type {\n",
       "        vertical-align: middle;\n",
       "    }\n",
       "\n",
       "    .dataframe tbody tr th {\n",
       "        vertical-align: top;\n",
       "    }\n",
       "\n",
       "    .dataframe thead th {\n",
       "        text-align: right;\n",
       "    }\n",
       "</style>\n",
       "<table border=\"1\" class=\"dataframe\">\n",
       "  <thead>\n",
       "    <tr style=\"text-align: right;\">\n",
       "      <th></th>\n",
       "      <th>Review</th>\n",
       "      <th>Rating</th>\n",
       "      <th>lower_review</th>\n",
       "      <th>review_no_stopwords</th>\n",
       "      <th>no_punc</th>\n",
       "      <th>tokenized</th>\n",
       "      <th>stemmed</th>\n",
       "      <th>lemmatized</th>\n",
       "    </tr>\n",
       "  </thead>\n",
       "  <tbody>\n",
       "    <tr>\n",
       "      <th>0</th>\n",
       "      <td>nice hotel expensive parking got good deal sta...</td>\n",
       "      <td>4</td>\n",
       "      <td>nice hotel expensive parking got good deal sta...</td>\n",
       "      <td>nice hotel expensive parking got good deal sta...</td>\n",
       "      <td>nice hotel expensive parking got good deal sta...</td>\n",
       "      <td>[nice, hotel, expensive, parking, got, good, d...</td>\n",
       "      <td>[nice, hotel, expens, park, got, good, deal, s...</td>\n",
       "      <td>[nice, hotel, expensive, parking, got, good, d...</td>\n",
       "    </tr>\n",
       "    <tr>\n",
       "      <th>1</th>\n",
       "      <td>ok nothing special charge diamond member hilto...</td>\n",
       "      <td>2</td>\n",
       "      <td>ok nothing special charge diamond member hilto...</td>\n",
       "      <td>ok nothing special charge diamond member hilto...</td>\n",
       "      <td>ok nothing special charge diamond member hilto...</td>\n",
       "      <td>[ok, nothing, special, charge, diamond, member...</td>\n",
       "      <td>[ok, noth, special, charg, diamond, member, hi...</td>\n",
       "      <td>[ok, nothing, special, charge, diamond, member...</td>\n",
       "    </tr>\n",
       "    <tr>\n",
       "      <th>2</th>\n",
       "      <td>nice rooms not 4* experience hotel monaco seat...</td>\n",
       "      <td>3</td>\n",
       "      <td>nice rooms not 4* experience hotel monaco seat...</td>\n",
       "      <td>nice rooms not 4* experience hotel monaco seat...</td>\n",
       "      <td>nice rooms not 4star experience hotel monaco s...</td>\n",
       "      <td>[nice, rooms, not, 4star, experience, hotel, m...</td>\n",
       "      <td>[nice, room, not, 4star, experi, hotel, monaco...</td>\n",
       "      <td>[nice, room, not, 4star, experience, hotel, mo...</td>\n",
       "    </tr>\n",
       "    <tr>\n",
       "      <th>3</th>\n",
       "      <td>unique, great stay, wonderful time hotel monac...</td>\n",
       "      <td>5</td>\n",
       "      <td>unique, great stay, wonderful time hotel monac...</td>\n",
       "      <td>unique, great stay, wonderful time hotel monac...</td>\n",
       "      <td>unique great stay wonderful time hotel monaco ...</td>\n",
       "      <td>[unique, great, stay, wonderful, time, hotel, ...</td>\n",
       "      <td>[uniqu, great, stay, wonder, time, hotel, mona...</td>\n",
       "      <td>[unique, great, stay, wonderful, time, hotel, ...</td>\n",
       "    </tr>\n",
       "    <tr>\n",
       "      <th>4</th>\n",
       "      <td>great stay great stay, went seahawk game aweso...</td>\n",
       "      <td>5</td>\n",
       "      <td>great stay great stay, went seahawk game aweso...</td>\n",
       "      <td>great stay great stay, went seahawk game aweso...</td>\n",
       "      <td>great stay great stay went seahawk game awesom...</td>\n",
       "      <td>[great, stay, great, stay, went, seahawk, game...</td>\n",
       "      <td>[great, stay, great, stay, went, seahawk, game...</td>\n",
       "      <td>[great, stay, great, stay, went, seahawk, game...</td>\n",
       "    </tr>\n",
       "  </tbody>\n",
       "</table>\n",
       "</div>"
      ],
      "text/plain": [
       "                                              Review  Rating  \\\n",
       "0  nice hotel expensive parking got good deal sta...       4   \n",
       "1  ok nothing special charge diamond member hilto...       2   \n",
       "2  nice rooms not 4* experience hotel monaco seat...       3   \n",
       "3  unique, great stay, wonderful time hotel monac...       5   \n",
       "4  great stay great stay, went seahawk game aweso...       5   \n",
       "\n",
       "                                        lower_review  \\\n",
       "0  nice hotel expensive parking got good deal sta...   \n",
       "1  ok nothing special charge diamond member hilto...   \n",
       "2  nice rooms not 4* experience hotel monaco seat...   \n",
       "3  unique, great stay, wonderful time hotel monac...   \n",
       "4  great stay great stay, went seahawk game aweso...   \n",
       "\n",
       "                                 review_no_stopwords  \\\n",
       "0  nice hotel expensive parking got good deal sta...   \n",
       "1  ok nothing special charge diamond member hilto...   \n",
       "2  nice rooms not 4* experience hotel monaco seat...   \n",
       "3  unique, great stay, wonderful time hotel monac...   \n",
       "4  great stay great stay, went seahawk game aweso...   \n",
       "\n",
       "                                             no_punc  \\\n",
       "0  nice hotel expensive parking got good deal sta...   \n",
       "1  ok nothing special charge diamond member hilto...   \n",
       "2  nice rooms not 4star experience hotel monaco s...   \n",
       "3  unique great stay wonderful time hotel monaco ...   \n",
       "4  great stay great stay went seahawk game awesom...   \n",
       "\n",
       "                                           tokenized  \\\n",
       "0  [nice, hotel, expensive, parking, got, good, d...   \n",
       "1  [ok, nothing, special, charge, diamond, member...   \n",
       "2  [nice, rooms, not, 4star, experience, hotel, m...   \n",
       "3  [unique, great, stay, wonderful, time, hotel, ...   \n",
       "4  [great, stay, great, stay, went, seahawk, game...   \n",
       "\n",
       "                                             stemmed  \\\n",
       "0  [nice, hotel, expens, park, got, good, deal, s...   \n",
       "1  [ok, noth, special, charg, diamond, member, hi...   \n",
       "2  [nice, room, not, 4star, experi, hotel, monaco...   \n",
       "3  [uniqu, great, stay, wonder, time, hotel, mona...   \n",
       "4  [great, stay, great, stay, went, seahawk, game...   \n",
       "\n",
       "                                          lemmatized  \n",
       "0  [nice, hotel, expensive, parking, got, good, d...  \n",
       "1  [ok, nothing, special, charge, diamond, member...  \n",
       "2  [nice, room, not, 4star, experience, hotel, mo...  \n",
       "3  [unique, great, stay, wonderful, time, hotel, ...  \n",
       "4  [great, stay, great, stay, went, seahawk, game...  "
      ]
     },
     "execution_count": 115,
     "metadata": {},
     "output_type": "execute_result"
    }
   ],
   "source": [
    "data.head()\n",
    "## note that the lemmatized column is probably better than stemmed"
   ]
  },
  {
   "cell_type": "markdown",
   "id": "c6304a13-45a2-498e-84fd-b79833165b23",
   "metadata": {},
   "source": [
    "------\n",
    "\n",
    "now lets look at the ngrams from our lemmatized dataset\n"
   ]
  },
  {
   "cell_type": "code",
   "execution_count": 126,
   "id": "a56cd227-3f3e-407d-b4e2-c4ceb71e49c2",
   "metadata": {},
   "outputs": [
    {
     "name": "stdout",
     "output_type": "stream",
     "text": [
      "['nice', 'hotel', 'expensive', 'parking', 'got', 'good', 'deal', 'stay', 'hotel', 'anniversary', 'arrived', 'late', 'evening', 'took', 'advice', 'previous', 'review', 'valet', 'parking', 'check', 'quick', 'easy', 'little', 'disappointed', 'nonexistent', 'view', 'room', 'room', 'clean', 'nice', 'size', 'bed', 'comfortable', 'woke', 'stiff', 'neck', 'high', 'pillow', 'not', 'soundproof', 'like', 'heard', 'music', 'room', 'night', 'morning', 'loud', 'bang', 'door', 'opening', 'closing', 'hear', 'people', 'talking', 'hallway', 'maybe', 'noisy', 'neighbor', 'aveda', 'bath', 'product', 'nice', 'not', 'goldfish', 'stay', 'nice', 'touch', 'taken', 'advantage', 'staying', 'longer', 'location', 'great', 'walking', 'distance', 'shopping', 'overall', 'nice', 'experience', 'pay', '40', 'parking', 'night', 'ok', 'nothing', 'special', 'charge', 'diamond', 'member', 'hilton', 'decided', 'chain', 'shot', '20th', 'anniversary', 'seattle', 'start', 'booked', 'suite', 'paid', 'extra', 'website', 'description', 'not', 'suite', 'bedroom', 'bathroom', 'standard', 'hotel', 'room', 'took', 'printed', 'reservation', 'desk', 'showed', 'said', 'thing', 'like', 'tv', 'couch', 'ect', 'desk', 'clerk', 'told', 'oh', 'mixed', 'suite', 'description', 'kimpton', 'website', 'sorry', 'free', 'breakfast', 'got', 'kidding', 'embassy', 'suit', 'sitting', 'room', 'bathroom', 'bedroom', 'unlike', 'kimpton', 'call', 'suite', '5', 'day', 'stay', 'offer', 'correct', 'false', 'advertising', 'send', 'kimpton', 'preferred', 'guest', 'website', 'email', 'asking', 'failure', 'provide', 'suite', 'advertised', 'website', 'reservation', 'description', 'furnished', 'hard', 'copy', 'reservation', 'printout', 'website', 'desk', 'manager', 'duty', 'not', 'reply', 'solution', 'send', 'email', 'trip', 'guest', 'survey', 'not', 'follow', 'email', 'mail', 'guess', 'tell', 'concerned', 'guestthe', 'staff', 'ranged', 'indifferent', 'not', 'helpful', 'asked', 'desk', 'good', 'breakfast', 'spot', 'neighborhood', 'hood', 'told', 'hotel', 'gee', 'best', 'breakfast', 'spot', 'seattle', '12', 'block', 'away', 'convenient', 'hotel', 'not', 'know', 'exist', 'arrived', 'late', 'night', '11', 'pm', 'inside', 'run', 'bellman', 'busy', 'chating', 'cell', 'phone', 'help', 'bagsprior', 'arrival', 'emailed', 'hotel', 'inform', '20th', 'anniversary', 'half', 'really', 'picky', 'wanted', 'make', 'sure', 'good', 'got', 'nice', 'email', 'saying', 'like', 'deliver', 'bottle', 'champagne', 'chocolate', 'covered', 'strawberry', 'room', 'arrival', 'celebrate', 'told', 'needed', 'foam', 'pillow', 'arrival', 'champagne', 'strawberry', 'foam', 'pillow', 'great', 'room', 'view', 'alley', 'high', 'rise', 'building', 'good', 'not', 'better', 'housekeeping', 'staff', 'cleaner', 'room', 'property', 'impressed', 'left', 'morning', 'shopping', 'room', 'got', 'short', 'trip', '2', 'hour', 'bed', 'comfortablenot', 'good', 'acheat', 'control', '4', 'x', '4', 'inch', 'screen', 'bring', 'green', 'shine', 'directly', 'eye', 'night', 'light', 'sensitive', 'tape', 'controlsthis', 'not', '4', 'start', 'hotel', 'clean', 'business', 'hotel', 'super', 'high', 'rate', 'better', 'chain', 'hotel', 'seattle', 'nice', 'room', 'not', '4star', 'experience', 'hotel', 'monaco', 'seattle', 'good', 'hotel', 'nt', '4star', 'levelpositives', 'large', 'bathroom', 'mediterranean', 'suite', 'comfortable', 'bed', 'pillowsattentive', 'housekeeping', 'staffnegatives', 'ac', 'unit', 'malfunctioned', 'stay', 'desk', 'disorganized', 'missed', '3', 'separate', 'wakeup', 'call', 'concierge', 'busy', 'hard', 'touch', 'nt', 'provide', 'guidance', 'special', 'requeststv', 'hard', 'use', 'ipod', 'sound', 'dock', 'suite', 'non', 'functioning', 'decided', 'book', 'mediterranean', 'suite', '3', 'night', 'weekend', 'stay', '1st', 'choice', 'rest', 'party', 'filled', 'comparison', 'w', 'spent', '45', 'night', 'larger', 'square', 'footage', 'room', 'great', 'soaking', 'tub', 'whirlpool', 'jet', 'nice', 'showerbefore', 'stay', 'hotel', 'arrange', 'car', 'service', 'price', '53', 'tip', 'reasonable', 'driver', 'waiting', 'arrivalcheckin', 'easy', 'downside', 'room', 'picked', '2', 'person', 'jacuzi', 'tub', 'bath', 'accessory', 'salt', 'bubble', 'bath', 'nt', 'stay', 'night', 'got', '121a', 'checked', 'voucher', 'bottle', 'champagne', 'nice', 'gesture', 'fish', 'waiting', 'room', 'impression', 'room', 'huge', 'open', 'space', 'felt', 'room', 'big', 'tv', 'far', 'away', 'bed', 'chore', 'change', 'channel', 'ipod', 'dock', 'broken', 'disappointingin', 'morning', 'way', 'asked', 'desk', 'check', 'thermostat', 'said', '65f', '74', '2', 'degree', 'warm', 'try', 'cover', 'face', 'night', 'bright', 'blue', 'light', 'kept', 'got', 'room', 'night', 'no', '1st', 'drop', 'desk', 'called', 'maintainence', 'came', 'look', 'thermostat', 'told', 'play', 'setting', 'happy', 'digital', 'box', 'wo', 'nt', 'work', 'asked', 'wakeup', '10am', 'morning', 'nt', 'happen', 'called', 'later', '6pm', 'nap', 'wakeup', 'forgot', '10am', 'wakeup', 'morning', 'yep', 'forgottenthe', 'bathroom', 'facility', 'great', 'room', 'surprised', 'room', 'sold', 'whirlpool', 'bath', 'tub', 'nt', 'bath', 'amenity', 'great', 'relax', 'water', 'jet', 'going', 'unique', 'great', 'stay', 'wonderful', 'time', 'hotel', 'monaco', 'location', 'excellent', 'short', 'stroll', 'main', 'downtown', 'shopping', 'area', 'pet', 'friendly', 'room', 'showed', 'sign', 'animal', 'hair', 'smell', 'monaco', 'suite', 'sleeping', 'area', 'big', 'striped', 'curtain', 'pulled', 'closed', 'nice', 'touch', 'felt', 'cosy', 'goldfish', 'named', 'brandi', 'enjoyed', 'nt', 'partake', 'free', 'wine', 'coffeetea', 'service', 'lobby', 'thought', 'great', 'feature', 'great', 'staff', 'friendly', 'free', 'wireless', 'internet', 'hotel', 'worked', 'suite', '2', 'laptop', 'decor', 'lovely', 'eclectic', 'mix', 'patten', 'color', 'palatte', 'animal', 'print', 'bathrobe', 'feel', 'like', 'rock', 'star', 'nice', 'nt', 'look', 'like', 'sterile', 'chain', 'hotel', 'hotel', 'personality', 'excellent', 'stay', 'great', 'stay', 'great', 'stay', 'went', 'seahawk', 'game', 'awesome', 'downfall', 'view', 'building', 'nt', 'complain', 'room', 'huge', 'staff', 'helpful', 'booked', 'hotel', 'website', 'seahawk', 'package', 'charge', 'parking', 'got', 'voucher', 'taxi', 'problem', 'taxi', 'driver', 'nt', 'want', 'accept', 'voucher', 'barely', 'spoke', 'english', 'funny', 'thing', 'speak', 'arabic', 'called', 'started', 'making', 'comment', 'girlfriend', 'cell', 'phone', 'buddy', 'took', 'second', 'realize', 'said', 'fact', 'speak', 'language', 'face', 'priceless', 'as', 'told', 'said', 'large', 'city', 'told', 'head', 'doorman', 'issue', 'called', 'cab', 'company', 'promply', 'answer', 'nt', 'apologized', 'offered', 'pay', 'taxi', 'buck', '2', 'mile', 'stadium', 'game', 'plan', 'taxi', 'return', 'going', 'humpin', 'great', 'walk', 'nt', 'mind', 'right', 'christmas', 'wonderful', 'light', 'homeless', 'stowed', 'away', 'building', 'entrance', 'leave', 'police', 'presence', 'not', 'greatest', 'area', 'stadium', 'activity', '7', 'block', 'pike', 'street', 'waterfront', 'great', 'coffee', 'shop', 'way', 'hotel', 'mantained', 'foyer', 'awesome', 'wine', 'tasting', 'available', 'evening', 'best', 'dog', 'taking', 'st', 'bernard', 'time', 'family', 'safe', 'hotel', 'located', 'service', 'desk', 'room', 'bathroom', 'huge', 'jetted', 'tub', 'huge', 'funny', 'house', 'keeping', 'walked', 'girlfriend', 'getting', 'dressed', 'nt', 'hear', 'knock', 'turn', 'service', 'screamed', 'girlfriend', 'scream', 'hit', 'floor', 'laughing', 'started', 'talking', 'spanish', 'worked', 'place', 'recommend', 'price', 'check', 'online', 'deal', 'good', 'not', 'better', 'besite', 'contains', 'deal', 'voucher', 'travel', 'website', 'nt', 'tell', 'love', 'monaco', 'staff', 'husband', 'stayed', 'hotel', 'crazy', 'weekend', 'attending', 'memorial', 'service', 'best', 'friend', 'husband', 'celebrating', '12th', 'wedding', 'anniversary', 'talk', 'mixed', 'emotion', 'booked', 'suite', 'hotel', 'monte', 'carlos', 'loaned', 'beautiful', 'fantanned', 'goldfish', 'named', 'joliet', 'weekend', 'visited', 'dog', 'worked', 'desk', 'human', 'companion', 'room', 'decorated', 'nicely', 'couch', 'used', 'pillow', 'loccitane', 'bath', 'amenity', 'welcome', 'sight', 'room', 'quiet', 'peaceful', 'wireless', 'internet', 'access', 'wonderful', 'server', 'went', 'morning', 'leaving', 'problem', 'printing', 'boarding', 'pass', 'afternoon', 'reception', 'serf', 'oenophilesatisfying', 'wine', 'australia', 'scrumptious', 'cooky', 'restaurant', 'closed', 'renovation', 'stay', 'finally', 'ate', 'food', 'good', 'drink', 'better', 'word', 'caution', 'restaurant', 'larger', 'person', 'not', 'sit', 'booth', 'wo', 'nt', 'fit', '56', '125', 'lb', 'husband', '59', '175', 'table', 'smackagainst', 'stomach', 'couple', 'inch', 'space', 'mighty', 'uncomfortable', 'patron', 'larger', 'pregnant', 'bad', 'design', 'opinion', 'place', 'decorated', 'funky', 'welcoming', 'way', 'metal', 'wood', 'handblown', 'glass', 'light', 'fixture', 'expect', 'seattle', 'capital', 'glass', 'art', 'industry', 'definitely', 'stay', 'reason', 'cozy', 'stay', 'rainy', 'city', 'husband', 'spent', '7', 'night', 'monaco', 'early', 'january', '2008', 'business', 'trip', 'chance', 'come', 'ridewe', 'booked', 'monte', 'carlo', 'suite', 'proved', 'comfortable', 'longish', 'stay', 'room', '905', 'located', 'street', 'building', 'street', 'noise', 'not', 'problem', 'view', 'interesting', 'room', 'building', 'look', 'dank', 'alley', 'midsection', 'large', 'office', 'building', 'suite', 'comfortable', 'plenty', 'room', 'spread', 'bathroom', 'attractive', 'squeaky', 'clean', 'small', 'comparison', 'generous', 'proportion', 'sitting', 'sleeping', 'area', 'lot', 'comfortable', 'seating', 'option', 'good', 'lighting', 'plenty', 'storage', 'clothing', 'luggage', 'hotel', 'staff', 'friendly', 'efficient', 'housekeeping', 'staff', 'great', 'job', 'pleasant', 'request', 'responded', 'quicklythe', 'location', 'quite', 'good', 'easy', 'walk', 'pike', 'street', 'market', 'seattle', 'art', 'museum', 'notch', 'shopping', 'dining', 'optionsa', 'positive', 'experience', 'excellent', 'staff', 'housekeeping', 'quality', 'hotel', 'chocked', 'staff', 'make', 'feel', 'home', 'experienced', 'exceptional', 'service', 'desk', 'staff', 'concierge', 'door', 'men', 'maid', 'service', 'need', 'work', 'maid', 'failed', 'tuck', 'sheet', 'foot', 'bed', 'instance', 'soiled', 'sheet', 'used', 'staff', 'quickley', 'resolved', 'soiled', 'sheet', 'issue', 'guess', 'relates', 'employee', 'not', 'reflection', 'rest', 'staffwe', 'received', 'excellent', 'advice', 'concierge', 'regarding', 'resturants', 'area', 'happy', 'hour', 'wine', 'tasting', 'nice', 'touch', 'staff', 'went', 'way', 'make', 'feel', 'homegreat', 'location', 'like', 'close', 'good', 'food', 'shopping', 'took', 'play', '5th', 'street', 'theather', 'wellpikes', 'market', 'pioneer', 'square', 'access', 'mono', 'rail', 'short', 'walking', 'distance', 'hotel', 'stayed', 'hotel', 'monaco', 'cruise', 'room', 'generous', 'decorated', 'uniquely', 'hotel', 'remodeled', 'pacific', 'bell', 'building', 'charm', 'sturdiness', 'everytime', 'walked', 'bell', 'men', 'felt', 'like', 'coming', 'home', 'secure', 'great', 'single', 'traveler', 'location', 'fabulous', 'walk', 'thing', 'pike', 'market', 'space', 'needlelittle', 'grocerydrug', 'store', 'block', 'away', 'today', 'green', 'bravo', '1', 'double', 'bed', 'room', 'room', 'bed', 'couch', 'separated', 'curtain', 'snoring', 'mom', 'slept', 'curtain', 'great', 'food', 'nearby', 'excellent', 'stayed', 'hotel', 'monaco', 'past', 'we', 'delight', 'reception', 'staff', 'friendly', 'professional', 'room', 'smart', 'comfortable', 'bed', 'particularly', 'liked', 'reception', 'small', 'dog', 'received', 'staff', 'guest', 'spoke', 'loved', 'mild', 'negative', 'distance', 'uphill', 'ppmarket', 'restaurant', '1st', 'overall', 'great', 'experience', 'poor', 'value', 'stayed', 'monaco', 'seattle', 'july', 'nice', 'hotel', 'priced', '100', '150', 'night', 'not', 'hotel', 'take', 'beating', 'quotient', 'experience', 'simply', 'average', 'nothing', 'exceptional', 'paying', '300', 'nt', 'ca', 'nt', 'terribly', 'disappointed', 'wife', 'stayed', 'nicest', 'suite', '200night', 'felt', 'like', 'overpaying', 'best', 'advice', 'shop', 'qualitywise', 'league', 'average', 'marriott', 'nice', 'best', 'western', 'nice', 'value', 'seattle', 'stayed', '4', 'night', 'late', '2007', 'looked', 'comparable', 'hilton', 'marriott', 'westin', 'area', 'pointsmiles', 'nt', 'gave', 'monaco', 'shot', 'pleasantly', 'surprised', 'nice', 'room', 'service', 'quick', 'tasty', 'bed', 'especially', 'comfortable', 'unlike', 'people', 'nothing', 'positive', 'thing', 'say', 'service', 'downside', 'relatively', 'small', 'exercise', 'room', 'treadmill', 'heck', 'east', 'coast', 'time', 'ran', 'person', '5', 'day', 'definitely', 'stay', 'nice', 'hotel', 'good', 'location', 'hotel', 'kimpton', 'design', 'whimsical', 'vibe', 'fun', 'staff', 'young', 'casual', 'problem', 'hotel', 'busy', 'stay', 'friendly', 'helpful', 'group', 'reserved', 'room', 'gave', 'connecting', 'room', 'fuss', 'not', 'busy', 'weekthe', 'room', 'decent', 'size', 'not', 'huge', 'pretty', 'average', 'city', 'hotel', 'bed', 'nice', 'bathroom', 'clean', 'bright', 'pocket', 'door', 'ideal', 'busy', 'bathroom', 'room', 'design', 'bright', 'cheery', 'flat', 'panel', 'tv', 'location', 'little', 'noisy', 'fine', '5th', 'floor', 'location', 'convenient', 'walkable', 'attraction', 'new', 'central', 'library', 'sam', 'art', 'museum', 'benaroya', 'concert', 'hall', 'pike', 'place', 'market', 'parking', 'steep', '29night', 'evening', 'wine', 'reception', 'popular', 'nice', 'hotel', 'not', 'nice', 'staff', 'hotel', 'lovely', 'staff', 'quite', 'rude', 'bellhop', 'desk', 'clerk', 'going', 'way', 'make', 'thing', 'difficult', 'waited', 'forever', 'check', 'heavy', 'bag', 'help', 'getting', 'throught', 'double', 'door', 'room', 'worst', 'desk', 'clerk', 'checking', 'tap', 'tap', 'tap', 'car', 'waited', 'pick', '20', 'minute', 'got', 'home', 'noticed', '1000', 'dollar', 'hold', 'credit', 'card', 'took', '5', 'phonecalls', '2', 'fax', '1', 'week', 'resolved', 'stay', 'warwck', '4th', 'lenora', 'room', 'okbut', 'al', 'friendly', 'face', 'tiring', 'day', 'airport', 'great', 'hotel', 'night', 'quick', 'business', 'trip', 'loved', 'little', 'touch', 'like', 'goldfish', 'leopard', 'print', 'robe', 'complaint', 'wifi', 'complimentary', 'not', 'internet', 'access', 'business', 'center', 'great', 'location', 'library', 'service', 'fabulous', 'horrible', 'customer', 'service', 'hotel', 'stay', 'february', '3rd', '4th', '2007my', 'friend', 'picked', 'hotel', 'monaco', 'appealing', 'website', 'online', 'package', 'included', 'champagne', 'late', 'checkout', '3', 'free', 'valet', 'gift', 'spa', 'weekend', 'friend', 'checked', 'room', 'hour', 'earlier', 'came', 'later', 'pulled', 'valet', 'young', 'man', 'stood', 'asked', 'valet', 'open', 'said', 'pull', 'bag', 'didn__ç_é_', 'offer', 'help', 'got', 'garment', 'bag', 'suitcase', 'came', 'car', 'key', 'room', 'number', 'say', 'not', 'valet', 'car', 'park', 'car', 'street', 'pull', 'left', 'key', 'working', 'asked', 'valet', 'park', 'car', 'get', 'went', 'room', 'fine', 'bottle', 'champagne', 'oil', 'lotion', 'gift', 'spa', 'dressed', 'went', 'came', 'got', 'bed', 'noticed', 'blood', 'drop', 'pillow', 'sheet', 'pillow', 'disgusted', 'unbelievable', 'called', 'desk', 'sent', 'somebody', '20', 'minute', 'later', 'swapped', 'sheet', 'left', 'apologizing', 'sunday', 'morning', 'called', 'desk', 'speak', 'management', 'sheet', 'aggravated', 'rude', 'apparently', 'manager', 'kind', 'supervisor', 'weekend', 'wait', 'monday', 'morning', 'young', 'man', 'spoke', 'said', 'cover', 'food', 'adding', 'person', 'changed', 'sheet', 'said', 'fresh', 'blood', 'rude', 'tone', 'checkout', '3pm', 'package', 'booked', '12', '130', 'staff', 'maid', 'tried', 'walk', 'room', 'opening', 'door', 'apologizing', 'closing', 'people', 'called', 'saying', 'check', '12', 'remind', 'package', 'finally', 'packed', 'thing', 'went', 'downstairs', 'check', 'quickly', 'signed', 'paper', 'took', 'way', 'took', 'closer', 'look', 'room', 'unfortunately', 'covered', 'food', 'offered', 'charged', 'valet', 'called', 'desk', 'ask', 'charge', 'lady', 'answered', 'snapped', 'saying', 'aware', 'problem', 'experienced', 'monday', 'like', 'told', 'earlier', 'life', 'treated', 'like', 'hotel', 'not', 'sure', 'hotel', 'constantly', 'problem', 'lucky', 'one', 'stay', 'recommend', 'anybody', 'know', 'disappointed', 'say', 'anticipating', 'stay', 'hotel', 'monaco', 'based', 'review', 'seen', 'tripadvisor', 'definitely', 'disppointment', 'decor', 'room', 'hotel', 'envisioned', 'nice', 'housekeeping', 'staff', 'impressive', 'extremely', 'polite', 'cheery', 'helpful', 'desk', 'bellman', 'standard', 'customer', 'service', 'lot', 'little', 'thing', 'easily', 'overlooked', 'broken', 'make', 'mirror', 'sagging', 'post', 'bathroom', 'jiggly', 'entrance', 'handle', 'room', 'nt', 'feel', 'secure', 'handle', 'nearly', 'falling', 'door', 'husband', 'early', 'morning', 'flight', 'midweek', 'asked', 'cab', 'called', 'suggested', 'cab', 'ride', 'cost', 'double', 'private', 'car', 'flatrate', 'nt', 'case', 'knew', 'cost', 'cab', '30', 'car', '38', 'bell', 'staff', 'insisted', 'like', '65', 'taxi', 'ride', 'cab', 'driver', 'later', 'explained', 'bell', 'staff', 'kick', 'referral', 'preferred', 'guest', 'city', 'andor', 'hotel', 'hotel', 'staff', 'looking', 'best', 'interest', 'new', 'year', 'planned', 'dining', 'restaurant', 'hotel', 'new', 'year', 'day', 'came', 'dressed', 'dinner', 'told', 'desk', 'closed', 'holiday', 'asked', 'nearby', 'response', 'good', 'luck', 'finding', 'today', 'good', 'luck', 'thanks', 'help', 'feature', 'needed', 'hotel', 'business', 'centre', 'work', 'downstairs', 'service', 'completely', 'semifuncitional', 'internet', 'service', 'outsourced', 'ended', 'spending', '50', 'money', 'nt', 'work', 'refund', '25', 'hour', 'vacation', 'time', 'troubleshooting', 'internet', 'company', 'toll', 'free', 'service', 'line', 'asked', 'desk', 'time', 'assistance', 'told', 'worst', 'experience', 'time', 'asked', 'desk', 'assistance', 'got', 'response', 'included', 'shrug', 'say', 'oh', 'bad', 'majority', 'staff', 'attitude', 'simply', 'not', 'care', 'needed', 'help', 'dared', 'intrude', 'time', 'got', 'snotty', 'response', 'occasion', 'caught', 'desk', 'girl', 'smirking', 'thought', 'turned', 'nt', 'talk', 'frustrating', 'honesty', 'nt', 'wait', 'check', 'nice', 'decor', 'liked', 'goldfish', 'housekeeping', 'staff', 'great', 'end', 'hotel', 'want', 'dash', 'door', 'nt', 'way', 'not', 'concerned', 'taking', 'greet', 'pretty', 'ignored', 'desk', 'area', 'unless', 'approached', 'time', 'street', 'westin', 'saw', 'nothing', 'smiling', 'face', 'coming', 'going', 'hotel', 'fantastic', 'stay', 'monaco', 'seattle', 'hotel', 'monaco', 'hold', 'high', 'standard', 'kimpton', 'hotel', 'line', 'stayed', 'kimpton', 'hotel', 'city', 'easily', 'say', 'seattle', 'hotel', 'monaco', 'best', 'seen', 'service', 'attentive', 'prompt', 'based', 'member', 'kimpton', 'loyalty', 'program', 'upgraded', '10th', 'floor', 'room', 'great', 'view', '4th', 'street', 'excellent', 'public', 'library', 'kittycorner', 'hotel', 'highly', 'recommend', 'tour', 'public', 'library', 'blown', 'away', 'room', 'quite', 'spacious', 'beautiful', 'flatscreen', 'television', 'dvdcd', 'player', 'exercise', 'room', 'pretty', 'standard', 'kimpton', 'size', 'mean', 'adequate', 'not', 'outstanding', 'eliptical', 'cardio', 'machine', 'stationary', 'bike', 'personal', 'viewing', 'screen', 'cardio', 'machine', 'screen', 'accept', 'dvd', 'not', 'seen', 'kimpton', 'hotel', 'hotel', 'monaco', 'line', 'particular', 'hotel', 'lobby', 'stylish', 'quirky', 'inviting', 'easy', 'imagine', 'spending', 'time', 'relaxing', 'comfortable', 'overstuffed', 'chair', 'restaurant', 'attached', 'hotel', 'sazerac', 'good', 'far', 'eaten', 'lunch', 'look', 'forward', 'breakfast', 'tomorrow', 'kimpton', 'property', 'able', 'connect', 'free', 'highspeed', 'internet', 'ethernet', 'second', 'cruising', 'web', 'checking', 'email', 'office', 'problem', 'opinion', 'ca', 'nt', 'wrong', 'kimpton', 'hotel', 'seattle', 'hotel', 'monaco', 'certainly', 'excellent', 'choice', 'good', 'choice', 'hotel', 'recommended', 'sister', 'great', 'location', 'room', 'nice', 'comfortable', 'bed', 'quiet', 'staff', 'helpful', 'recommendation', 'restaurant', 'pike', 'market', '4', 'block', 'walk', 'stay', 'hmmmmm', 'say', 'really', 'high', 'hope', 'hotel', 'monaco', 'chose', 'base', 'girlfriend', 'shopping', 'trip', 'seattle', 'stay', 'say', 'given', 'competition', 'seattle', 'okay', 'hotel', 'lot', 'nice', 'feature', 'little', 'thing', 'detract', 'bedding', 'super', 'soft', 'luxurious', 'comforter', 'pillow', 'mattress', 'rock', 'hard', 'standard', 'hotel', 'bed', 'kept', 'awake', 'night', 'furnishing', 'nice', 'color', 'pattern', 'fun', 'chair', 'rip', 'wall', 'paper', 'peeling', 'stayed', 'room', '815', 'noise', 'like', 'fog', 'horn', 'vibrated', 'wall', 'stay', 'guess', 'water', 'pipe', 'really', 'annoyingon', 'waking', 'morning', 'package', 'decaf', 'instead', 'regular', 'coffee', 'took', '30', 'minute', 'send', 'coffee', 'showed', 'package', 'coffee', 'town', 'usa', 'little', 'package', '3', 'tiny', 'dried', 'creamer', 'supposed', 'coffee', 'service', 'lobby', 'saw', 'cleared', 'really', 'early', 'gone', '10am', 'wine', 'reception', '56', 'boy', 'better', 'time', 'walk', '550', 'like', 'look', 'manager', 'like', 'trying', 'scope', '2nd', 'glass', 'food', 'plate', 'goldfish', 'cracker', 'classyfriday', 'night', 'restaurant', 'bar', 'closed', '4pm', 'private', 'party', 'planned', 'eat', 'heard', 'fun', 'bar', 'bummer', 'add', 'restall', 'hotel', 'poster', 'say', 'thing', 'like', 'hotel', 'comfort', 'felt', 'catered', 'comfortable', 'staff', 'asked', 'said', 'hello', 'looking', 'visit', 'service', 'service', 'service', 'spent', 'week', 'gfriend', 'labor', 'day', 'bumbershoot', 'gray', 'line', 'airporter', 'drop', 'corner', 'hotel', '10', 'person', 'cab', '28', 'total', 'make', 'sure', 'flat', 'rate', 'town', 'car', '38', 'location', 'central', 'downtown', 'street', 'w', 'it__ç_é_', 'quick', 'walk', 'point', 'tourist', 'business', 'yes', 'space', 'needle', 'bit', 'far', 'monorail', 'westlake', 'center', 'easy', 'walk', 'away', 'tourist', 'underground', 'tour', 'public', 'market', 'space', 'needle', 'emp', 'leave', 'bit', 'room', 'luggage', 'shopping', 'great', 'neighborhood', 'safe', 'clean', 'room', 'mediterranean', 'suite', 'quite', 'large', 'equipped', 'twoperson', 'jacuzzi', 'tub', 'small', 'stand', 'glassenclosed', 'shower', 'room', 'view', 'not', 'care', 'room', 'clean', 'small', 'throw', 'blanket', 'adorned', 'foot', 'bed', 'took', 'tastefully', 'decorated', 'wall', 'striped', 'trust', 'wont', 'feel', 'like', 'stale', 'hotel', 'ask', 'gold', 'fish', 'bring', 'wellbehaved', 'dog', 'companyservice', 'aspect', 'excellent', 'desk', 'house', 'keeping', 'concierge', 'room', 'service', 'bell', 'desk', 'ready', 'provide', 'warm', 'professional', 'service', 'test', 'don__ç_é_', 'flinchgym', 'open', '24', 'hour', 'newer', 'cardio', 'machine', 'dumbbell', 'highest', 'weight', '25', 'water', 'towel', 'tv', 'gold__ç_é_', 'walking', 'distancegastronomy', 'sazerac', 'worth', 'try', 'not', 'impressive', 'it__ç_é_', 'amusingthis', 'visit', 'seattle', 'monaco', 'like', 'bed', 'westin', 'better', 'prefer', 'monaco', 'afford', 'w', 'gfriends', 'visit', 'want', 'bumbershoot', 'year', 'stay', 'hotel', 'monaco', 'excellent', 'stay', 'delightful', 'surprise', 'stay', 'monaco', 'thoroughly', 'enjoyed', 'stay', 'room', 'comfortable', 'lovely', 'amenity', 'friendly', 'staff', 'especially', 'enjoyed', 'hour', 'indulgence', 'definitely', 'come', 'good', 'value', 'downtown', 'hotel', 'monaco', 'seattle', 'great', 'option', 'pricey', 'area', 'town', 'room', 'w', 'street', 'going', 'close', '400', 'night', 'hotel', 'monaco', 'unique', 'interesting', 'cozy', 'bedlinens', 'quality', 'aveda', 'product', 'bathroom', 'nice', 'touchyou', 'close', 'downtown', 'quick', 'cab', 'ride', 'away', 'nightlife', 'restaurant', 'loved', 'lola', 'experience', 'quirky', 'luxurious', 'funi', 'definitely', 'stay', 'hotel', 'monaco', 'great', 'location', 'service', 'hotel', 'monaco', 'centrally', 'located', 'provides', 'excellent', 'service', 'recently', 'stayed', '42351', 'originally', 'checked', 'slight', 'problem', 'informed', 'booked', 'queen', 'bed', 'expedia', 'room', 'king', 'bed', 'fortunately', 'fellow', 'guest', 'checking', 'time', 'swapped', 'room', 'future', 'reference', 'booking', 'expedia', 'recommend', 'double', 'checking', 'hotel', 'ensure', 'receive', 'correct', 'room', 'staff', 'stated', 'better', 'book', 'hotel', 'directly', 'match', 'online', 'rate', 'additionally', 'concierge', 'marco', 'helpful', 'sat', 'night', 'called', 'salty', 'make', 'reservation', 'brunch', 'day', 'informed', 'seat', 'available', 'following', 'day', 'concierge', 'called', 'restaurant', 'hour', 'wanted', 'dine', 'able', 'book', 'table', '5', 'great', 'window', 'view', 'hotel', 'block', 'away', 'pike', 'place', 'market', 'seattle', 'art', 'museum', 'shopping', 'district', 'walking', 'distance', 'space', 'needle', 'experience', 'music', 'project', 'attraction', 'ammenities', 'service', 'provided', 'hotel', 'include', 'pet', 'goldfish', 'wine', 'tasting', 'yoga', 'mat', 'use', 'room', 'seattle', 'recommend', 'taking', 'helicopter', 'tour', 'mt', 'st', 'helen', 'hoffstadt', 'visitor', 'center', 'great', 'location', 'need', 'internally', 'upgrade', 'advantage', 'north', 'end', 'downtown', 'seattle', 'great', 'restaurant', 'nearby', 'good', 'price', 'room', 'need', 'updated', 'literally', 'thought', 'sleeping', '1970', 'bed', 'old', 'pillow', 'sheet', 'net', 'result', 'bad', 'night', 'sleep', 'stay', 'location', 'staff', 'friendly', 'nt', 'mind', 'noise', 'place', 'great', 'read', 'review', 'noise', 'used', 'hotel', 'website', 'book', 'room', 'interesting', 'site', 'give', 'checkbox', 'option', '1', 'room', 'farthest', 'elevator', '2', 'room', 'higher', 'floor', '3', 'quiet', 'room', 'getting', 'quietest', 'room', 'possible', 'checked', 'hoping', 'got', '6th', 'floor', '1819', 'floor', 'hall', 'elevator', 'listened', 'truck', 'ambulance', 'siren', 'night', 'sheeeesh', 'aside', 'heating', 'unit', 'sound', 'like', 'small', 'plane', 'engine', 'hear', 'surrounding', 'roomsif', 'noise', 'sleep', 'facility', 'clean', 'conveniently', 'located', 'reasonably', 'priced', 'staff', 'quite', 'helpful', 'loved', 'stayed', 'warwick', 'overnight', 'getway', 'enjoy', 'christmas', 'shopping', 'warwick', 'exceeded', 'expectation', 'staff', 'wonderful', 'extrememly', 'friendly', 'room', 'clean', 'service', 'lounge', 'wonderful', 'came', 'contact', 'hotel', 'friendly', 'woman', 'bathroom', 'lever', 'lounge', 'well', 'think', 'haunted', 'totally', 'creepy', 'vibe', 'light', 'anywho', 'really', 'enjoyed', 'stay', 'going', 'couple', 'day', 'met', 'expectation', 'centrally', 'located', 'hotel', 'block', 'water', 'popular', 'nightlife', 'shopping', 'option', 'belltown', 'downtown', 'classify', 'property', 'star', 'location', 'paid', 'wedding', 'rate', 'not', 'sure', 'fare', 'value', 'proposition', 'room', 'spacious', 'little', 'outdated', 'room', 'decent', 'view', 'lower', 'floor', 'drab', 'panaroma', 'parking', 'lot', 'building', 'adequate', 'fitness', 'center', 'sauna', 'pool', 'basement', 'quaint', 'barrestaurant', 'attached', 'hotel', 'parking', '30', 'day', 'outrage', 'possibly', 'standard', 'downtown', 'street', 'parking', 'weekend', 'save', 'dollar', 'willing', 'stay', 'future', 'price', 'significantly', 'lower', 'nearby', 'fourstar', 'competition', 'nice', 'hotel', 'husband', 'stayed', 'warwick', '4', 'year', 'ago', 'liked', 'hotel', 'location', 'not', 'hesitate', 'book', 'tripwe', 'asked', 'received', 'nonsmoking', 'room', 'king', 'bed', 'high', 'floor', 'hoping', 'hotel', 'nice', 'view', 'space', 'needle', 'checkin', 'nice', 'friendly', 'key', 'minute', 'nice', 'room', 'small', 'loveseat', 'juliet', 'balconylove', 'location', 'hotel', 'block', 'away', 'best', 'restaurant', 'downtown', 'dahlia', 'lounge', 'palace', 'kitchen', 'lola', 'small', 'grocery', 'storeminimart', 'right', 'street', 'wine', 'easy', 'walk', 'pike', 'place', 'marketon', 'site', 'hotel', 'nice', 'restaurant', 'lounge', 'area', 'ate', 'breakfast', 'hotel', 'drink', 'loungebar', 'time', 'good', 'servicewe', 'nt', 'chance', 'use', 'look', 'pool', 'exercise', 'room', 'located', 'basement', 'pool', 'small', 'definitely', 'useable', 'exercise', 'room', 'variety', 'machine', 'weight', 'not', 'newest', 'market', 'definitely', 'decent', 'machine', 'kept', 'neat', 'clean', 'exercise', 'room', 'plenty', 'towel', 'water', 'cooler', 'availablei', 'think', 'ran', 'maid', 'day', 'leaving', 'friendlywe', 'used', 'business', 'center', 'couple', 'time', 'consisted', '2', 'computer', 'free', 'internet', 'printer', 'needed', 'ask', 'key', 'desk', 'nice', 'handyoverall', 'thought', 'staff', 'helpful', 'hotel', 'quiet', 'good', 'location', 'definitely', 'met', 'expectation', 'stayed', 'year', 'ago', 'definitely', 'return', 'hope', 'soon', 'good', 'hotel', 'not', 'large', 'hotel', 'newly', 'decorated', 'room', 'good', 'size', 'clean', 'excellent', 'location', '2', 'block', 'centre', 'town', '4', 'block', 'market', 'areahotel', 'resturant', 'bustling', 'place', 'alot', 'diner', 'coming', 'street', 'good', 'meal', 'thereoverall', 'highly', 'recommend', 'staying', 'good', 'choice', 'seattle', 'stayed', 'night', 'business', 'booked', 'company', 'overall', 'satisfactory', 'arrived', 'late', 'evening', 'room', '17th', 'floor', 'clean', 'comfortable', 'great', 'view', 'bathroom', 'little', 'small', 'clean', 'equipped', 'good', 'night', 'sleep', 'enjoyed', 'excellent', 'breakfast', 'restaurant', 'checking', 'staff', 'encountered', 'friendly', 'polite', 'great', 'location', 'expensive', 'parking', 'warwick', 'heart', 'seattle', 'easy', 'walking', 'distance', 'pike', 'place', 'monorail', 'terminal', 'downtown', 'shop', 'stayed', 'twice', 'recently', 'start', 'finish', 'tour', 'pacific', 'north', 'west', 'staff', 'helpful', 'knowledgable', 'room', 'large', 'comfy', 'armchair', 'large', 'bedded', 'room', 'room', 'fridge', 'coffee', 'makerparking', 'site', 'expensive', 'guess', 'reflects', 'city', 'centre', 'parking', 'price', 'free', 'zone', 'travel', 'seattle', 'bus', 'cheap', 'free', 'travel', 'central', 'seattle', 'handy', 'grocery', 'store', 'opposite', 'noise', 'airconditionera', 'standard', 'arranged', 'stay', 'travel', 'agency', 'unfortunately', 'warwick', 'seattle', 'hotel', 'dissapointment', 'trip', '3', 'night', 'stay', 'warwick', 'changed', '3', 'room', 'starting', 'minute', 'stay', 'hotel', 'personnel', 'didnt', 'make', 'feel', 'like', 'guest', 'like', 'intruder', 'reluctant', 'help', 'solve', 'complaint', 'hotel', 'right', 'downtown', '5', 'minute', 'really', 'good', 'restaurant', 'like', 'good', 'thing', 'availability', 'room', 'offered', '2nd', 'floor', 'window', 'directly', 'opening', 'car', 'parking', 'level', 'changed', 'room', '3', 'room', 'loud', 'sound', 'coming', 'air', 'conditioner', 'heating', 'unbelievable', 'hotel', 'hotel', 'personnel', 'told', 'standard', 'noise', 'room', 'tried', 'avoid', 'using', 'night', 'order', 'sleep', 'possible', 'watching', 'tv', 'loudly', 'good', 'location', 'poor', 'cleanliness', 'warwick', 'hotel', 'great', 'location', 'seattle', 'close', 'shopping', 'pike', 'place', 'seattle', 'centre', 'really', 'let', 'hotel', 'cleanliness', 'bed', 'linen', 'torn', 'curtain', 'torn', 'floor', 'stain', 'hotel', 'advertises', 'balcony', 'reality', 'disappointment', 'stayed', 'hotel', 'san', 'diego', 'balcony', 'table', 'chair', 'warwick', 'balcony', '10', 'inchesthe', 'view', 'room', 'view', 'space', 'needle', 'terrific', 'nt', 'make', 'poor', 'cleanliness', 'check', 'staff', 'pleasant', 'unpleasant', 'decided', 'not', 'sample', 'restaurant', 'ralph', 'deli', 'street', 'great', 'snack', 'cafethere', 'plenty', 'better', 'hotel', 'seattle', 'slightly', 'money', 'warwick', 'choose', 'eg', 'hotel', 'andra', 'good', 'place', 'spending', 'big', 'buck', 'warwick', 'plenty', 'comfortable', 'nice', 'nice', 'view', 'space', 'needle', 'room', 'nt', 'expect', 'balcony', '18', 'inch', 'ledge', 'ironwork', 'falling', 'overboard', 'open', 'patio', 'door', 'partially', 'step', 'view', 'lake', 'union', 'elliott', 'bay', 'morning', 'space', 'needle', 'hidden', 'cloud', 'neat', 'sunny', 'weather', 'cloudy', 'needed', 'warwick', 'complaint', 'nice', 'hotel', 'trip', 'seattle', 'wanted', 'stay', 'downtown', 'good', 'rate', 'hotel', 'decided', 'stay', 'warwick', 'clean', 'stayed', '17th', 'floor', 'excellent', 'view', 'space', 'needle', 'downtown', 'nice', 'able', 'open', 'sliding', 'door', 'let', 'cool', 'air', 'bed', 'comfy', 'pillow', 'not', 'room', 'clean', 'parking', 'not', 'problem', 'use', 'hotel', 'parking', 'staff', 'friendly', 'helpful', 'ask', 'key', 'business', 'center', '2', 'computer', 'needless', 'say', 'hassle', 'use', 'computer', 'acquire', 'key', 'restaurant', 'good', 'breakfast', 'hotel', 'not', 'walking', 'distance', 'major', 'attraction', 'like', 'stated', 'space', 'needle', 'pike', 'market', '20', 'min', 'away', 'walking', 'opted', 'drive', 'therewe', 'pleased', 'hotel', 'stay', 'great', 'value', 'seattle', 'spouse', 'stayed', 'warwick', 'seattle', 'day', 'september', 'hotel', 'not', 'disappoint', 'reasonably', 'priced', 'stay', 'downtown', 'area', 'easy', 'walk', 'sightseeing', 'attraction', 'block', 'waterfront', 'free', 'bus', 'seattle', 'figure', 'worked', 'research', 'room', 'king', 'bed', 'spacious', 'nicely', 'appointed', 'comfortable', 'plenty', 'pillow', 'coffee', 'room', 'course', 'great', 'seattle', 'bath', 'finished', 'marble', 'deep', 'tub', 'handheld', 'shower', 'nice', 'touch', 'toiletry', 'average', 'not', 'huge', 'consideration', 'complaint', 'concerned', 'desk', 'reservation', 'trip', 'leg', 'olympic', 'penninsula', 'decided', 'cancel', 'second', 'reservation', 'arrived', 'hotel', 'day', 'travel', 'desk', 'clerk', 'kept', 'waiting', 'minute', 'hello', 'moved', 'second', 'desk', 'clerk', 'free', 'told', 'reservation', 'not', 'attempt', 'look', 'walk', 'stair', 'parking', 'garage', 'confirmation', 'luggage', 'reservation', 'following', 'day', 'office', 'tried', 'told', 'nt', 'staying', 'parking', '21day', 'pretty', 'steep', 'option', 'parking', 'seattle', 'scarce', 'hotel', 'nt', 'shuttle', 'option', 'cab', '30the', 'hotel', 'restaurant', 'adequate', 'really', 'great', 'breakfast', 'walk', 'block', 'mayflower', 'park', 'hotel', 'pricey', 'fabulous', 'gem', 'hotel', 'absolute', 'gem', 'small', 'great', 'service', 'room', 'not', 'huge', 'certainly', 'adequate', 'clean', 'comfortable', 'ask', 'room', 'high', 'floor', 'great', 'view', 'downtown', 'space', 'needlebest', 'attentive', 'staff', 'concierge', 'friendly', 'helpful', 'shuttle', 'driver', 'went', 'way', 'literally', 'victoria', 'ferry', 'pick', 'convenientwould', 'recommend', 'pretty', 'good', 'value', 'visit', 'seattle', 'frequently', '1', '2', 'day', 'longer', 'staying', '2', 'night', 'not', 'worth', 'especially', 'hotel', 'raised', 'rate', 'lately', 'recommend', 'ramada', 'step', 'away', 'staying', 'longer', 'time', 'perfect', 'especially', 'family', 'fancier', 'hotel', 'town', 'warwick', 'satisfy', 'family', 'especially', 'expensive', 'suite', 'swimming', 'pool', 'bit', 'dark', 'balcony', 'acually', 'big', 'step', 'window', 'view', 'location', 'perfect', 'small', 'restaurant', 'dont', 'overpriced', 'not', 'offer', 'better', 'food', 'downtown', 'average', 'nice', 'stay', 'hotel', 'amazing', 'location', 'great', 'restaurant', 'gourmet', 'grocery', 'cinerama', '1', 'block', 'radius', 'macy', 'nordstroms', 'shopping', 'block', 'mattress', 'comfy', 'amazing', 'sweeping', 'view', 'space', 'needle', 'lake', 'union', 'downtown', 'elliott', 'bay', 'great', 'pool', 'gym', 'facility', 'room', 'service', 'nothing', 'write', 'home', 'nt', 'pizza', 'parking', '21', 'yikes', 'old', 'building', 'nicely', 'remodeled', 'bad', 'choice', 'booked', 'hotel', 'hot', 'wire', 'called', 'immediately', 'requesting', 'nonsmoking', 'room', 'king', 'bed', 'room', 'away', 'elevatoricethe', 'person', 'spoke', 'pleasant', 'stated', 'not', 'guarantee', 'request', 'honored', 'make', 'note', 'reservation', 'checkin', 'person', 'desk', 'rude', 'said', 'special', 'request', 'noted', 'reservation', 'card', 'andstated', 'king', 'bed', 'way', 'reservation', 'stuck', '2', 'double', 'bed', 'located', 'directly', 'accross', 'elevator', 'ice', 'nonsmoking', 'elevator', 'parking', 'garage', 'hotel', 'warwick', 'mat', 'garage', 'filthy', 'stairwell', 'hotel', 'face', '4th', 'smell', 'urine', 'carpet', 'registration', 'elevator', 'area', 'need', 'cleaning', 'upholstery', 'curtain', 'room', 'needed', 'cleaning', 'andpressing', 'sign', 'bathroom', 'water', 'conservation', 'tub', 'facet', 'dripped', 'continuously', 'tub', 'drain', 'needsattention', 'shower', 'curtain', 'hole', 'coffee', 'maker', 'room', 'bedding', 'not', 'fit', 'bed', 'sleeping', 'directly', 'mattress', 'bedding', 'askew', 'staff', 'unfriendly', 'short', 'housekeeping', 'staff', 'quite', 'pleasant', 'stay', 'hotel', 'good', 'value', 'hotel', 'stayed', 'warwick', 'time', 'past', 'year', 'spent', 'night', 'march', '25', '2005', 'room', 'fine', 'king', 'bed', 'tv', 'pay', 'view', 'movie', 'minifridge', 'thing', 'missing', 'coffee', 'maker', 'nice', 'marble', 'bathroom', 'hand', 'held', 'shower', 'view', 'east', 'hotel', 'space', 'needle', 'time', 'viewed', '2', 'westin', 'hotel', 'tower', 'price', 'right', 'got', '10', 'mile', 'aadvantage', 'card', 'fly', 'ointment', '21', 'overnight', 'parking', 'charge', 'definately', 'come', 'location', 'great', 'warwick', 'bad', 'good', 'review', 'warwick', 'shock', 'staff', 'quite', 'rude', 'room', 'fairly', 'dirty', 'cut', 'asked', 'bandaid', 'not', 'requested', 'bottle', 'opener', 'not', 'better', 'service', 'great', 'service', 'warwick', 'recently', 'spent', '4', 'day', 'christmas', 'holiday', 'warwick', 'helpfulness', 'care', 'courtesy', 'experienced', 'desk', 'restaurant', 'room', 'service', 'housekeeping', 'staff', 'truly', 'average', 'greatly', 'appreciated', 'restaurant', 'turned', 'fabulous', 'meal', 'time', 'certain', 'operating', 'skeleton', 'staff', 'thing', 'prevents', 'giving', 'place', 'excellent', 'rating', 'following', 'hotel', 'tired', 'old', 'dirty', 'carpet', 'bedding', 'expect', 'hostel', 'given', 'price', 'range', 'room', 'face', 'lift', 'necessary', 'austin', 'power', 'decor', 'familiar', 'hotel', 'seattlewhere', 'sheet', '3', 'different', 'color', 'hairbut', 'okbecause', 'clean', 'second', 'daythe', 'bathroom', 'friend', 'cringeshe', 'asked', 'brought', 'flip', 'flop', 'sanitizer', 'spraythe', 'dirty', 'shag', 'carpet', 'nt', 'stop', 'wallit', 'crawled', 'inchesi', 'star', 'saw', 'shining', 'worse', 'great', 'location', 'nt', 'stay', 'long', 'needed', 'place', 'stay', 'seattle', 'prior', 'catching', 'early', 'morning', 'amtrak', 'train', 'portland', 'looked', 'train', 'station', 'not', 'dropping', 'hertz', 'car', 'hilton', 'downtown', 'wanted', 'place', 'spend', 'night', 'called', 'hotel', 'seattle', 'based', 'location', 'tourist', 'map', 'near', 'hilton', 'nt', 'access', 'internet', 'research', 'review', 'not', 'stay', 'location', 'great', 'virtually', 'door', 'high', 'end', 'hotel', 'half', 'price', 'hilton', 'thought', 'try', 'checked', 'asked', 'aaa', 'discount', 'clerk', 'response', 'time', 'heard', 'hotel', 'desk', 'clerk', 'not', 'knowing', 'aaa', 'room', 'used', 'low', 'budget', 'movie', 'version', 'run', 'hotel', 'threadbare', 'carpet', 'dingy', 'curtain', 'not', 'quite', 'hanging', 'right', 'minimal', 'lighting', 'strange', 'hanging', 'light', 'middle', 'room', 'dingy', 'bathroom', 'definitely', 'dingy', 'not', 'appear', 'obviously', 'dirty', 'ac', 'luckily', 'nt', 'need', 'bed', 'not', 'particularly', 'comfortable', 'little', 'boucy', 'people', 'definitely', 'gravitated', 'middle', 'clock', 'room', 'wake', 'requestedit', 'ok', 'spending', 'night', 'nt', 'want', 'spend', 'positive', 'great', 'safe', 'location', 'quick', 'taxi', 'ride', 'train', 'station', 'shower', 'great', 'not', 'invested', 'low', 'flow', 'shower', 'head', 'water', 'pressure', 'really', 'high', 'really', 'enjoyed', 'conversation', 'desk', 'clerk', 'morning', 'mentioned', 'clerk', 'previous', 'night', 'heard', 'aaa', 'told', 'clerk', 'moron', 'owner', 'not', 'asked', 'interview', 'went', 'say', 'check', 'review', 'trip', 'advisor', 'listed', 'worst', 'hotel', 'seattle', 'got', 'ta', 'love', 'type', 'enthusiastic', 'employee', 'worked', 'night', 'friend', 'day', 'clerk', 'mention', 'nicer', 'room', 'definitely', 'nt', 'want', 'not', 'nice', 'one', 'recommend', 'ask', 'room', 'committing', 'pay', 'read', 'review', 'booked', 'knew', 'getting', 'mind', 'nt', 'surprised', 'fact', 'better', 'expected', 'yes', 'room', 'outdated', 'towel', 'floormat', 'limited', 'cable', 'tv', 'overall', 'lack', 'amenity', 'use', 'hotel', 'reviewer', 'said', 'like', 'budget', 'overseas', 'hotel', 'stayed', 'similar', 'condition', 'enjoyed', 'experience', 'check', 'desk', 'service', 'great', 'asked', 'extra', 'pillow', 'maid', 'got', 'spent', '5', 'flower', 'pike', 'street', 'added', 'character', 'roomlocation', 'friend', 'stayed', 'fairmont', 'street', 'stayed', '3', 'night', 'night', 'cost', 'money', 'went', 'dinner', 'trip', 'victoria', 'baseball', 'game', 'not', 'bad', 'location', 'unmatchable', 'price', 'range', 'simple', 'sleeping', 'room', '80', 'expect', 'pay', '2x', 'surprisingly', 'cleaner', 'hotel', 'seen', 'past', 'week', 'driving', 'la', 'staying', 'travelodge', 'day', 'inn', 'motel', '6', 'quality', 'furnishing', 'high', 'sure', 'little', 'run', 'spot', 'old', 'building', 'usual', 'character', 'flaw', 'none', 'affected', 'comfort', 'lucky', 'corner', 'room', 'especially', 'nice', 'look', 'w', 'know', 'paying', '250night', 'bath', 'worked', 'nt', 'care', 'watch', 'tv', 'vacation', 'idea', 'worked', 'want', 'believe', 'comment', 'feel', 'free', 'mean', 'room', 'come', 'remarkable', 'hotel', 'needed', 'day', 'booked', 'inn', 'based', 'tripadvisor', 'review', 'great', 'hotel', 'staff', 'professional', 'accomodating', 'town', 'car', 'service', 'available', 'airport', 'immaculate', 'room', 'spacious', 'bathroom', 'great', 'location', 'not', 'great', 'hotel', 'price', 'great', 'hotel', 'room', 'facing', 'inner', 'coutyard', 'problem', 'noise', 'room', 'face', 'st', 'noisy', 'location', 'excellent', 'downtown', 'seattlewent', 'attached', 'restaurant', 'bacco', 'breakfast', 'cafe', 'champagne', 'dinner', 'excellent', 'great', 'location', 'friendly', 'staff', 'stayed', 'hotel', 'easter', 'throughly', 'enjoyed', 'time', 'superably', 'located', 'exploring', 'seattle', 'especially', 'market', 'room', 'good', 'sizethe', 'staff', 'not', 'friendly', 'helpful', 'reception', 'area', 'welcomingour', 'room', 'exit', 'stairwell', 'night', 'hear', 'rumbling', 'assume', 'like', 'air', 'conditioning', 'pipe', 'excellent', 'way', 'stayed', 'inn', 'market', 'memorial', 'day', 'weekend', 'room', 'large', 'great', 'view', 'water', 'sure', 'request', 'way', 'advance', 'hotel', 'quiet', 'fully', 'booked', 'crowded', 'service', 'impeccable', 'staff', 'wellmannered', 'friendly', 'ca', 'nt', 'fault', 'anythingit', 'great', 'location', 'right', 'pike', 'place', 'market', 'near', 'lot', 'great', 'restaurant', 'like', 'etta', 'chez', 'shea', 'amazing', 'location', 'great', 'view', 'fabulous', 'boutique', 'hotel', 'adjacent', 'fish', 'market', 'seattle', 'stayed', 'short', 'night', 'heading', 'vancouver', 'island', 'honeymoon', 'loved', 'service', 'great', 'desk', 'pointed', 'great', 'spot', 'sandwich', '10pm', 'sunday', 'not', 'easy', 'hotel', 'adorable', 'chocolate', 'covered', 'strawberry', 'room', 'decorated', 'like', 'bride', 'groom', 'thoughtful', 'cute', 'touch', 'nt', 'time', 'explore', 'area', 'hotel', 'room', 'clean', 'pretty', 'view', 'watermarket', 'bathroom', 'nicer', 'standard', 'hotel', 'bathroom', 'brunch', 'morning', 'little', 'breakfast', 'place', 'tasty', 'hit', 'spot', 'drive', 'ferriesoh', 'hotel', 'cool', 'outdoor', 'patio', 'higher', 'floor', 'offer', 'really', 'incredible', 'viewsa', 'stone', 'throw', 'pike', 'place', 'market', 'outstanding', 'choice', 'reserved', 'city', 'view', 'room', 'night', 'week', 'checkin', 'helpful', 'desk', 'staff', 'amy', 'gave', 'complimentary', 'upgrade', '8th', 'floor', 'water', 'view', 'access', 'large', 'deck', 'overlook', 'seemingly', 'checkin', 'housekeeping', 'valet', 'service', 'checkout', 'smooth', 'friendly', 'pike', 'place', 'market', 'close', 'silly', 'staff', 'great', 'recommendation', 'breakfast', 'dinner', 'trying', 'steer', 'house', 'restaurant', 'stay', 'say', 'absolutely', 'excellent', 'room', 'clean', 'appointed', 'reason', 'not', 'reserve', 'room', 'timealthought', 'fairmont', 'better', 'choice', 'kid', 'come', 'great', 'hotel', 'great', 'hotel', 'good', 'sized', 'clean', 'room', 'helpful', 'staff', 'unbeatable', 'location', 'walk', 'door', 'pike', 'market', 'original', 'starbucks', 'hotel', 'walked', 'underground', 'tour', 'monorail', 'space', 'needle', 'duck', 'tour', 'stay', 'expensive', 'not', 'biz', 'traveller', 'simple', 'fact', 'hotel', 'location', 'simply', 'unbeatable', 'mere', 'stone', 'throw', 'away', 'pike', 'market', 'plenty', 'great', 'restaurant', 'generally', 'fun', 'area', 'tourist', 'quality', 'hotel', 'soso', 'not', 'place', 'business', 'traveller', 'bit', 'hard', 'especially', 'returned', 'trip', 'hk', 'stayed', 'conrad', 'hk', 'wynn', 'macau', 'compared', 'inn', 'feel', 'like', 'motel', '6', 'issues1', 'desk', 'room', 'place', 'laptop', 'wireless', 'internet', 'place', 'work', 'bed', '2', 'furniture', 'covering', 'worned', 'outdated', '3', 'room', '409', 'city', 'view', 'room', 'room', 'date', 'avoid', 'cost', 'window', 'sits', 'right', 'bus', 'stop', 'claim', 'window', 'double', 'paned', 'hear', 'bus', 'roaring', 'engine', 'sleep', 'ear', 'plug', 'desk', '4', 'ac', 'standalone', 'unit', 'attached', 'wall', 'not', 'central', 'standalone', 'unit', 'quite', 'bit', 'noise', 'look', 'cheap', 'tacky', '5', 'business', 'center', 'fax', 'machine', 'located', 'basement', 'hotel', 'price', 'pay', 'paying', 'location', 'staff', 'extremely', 'friendly', 'folk', 'check', 'fried', 'doughnut', 'dhalia', 'lounge', 'nice', 'place', 'lunatic', '20000', 'mile', 'flying', 'space', 'day', 'night', 'kill', 'seattle', 'early', 'transcon', 'flight', 'nyc', 'night', 'original', 'plan', 'needed', 'hotel', 'none', 'prebookedthis', 'place', 'recommended', 'block', 'excellent', 'irish', 'pub', 'kells', 'happened', 'ended', 'injust', 'room', 'left', '220', 'taxexcellent', 'friendly', 'staff', 'lovely', 'decor', 'big', 'room', 'im', 'used', 'nyc', 'rabbit', 'hutch', 'big', 'spacious', 'view', 'water', 'free', 'wifi', 'need', 'ask', 'reception', 'access', 'code', 'place', 'spotless', 'nicely', 'decorated', 'individual', 'usual', 'bland', 'chain', 'hotel', 'sadly', 'prevailthe', 'area', 'felt', 'finein', 'limited', 'time', 'safe', 'near', 'bar', 'shop', 'usual', 'stuff', 'drunken', 'noise', 'street', 'eitherit', 'quiet', 'comfortable', 'slept', 'wellnormally', 'like', 'add', 'picture', 'review', 'length', 'stay', 'lack', 'ca', 'nt', 'time', 'sorry', 'return', 'seattle', 'list', 'hotel', 'use', 'try', 'okay', 'not', 'amazing', 'husband', 'stayed', 'weekend', 'night', 'spent', 'time', 'trying', 'great', 'place', 'stay', 'seattle', 'read', 'tripadvisor', 'review', 'saw', 'listed', 'tl', '500', 'hotel', 'like', 'pretty', 'good', 'bet', 'fantastic', 'place', 'great', 'fine', 'not', 'really', 'amazing', 'little', 'boutique', 'hotel', 'expected', 'review', 'rating', 'thought', 'room', 'nice', 'not', 'incredible', 'service', 'better', 'woman', 'desk', 'friendly', 'got', 'thing', 'wrong', 'note', 'visiting', 'seattle', 'try', 'eat', 'canlis', 'incredible', 'meal', 'boutique', 'charmer', 'great', 'location', 'wife', 'recently', 'spent', '5', 'night', 'inn', 'market', 'attended', 'convention', 'nice', 'time', 'small', 'comfortably', 'furnished', 'hotel', 'great', 'location', 'hill', 'pike', 'place', 'market', 'walk', 'convention', 'center', '8', 'block', 'east', 'pretty', 'easy', 'steep', '12', 'block', 'adjacent', 'hotel', 'number', 'trendy', 'restaurant', 'walk', 'north', 'ave', 'pioneer', 'square', 'old', 'stone', 'building', 'charming', 'pergola', 'south', 'road', 'course', 'market', '12', 'block', 'west', 'food', 'stand', 'boutique', 'fish', 'flower', 'stall', 'handicraft', 'jewelry', 'table', 'entertainer', 'ethnic', 'dining', 'option', 'spill', 'narrow', 'alley', 'covered', 'arcade', 'pleasure', 'wake', 'morning', 'grab', 'eat', 'nearby', 'watching', 'small', 'truck', 'van', 'unload', 'ware', 'vendor', 'set', 'tablesour', 'room', 'corner', 'overlooking', 'city', 'spacious', 'lot', 'storage', 'space', 'wardrobe', 'large', 'bathroom', 'sink', 'pedestaltype', 'spreading', 'toiletry', 'limited', 'glass', 'shelf', 'nearby', 'small', 'tableshelf', 'unit', 'hear', 'traffic', 'noise', 'street', 'annoying', 'request', 'lowestpriced', 'room', 'city', 'nt', 'expecting', 'total', 'silence', 'closed', 'door', 'room', 'window', 'seat', 'pillow', 'nice', 'feature', 'make', 'room', 'appear', 'bigger', 'provides', 'additional', 'seating', 'good', 'spot', 'reading', 'peoplewatching', 'decor', 'contemporary', 'beige', 'brown', 'black', 'predominating', 'good', 'weather', 'upstairs', 'terrace', 'nice', 'place', 'sit', 'enjoy', 'view', 'bay', 'marketthe', 'modern', 'brick', 'building', 'surround', 'pleasant', 'courtyard', 'splashing', 'fountainsculpture', 'adjacent', 'outdoor', 'seating', 'hotel', 'restaurant', 'lobby', 'open', 'courtyard', 'fireplace', 'stuffed', 'chair', 'registration', 'desk', 'helpful', 'staff', 'operateswe', 'enjoyed', 'time', 'hotel', 'nice', 'option', 'nt', 'want', 'large', 'convention', 'hotel', 'central', 'seattle', 'location', 'aware', 'seattle', 'share', 'street', 'people', 'couple', 'strip', 'club', 'near', 'pike', 'place', 'market', 'loved', 'inn', 'inn', 'market', 'awesome', 'not', 'beat', 'location', 'right', 'market', 'room', 'large', 'bed', 'really', 'comfortable', 'room', 'partial', 'view', 'elliot', 'bay', 'nt', 'miss', 'rooftop', 'deck', 'best', 'view', 'seattle', 'short', 'space', 'needle', 'staff', 'friendly', 'highly', 'recommended', 'staying', 'future', 'nt', 'asked', 'better', 'hotel', 'experience', 'hotel', 'perfect', 'stayed', 'townhouse', 'suite', 'night', 'wish', 'stayed', 'month', 'soon', 'walked', 'room', 'opened', 'window', 'million', 'dollar', 'view', 'skyline', 'city', 'pike', 'market', 'literally', '50', 'foot', 'away', 'water', 'mountain', 'distance', 'room', 'level', 'kitchenette', 'living', 'room', 'downstairs', 'bedroom', 'bathroom', 'upstairs', 'bose', 'radio', 'great', 'fact', 'turned', 'television', 'bed', 'really', 'comfortable', 'linen', 'topnotch', 'okay', 'service', 'word', 'fantastic', 'extremely', 'important', 'greeted', 'casual', 'genuine', 'manner', 'time', 'enter', 'leave', 'hotel', 'eyecontact', 'sound', 'easy', 'rarity', 'today', 'hotel', 'market', 'matter', 'came', 'went', 'greeted', 'smile', 'eye', 'contact', 'really', 'love', 'staff', 'helpful', 'went', 'duty', 'ensure', 'taken', 'care', 'knew', 'great', 'place', 'wonderful', 'restaurant', 'dine', 'atsome', 'hotel', 'nt', 'inn', 'market', 'definitely', 'understands', 'excellent', 'service', 'hospitality', 'stay', 'small', 'intimate', 'property', 'like', 'taken', 'care', 'monstrous', 'hotel', 'kudos', 'staff', 'management', 'making', 'fabulous', 'hotel', 'experience', 'nice', 'need', 'undating', 'husband', 'stayed', 'inn', 'market', 'celebrate', 'birthday', 'overall', 'stay', 'wonderful', 'enjoyed', 'twostory', 'suite', 'incredible', 'view', 'market', 'sound', 'quiet', 'location', 'perfect', 'complaint', 'hotel', 'need', 'better', 'job', 'keeping', 'maintainance', 'room', 'major', 'scratch', 'wall', 'stain', 'carpet', 'crack', 'bathroom', 'tile', 'significant', 'sign', 'wear', 'bathroom', 'price', 'expected', 'regard', 'quality', 'upkeep', 'hopefully', 'management', 'pay', 'attention', 'keeping', 'lovely', 'hotel', 'fresh', 'lovely', 'wonderful', 'location', 'great', 'bed', 'pretty', 'room', 'inn', 'market', 'lived', 'positive', 'review', 'tourist', 'car', 'location', 'nt', 'better', 'countless', 'excellent', 'restaurant', 'easy', 'walking', 'distance', 'rainy', 'able', 'explore', 'area', 'race', 'hotel', 'warm', 'got', 'wet', 'cold', 'socal', 'little', 'tolerance', 'weather', 'staff', 'friendly', 'view', 'deck', 'glorious', 'dark', 'day', 'room', 'spacious', 'bed', 'extremely', 'comfortable', 'hotel', 'stay', 'seattle', 'great', 'fun', 'uncooperative', 'weather', 'tempurpedic', 'bed', 'minute', 'literally', 'driving', 'past', 'way', 'hotel', 'decided', 'stay', 'great', 'staff', 'extremely', 'helpful', 'accommodating', 'room', 'really', 'comfortable', 'clean', 'location', 'excellent', 'atmosphere', 'location', 'hotel', 'great', 'choice', 'previously', 'stayed', 'grand', 'hyatt', 'returning', 'room', 'internal', 'facing', 'left', 'bit', 'loud', 'tempurpedic', 'mattress', 'huge', 'bonus', 'fun', 'try', 'way', 'restaurant', 'courtyard', 'desk', 'staff', 'suggested', 'try', 'turned', 'excellent', 'view', 'deck', 'great', 'stay', 'loved', 'inn', 'stayed', 'inn', 'market', '71105', '71805', 'location', 'hotel', 'perfect', 'sightseeing', 'getting', 'seattle', 'car', 'nt', 'want', 'drive', 'seattle', 'pike', 'market', 'street', 'waterfront', 'step', 'monorail', 'space', 'needle', 'short', 'walk', 'plenty', 'great', 'place', 'eat', 'short', 'walk', 'cab', 'ride', 'service', 'conceirge', 'staff', 'inn', 'terrific', 'helpful', 'recommending', 'arranging', 'sightseeing', 'excursion', 'mt', 'ranier', 'whale', 'watching', 'vineyard', 'tour', 'etc', 'complimentary', 'town', 'car', 'available', 'trip', 'downtown', 'area', 'great', 'help', 'dinner', 'reservation', 'room', 'immaculate', 'twice', 'day', 'room', 'service', 'included', 'turn', 'evening', 'fresh', 'towel', 'decor', 'room', 'modern', 'elegant', 'nt', 'miss', 'roof', 'garden', 'area', 'great', 'view', 'puget', 'sound', 'great', 'place', 'unwind', 'end', 'day', 'bottle', 'wine', 'definetly', 'return', 'inn', 'worth', 'money', 'location', 'recently', 'stayed', 'inn', 'market', 'returning', 'stayed', '1999', 'best', 'location', 'seattle', 'particularly', 'shopping', 'hotel', 'nice', 'room', 'nicely', 'furnished', 'not', 'breath', 'away', 'room', 'view', 'risky', 'go', 'seattle', 'sit', 'room', 'watch', 'world', 'bed', 'tempurpedic', 'incredible', 'count', 'great', 'night', 'sleep', '1999', 'staff', 'excellent', 'requested', 'room', 'floor', 'terrace', 'met', 'request', 'pleasantly', 'guest', 'advantage', 'terrace', 'nice', 'evening', 'shop', 'pine', 'street', 'purchase', 'nice', 'bottle', 'washington', 'state', 'wine', 'snack', 'head', 'terrace', 'watch', 'ship', 'leave', 'sunset', 'relaxing', 'romantic', 'staff', 'assist', 'wine', 'glass', 'needed', 'hated', 'inn', 'terrible', 'roomservice', 'horrible', 'staff', 'unwelcoming', 'decor', 'recently', 'updated', 'lack', 'complete', 'look', 'managment', 'staff', 'horrible', 'loved', 'inn', 'husband', 'wanted', 'romantic', 'away', 'night', 'inn', 'perfect', 'met', 'imagined', 'room', 'clean', 'quiet', 'comfortable', 'bath', 'robe', 'nice', 'touch', 'staff', 'helpful', 'location', 'great', 'good', 'restaurant', 'walking', 'distance', 'market', 'right', 'fun', 'visit', 'time', 'free', 'bus', 'service', 'close', 'visit', 'site', 'city', 'beware', 'parking', 'hotel', 'valet', 'cost', '2500', 'night', 'mentioned', 'desk', 'person', 'not', 'away', 'cost', 'not', 'mentioned', 'web', 'page', 'expected', 'pay', 'removed', 'charge', 'great', 'customer', 'service', 'wonderful', 'deck', 'overlooking', 'puget', 'sound', 'recommend', 'inn', 'planning', 'long', 'visit', 'romantic', 'away', 'ace', 'not', 'place', 'husband', 'stayed', 'ace', 'hotel', 'seattle', 'night', 'excited', 'book', 'room', 'style', 'hotel', 'far', 'alley', 'floral', 'bb', 'motel', '6', 'happy', 'impression', 'room', 'decent', 'sized', 'bright', 'corner', 'window', 'it__ç_é_', 'pictured', 'website', 'shepard', 'fairey', 'wall', 'asked', 'desk', 'clerk', 'parking', 'state', 'website', 'street', 'parking', 'available', 'nt', 'tell', 'got', 'street', 'parking', 'stay', '8am', 'start', 'charging__ç', 'nt', 'lot', 'info', 'drug', 'luggage', 'room', 'headed', 'bed', 'thing', 'got', 'worse', 'bed', 'size', 'not', 'listed', 'website', 'assumed', 'queen', 'bed', 'sized', 'sleeping', 'comfortably', 'little', 'difficult', 'nt', 'sleep', 'happening', 'room', 'room', 'bar', 'loadingdelivery', 'zone', 'corner', 'bus', 'stop', 'noise', 'staggering', 'continued', 'night', 'morning', 'wake', 'early', 'feed', 'meter', 'glowing', 'light', 'hall', 'showing', 'window', 'door', 'annoying', 'saw', 'turned', 'day', 'requested', 'fairness', 'rest', 'staff', 'dealt', 'nice', 'accommodating', 'unable', 'following', 'night', 'hotel', 'plus', 'shared', 'bathroom', 'issue', 'finding', 'free', 'breakfast', 'include', 'coffee', 'tea', 'fresh', 'waffle', 'toast', 'granola', 'juice', 'yogurt', 'apple', 'pile', 'good', 'magazine', 'available', 'guest', 'robe', 'room', 'use', 'second', 'night', 'slept', 'slightly', 'better', 'used', 'earplug', 'not', 'acceptable', 'solution', 'wake', 'early', 'deal', 'car', 'night', 'moved', 'smaller', 'interior', 'room', 'considerably', 'quieter', 'downed', 'music', 'hear', 'fan', 'hall', 'bathroom', 'room', 'wall', 'definitely', 'felt', 'like', 'dorm', 'room', 'sleep', 'better', 'recommend', 'hotel', 'traveling', 'friend', 'not', 'plan', 'sleeping', 'loud', 'roommate', 'come', 'home', 'drunk', 'play', 'loud', 'music', 'time', 'location', 'good', 'walking', 'attraction', 'like', 'space', 'needle', 'market', 'good', 'restaurant', 'nearby', 'don__ç_é_', 'know', 'stay', 'pay', 'location', 'location', 'perfect', 'walking', 'distance', 'lot', 'stair', 'bag', 'problem', 'elevator', 'available', 'clean', 'noisy', 'woodden', 'floor', 'hear', 'room', 'street', 'breakfast', 'included', 'good', 'conclusion', 'good', 'compromise', 'ace', 'grunge', 'life', 'mold', 'mildew', 'tiny', 'bed', 'metal', 'sink', 'cool', 'extra', 'instead', 'nightsta', 'ace', 'hotel', 'reasonably', 'priced', 'hotel', 'great', 'location', 'seattle', 'spent', 'night', 'room', 'staff', 'great', 'communal', 'shower', 'immaculate', 'queue', 'breakfast', 'great', 'bit', 'street', 'noise', 'coming', 'floor', 'ear', 'plug', 'room', 'highly', 'recommend', 'bar', 'cyclops', 'hotel', 'disappointed', 'arranging', 'anticipated', 'girl', 'weekend', 'friend', 'escape', 'child', 'excited', 'sleeping', 'night', 'child', 'want', 'enjoy', 'hip', 'place', 'cool', 'design', 'stay', 'boring', 'runofthe', 'hotel', 'opted', 'ace', 'hotel', 'dig', 'order', 'ensure', 'maximum', 'uninterrupted', 'sleep', 'booked', 'separate', 'room', 'arrival', 'hotel', 'informed', 'hotel', 'mixup', 'online', 'reservation', 'room', 'small', 'queensized', 'bed', 'supposedly', 'deluxe', 'room', 'normally', 'suck', 'accept', 'simple', 'mistake', 'time', 'really', 'annoyed', 'irritation', 'partially', 'attributed', 'overall', 'nonchalant', 'attitude', 'ubercool', 'reception', 'person', 'nt', 'really', 'attempt', 'compensate', 'slightly', 'lower', 'rate', 'room', 'fact', 'checked', 'reservation', 'printed', 'sheet', 'refused', 'let', 'look', 'friend', 'asked', 'wanting', 'crossreference', 'information', 'sheet', 'written', 'reservation', 'strange', 'appeared', 'mistake', 'nt', 'want', 'admit', 'quick', 'blame', 'online', 'booking', 'inference', 'fault', 'booking', 'online', 'add', 'insult', 'injury', 'told', 'shelling', 'small', 'fortune', 'parking', 'lot', 'street', 'parking', 'reduced', 'rate', 'lot', 'not', 'easily', 'marked', 'room', 'dingy', 'not', 'charming', 'photo', 'website', 'suggest', 'couple', 'room', 'walking', 'corridor', 'looked', 'lot', 'better', 'room', 'didanyway', 'aside', 'great', 'location', 'decently', 'priced', 'overall', 'experience', 'nt', 'impressive', 'day', 'later', 'received', 'email', 'hotel', 'thanking', 'staying', 'hope', 'enjoyed', 'stay', 'responded', 'email', 'outlining', 'frustration', 'accomodation', 'not', 'like', 'time', 'really', 'needed', 'air', 'dissatisfaction', 'hotel', 'manager', 'replied', 'apologetic', 'email', 'offered', 'discount', 'later', 'night', 'stay', 'redeemed', '1st', '2008', 'like', 'positive', 'response', 'negative', 'experience', 'planned', 'return', 'hotel', 'husband', 'romantic', 'away', 'socalled', 'compensatory', 'offer', 'acknowledged', 'multiple', 'attempt', 'contact', 'manager', 'specific', 'date', 'weekend', 'message', 'nothing', 'not', 'return', 'message', 'nt', 'know', 'happened', 'reply', 'guess', 'hotel', 'nt', 'need', 'business', 'experience', 'isolated', 'case', 'event', 'not', 'planning', 'stay', 'ace', 'time', 'soon', 'ace', 'hotel', 'awesome', 'stayed', 'seattle', 'ace', 'hotel', '5', 'day', 'loved', 'great', 'location', 'belltown', 'directly', 'opposite', 'macrina', 'bakery', 'quite', 'possibly', 'best', 'breakfastbrunchlunch', 'place', 'seattle', 'wtih', 'fabulous', 'baked', 'goodsall', 'staff', 'friendly', 'helpful', 'checkin', 'friendly', 'receptionist', 'forgot', 'ask', 'sorry', 'gave', '4', 'fabulous', 'food', 'recommendation', 'city', 'tried', 'loved', 'foodie', 'extemely', 'important', 'good', 'recommendation', 'localsthe', 'room', 'small', 'totally', 'adequate', 'shared', 'bathroom', 'shower', 'room', 'spotlessly', 'clean', 'enjoyed', 'simplicity', 'hotel', 'little', 'extra', 'touch', 'like', 'adjustable', 'lighting', 'music', 'bathroom', 'free', 'current', 'magazine', 'available', 'lobby', 'breakfast', 'granola', 'really', 'yummy', 'toofor', 'location', 'amenity', 'price', 'say', 'ace', 'hard', 'beat', 'perfect', 'way', 'stayed', 'ace', 'seattle', 'short', 'time', 'august', 'perfect', 'hotel', 'thing', 'need', 'none', 'thing', 'nt', 'great', 'design', 'super', 'comfy', 'great', 'location', 'staff', 'friendly', 'knew', 'cool', 'place', 'helpful', 'way', 'room', 'super', 'stylie', 'great', 'art', 'ammenities', 'really', 'need', 'loved', 'place', 'planning', 'make', 'sepcial', 'trip', 'portland', 'check', 'ace', 'portland', 'apparently', 'turntable', 'room', 'library', 'vinyl', 'check', 'interesting', 'comfortable', 'base', 'seattle', 'really', 'enjoyed', 'time', 'interesting', 'decor', 'unique', 'touch', 'super', 'clean', 'tidy', 'bathroom', 'shared', 'spacious', 'clean', 'available', 'breakfast', 'adequate', 'fresh', 'simple', 'quite', 'healthy', 'nice', 'change', 'usual', 'cardiac', 'inducing', 'breakfast', 'fare', 'served', 'hotel', 'definitely', 'stay', 'great', 'hotel', 'nontraditional', 'stay', 'true', 'feel', 'seattle', 'actually', 'stayed', 'ace', '2', 'new', 'year', 'eve', 'ago', 'live', 'seattle', 'popped', 'occasion', 'make', 'sure', 'route', 'friend', 'people', 'visiting', 'seattle', 'aceit', 'downtown', 'busy', 'street', '1st', 'ave', 'room', 'interior', 'viewbut', 'room', 'funky', 'modern', 'room', 'bath', 'bath', 'robe', 'fun', 'ok', 'shared', 'bath', 'little', 'noise', 'ask', 'room', 'facing', 'street', 'hotel', 'best', 'neighborhood', 'seattle', 'accessible', 'seattle', 'center', 'ton', 'great', 'bar', 'restaurant', 'casual', 'try', 'belltown', 'pizza', 'cyclops', 'surprise', 'great', 'food', 'stiff', 'drink', 'nicer', 'meal', 'try', 'zoe', 'breakfast', 'walk', 'street', 'macrina', 'bakery', 'morning', 'glory', 'rocket', 'muffin', 'food', 'place', '5', 'block', 'ace', 'hotel', 'fish', 'marketpike', 'place', 'waterfront', 'downtown', 'shopping', 'couple', 'block', 'ride', 'zone', 'bus', 'want', 'downtownif', 'want', 'standard', 'not', 'place', 'want', 'experience', 'seattle', 'willing', 'roll', 'punch', 'want', 'little', 'adventure', 'ace', 'hotel', 'fit', 'perfectly', 'cant', 'beat', 'price', 'downtown', 'seattle', 'stay', 'clear', 'internet', 'reservation', 'friday', 'rang', 'hour', 'later', 'add', 'thursday', 'booking', 'thursday', 'rang', 'let', 'know', 'arriving', 'late', 'said', 'problem', 'arrive', '1030pm', 'hear', 'oh', 'nt', 'booking', 'tonight', 'nt', 'room', 'total', 'apathy', 'not', 'concerned', 'say', 'sorrys', 'look', 'reservation', 'book', 'sorrys', 'apathy', 'finally', 'say', 'bb', 'door', 'call', 'authority', 'hang', 'say', 'sorry', 'time', 'incompetence', 'management', 'employee', 'completely', 'soured', 'trip', 'stay', 'away', 'single', 'room', 'like', 'hospital', 'room', 'single', 'room', 'hotel', 'sparse', 'intentional', 'know', 'ugly', 'like', 'trapped', 'hospital', 'white', 'wall', 'sink', 'basin', 'room', 'small', 'rectangle', 'shapethe', 'bed', 'hard', 'rock', 'blanket', 'rough', 'really', 'noisythis', 'overrated', 'hotel', 'stayed', 'fan', 'stype', 'hotel', 'nice', 'hotel', 'husband', 'stayed', 'crown', 'plaza', 'spring', 'break', 'arrival', 'told', 'given', 'room', 'bed', 'booked', 'king', 'bed', 'matter', 'resolved', 'quickly', 'staff', 'helpful', 'met', 'request', 'room', 'large', 'clean', 'quiet', 'great', 'view', 'location', 'hotel', 'decent', 'overall', 'great', 'experience', 'really', 'complaint', 'said', 'elevator', 'bit', 'slow', 'stay', 'seattle', 'crown', 'plaza', 'not', 'worth', 'money', 'got', 'late', 'hotel', '1230pm', 'gave', 'away', 'reservation', 'king', 'sized', 'bed', 'travelbusiness', 'day', 'booked', 'hotel', 'girl', 'reception', 'desk', 'asked', 'bc', 'late', 'blamed', 'day', 'shift', 'giving', 'away', 'room', '4pm', 'thing', 'said', 'nothing', 'proceded', 'offer', 'breakfast', 'change', 'room', 'morning', 'rude', 'not', 'make', 'good', 'eye', 'contact', 'ask', 'manager', 'nt', 'manager', 'morning', 'day', 'people', 'helpful', 'pleasant', 'deal', 'hotel', 'accomodations', 'old', 'need', 'lot', 'renovation', 'example', 'wallpaper', 'bathroom', 'peeling', 'got', 'king', 'bedroom', 'gave', 'corner', 'room', 'probably', 'inconvenience', 'furniture', 'not', 'fit', 'room', 'tv', 'small', 'dresser', 'small', 'tried', 'use', 'safe', 'room', 'broken', 'immediately', 'called', 'desk', 'asked', 'help', 'day', 'later', 'checked', 'addressed', 'good', 'thing', 'food', 'breakfast', 'buffet', 'healthy', 'good', 'lunch', 'manager', 'trying', 'make', 'poorly', 'trained', 'employee', 'clam', 'chowder', 'salmon', 'spinach', 'salad', 'crab', 'cake', 'really', 'good', 'priority', 'award', 'floor', '32', 'member', 'hilton', 'honor', 'priority', 'award', 'intercontinental', 'chain', 'use', 'hilton', 'property', 'chose', 'not', 'pay', '25000', 'night', 'seattle', 'hiltoni', 'given', 'gold', 'hotel', 'room', 'key', 'checkin', 'room', '32nd', 'floor', 'view', 'quite', 'impressive', 'good', 'experience', 'ended', '32nd', 'floor', 'reserved', 'priority', 'member', 'lounge', 'complimentary', 'appetizer', 'evening', 'room', 'adjacent', 'elevator', 'lounge', 'dinner', 'returned', 'room', '930', '10', '12', 'pmam', 'lounge', 'cleaned', 'hotel', 'staff', 'vacuum', 'going', 'employee', 'chattering', 'making', 'incessant', 'noise', 'cleaning', 'commercial', 'office', 'building', 'regard', 'guest', 'priority', 'club', 'floor', 'management', 'clue', 'lounge', 'cleaned', '89', 'common', 'sensefinally', 'poster', 'indicated', 'right', 'elevator', 'shaft', 'hear', 'waited', '10', 'minute', 'elevator', 'arrive', '500', 'pm', 'taken', 'clue', 'saw', 'earplug', 'sleep', 'kit', 'bed', 'check', 'great', 'hotel', 'hotel', 'nice', 'room', 'really', 'comfortable', 'clean', 'location', 'pretty', 'good', 'block', 'pike', 'place', 'market', 'waterfront', 'definitely', 'stay', 'seattle', 'great', 'stay', 'elevator', 'agree', 'previous', 'post', 'hotel', 'elevator', 'stayed', '4', 'night', '85', '89', 'checked', 'room', 'early', 'given', 'corner', 'club', 'room', '34th', 'floor', 'fabulous', 'view', 'elliott', 'bay', 'space', 'needle', 'lake', 'union', 'bed', 'great', 'think', 'slept', 'better', 'week', 'morning', 'club', 'level', 'continental', 'breakfast', 'afternoon', 'snack', 'good', 'ordered', 'room', 'service', 'twice', 'pizza', 'sandwich', 'arrived', 'promptly', 'pizza', 'actually', 'pretty', 'good', 'impressed', 'desk', 'personnel', 'called', 'time', 'saw', 'mishap', 'locking', 'room', 'gown', 'putting', 'room', 'service', 'tray', 'housekeeping', 'pick', 'duh', 'went', 'hall', 'heard', 'people', 'room', 'knocked', 'let', 'use', 'phone', 'desk', 'security', 'guard', 'showed', '3', '4', 'minute', 'used', 'service', 'elevator', 'apparently', 'freed', 'public', 'elevator', 'complaint', 'stay', 'business', 'seattle', 'definitely', 'stay', 'crowne', 'plaza', 'like', 'poster', 'plan', 'leave', 'early', 'catch', 'elevator', 'holiday', 'inn', '1st', 'time', 'seattle', 'delayed', 'anniversary', 'trip', 'wanted', 'stay', 'nicer', 'hotel', 'room', 'reminded', 'holiday', 'inn', 'level', 'hotel', 'plain', 'room', 'extra', 'pillow', 'bathroom', 'ordinary', 'corian', 'sink', 'ordinary', 'bathroom', 'room', 'higher', 'floor', 'looking', 'freeway', 'loud', 'reason', 'earplug', 'sleep', 'cd', 'asked', 'switch', 'room', 'told', 'probably', 'stay', 'way', 'stay', '2', 'night', 'staying', 'hotel', 'different', 'area', 'town', 'luggage', 'room', 'decided', 'eat', 'stopped', 'concierge', 'asked', 'good', 'place', 'walk', 'rudely', 'told', 'walk', 'area', 'not', 'sure', 'concierge', 'doorman', 'sitting', 'desk', 'expected', 'help', 'decided', 'night', 'hotel', 'come', 'day', 'earlier', 'happily', 'said', 'used', 'club', 'point', 'crowne', 'room', 'maybe', 'lousy', 'experience', 'opted', 'leave', 'pay', 'room', 'luxury', 'hotel', 'hotel', '1000', 'stay', 'liked', 'good', 'rate', 'hotel', 'room', '24th', 'floor', 'great', 'view', 'room', 'nice', 'clean', 'liked', 'sleep', 'aid', 'includes', 'dvd', 'lavender', 'spray', 'pillow', 'eyemask', 'earplug', 'nt', 'notice', 'noise', 'walked', 'baseball', 'game', 'maybe', 'tired', 'staff', 'helpful', 'friendly', 'stay', 'seattle', 'somewhat', 'frequently', 'business', 'stay', 'parking', 'expensive', 'seattlewelcome', 'city', 'good', 'location', 'value', 'downtown', 'stayed', 'town', 'conference', 'convention', 'center', 'little', 'expensive', 'downtown', 'hotel', 'able', 'book', 'club', 'room', 'rate', 'regular', 'room', 'hotel', 'included', 'continental', 'breakfast', 'club', 'lounge', 'pastry', 'cereal', 'fruit', 'earlyevening', 'appetizer', 'charge', 'alcoholic', 'beverage', 'got', 'room', 'high', 'floor', 'great', 'view', 'city', 'gave', 'coupon', 'free', 'appetizer', 'barthe', 'hotel', 'convenient', 'business', 'convention', 'center', 'minute', 'walk', 'park', 'street', 'directly', 'convention', 'center', 'door', 'fine', 'decent', 'gym', 'ok', 'bar', 'stay', 'try', 'book', 'club', 'room', 'visit', 'seattle', 'good', 'experience', 'booked', 'minute', 'escape', 'university', 'tower', 'hotel', 'review', 'proved', 'excellent', 'minute', 'findcentral', 'clean', 'room', 'good', 'view', 'albeit', 'room', 'exec', 'level', 'nt', 'exactly', 'spacioustry', 'book', 'executive', 'room', 'possible', 'good', 'choice', 'breakfast', 'hors', 'doeuvres', 'day', 'make', 'overall', 'package', 'palatablerestaurant', 'little', 'pricey', 'good', 'food', 'staying', 'night', 'skip', 'try', 'benihana', 'road', 'hotel', 'great', 'food', 'atmosphere', 'pleasant', 'experience', 'location', 'hotel', 'good', 'convenient', 'walking', 'distance', 'room', '34th', 'floor', 'club', 'level', 'facing', 'water', 'view', 'spectacular', 'room', 'large', 'newly', 'furnished', 'marble', 'bath', 'comfortable', 'king', 'bed', 'elevator', 'fast', '3', 'lounge', 'small', 'drink', 'pricey', 'service', 'average', 'checkin', 'prompt', 'courteous', 'club', 'level', 'includes', 'continental', 'breakfast', 'money', 'timesaver', 'morning', 'good', 'experience', 'hotel', 'experience', 'similar', 'crowne', 'plaza', 'hotel', 'gripe', 'not', 'make', 'reservation', 'directly', 'hotel', 'told', 'stay', 'nonqualifying', 'priority', 'club', 'reward', 'point', 'annoying', 'silly', 'rule', 'make', 'think', 'twice', 'booking', 'hotel', 'group', 'crowne', 'plaza', 'hotel', 'unlike', 'marriott', 'hotel', 'smoking', 'room', 'available', 'smoker', 'good', 'news', 'not', 'sure', 'request', 'nonsmoking', 'room', 'worst', 'hotel', 'experience', 'booked', 'nonsmoking', 'room', 'online', 'week', 'advance', 'stay', 'crowne', 'plaza', 'downtown', 'seattle', 'arrival', 'desk', 'staff', 'asked', 'consider', 'smoking', 'room', 'completely', 'unacceptable', 'family', 'clearly', 'stated', 'not', 'consider', 'smoking', 'room', 'mainly', 'concern', 'infant', 'daughter', 'health', 'particular', 'staff', 'member', 'went', 'speak', 'quietly', 'desk', 'staff', 'member', 'agreed', 'particular', 'room', 'entered', 'room', 'smell', 'cigarette', 'smoke', 'apparent', 'not', 'imagine', 'desk', 'staff', 'intentionally', 'smoking', 'room', 'informing', 'day', 'later', 'discovered', 'ashtray', 'match', 'checked', 'desk', 'discover', 'fact', 'smoking', 'room', 'intentionally', 'not', 'kept', 'reserved', 'nonsmoking', 'room', 'clothes', 'belonging', 'baby', 'reeked', 'cigarette', 'smokein', 'addition', 'appalling', 'lack', 'concern', 'health', 'wish', 'room', 'not', 'serviced', 'night', 'stay', 'asked', 'desk', 'manager', 'room', 'not', 'serviced', 'checked', 'housekeeping', 'informed', 'not', 'disturb', 'tag', 'door', 'not', 'disturb', 'not', 'case', 'tag', 'inside', 'door', 'entire', 'time', 'anxiously', 'awaiting', 'staff', 'garbage', 'dirty', 'diaper', 'replace', 'towel', 'desk', 'manager', 'offered', 'pathetic', 'compensation', 'complimentary', 'hotel', 'breakfast', 'family', 'exposed', 'carcinogenic', 'cigarette', 'fume', 'day', 'not', 'room', 'cleaned', 'definitely', 'stay', 'crowne', 'plaza', 'hotel', 'close', 'convention', 'center', 'stayed', 'seattle', 'crowne', 'plaza', 'feb', '1113', 'got', 'great', 'rate', '65night', 'hotwire', 'checked', 'saturday', 'afternoon', '1pm', 'got', 'room', '23rd', 'floor', 'directly', 'elevator', 'nt', 'really', 'hear', 'noise', 'hallway', 'elevator', 'air', 'conditioning', 'pretty', 'loud', 'covered', 'outside', 'noise', '2', 'double', 'bed', 'room', 'nice', 'view', 'i5', 'son', 'loved', 'view', 'car', 'freeway', 'asked', 'king', 'bed', 'lady', 'desk', 'said', 'nt', 'available', 'wondering', 'people', 'book', 'hotwire', 'room', 'elevator', 'mom', 'assigned', 'room', 'elevator', 'booked', 'hotwire', 'room', 'pretty', 'spacious', 'room', '2', '12', 'year', 'old', 'son', 'play', 'toy', 'bathroom', 'pretty', 'tiny', 'shower', 'regular', 'sized', 'good', 'water', 'pressure', 'conditioning', 'shampoo', 'mouthwash', 'lotion', 'facial', 'soap', 'supplied', 'crowne', 'plaza', 'try', 'add', 'little', 'detail', 'noticed', 'room', 'arrival', 'little', 'red', 'bag', 'filled', 'ear', 'plug', 'eye', 'mask', 'linen', 'spray', 'bed', 'cd', 'soft', 'music', 'bathroom', 'nightlight', 'curtain', 'clip', 'light', 'nice', 'touch', 'bed', 'decent', 'room', 'quite', 'dry', 'hard', 'sleeping', 'throat', 'drythe', 'main', 'reason', 'seattle', 'visit', 'northwest', 'flower', 'garden', 'held', 'convention', 'center', 'hotel', 'good', 'location', 'able', 'walk', 'freeway', 'park', 'end', 'directly', '4th', 'floor', 'entrance', 'convention', 'center', '510', 'minute', 'pacific', 'place', 'shopping', 'center', '5', 'block', 'away', 'westlake', '7', 'block', 'away', 'pike', 'place', '10', 'block', 'walking', 'night', 'little', 'scary', 'lot', 'homeless', 'people', 'lot', 'people', 'smoking', 'weed', 'begging', 'money', 'nt', 'exactly', 'feel', 'safe', 'day', 'okthere', 'selfparking', 'hotel', 'valet', 'service', 'quite', 'expensive', '27night', 'notice', 'public', 'parking', 'lot', 'block', '12dayoverall', 'nice', 'stay', 'crowne', 'plaza', 'stay', 'got', 'hotwire', 'rate', 'not', 'bad', 'clean', 'comfy', 'friendly', 'good', 'average', 'hotel', 'looking', 'ritzy', 'nt', 'place', 'decent', 'view', 'higher', 'motel', 'expectation', 'ca', 'nt', 'afford', 'ritz', 'type', 'hotel', 'place', 'not', 'badas', 'hotel', 'downtown', 'parking', 'valet', '25', 'better', 'trying', 'park', 'street', 'room', 'clean', 'courteous', 'friendly', 'desk', 'valet', 'loved', 'inn', 'queen', 'anne', 'really', 'great', 'stay', 'great', 'staff', 'continental', 'breakfast', 'locationsuite', 'included', 'bedroom', 'lounge', 'room', 'kitchen', '2', 'walkin', 'robe', 'den', 'quaint', 'not', 'rundown', 'son', 'decided', 'celebrate', 'graduation', 'high', 'school', 'trip', 'seattle', 'chose', 'inn', 'queen', 'anne', 'proximity', 'experience', 'music', 'project', 'space', 'needle', 'funky', 'shop', 'eatery', 'nearby', 'hotel', 'described', 'quaint', 'picture', 'hotel', 'website', 'nice', 'gave', 'shotupon', 'entering', 'hotel', 'greeted', 'carpet', 'lobby', 'filthy', 'torn', 'uhoh', 'thought', 'not', 'good', 'sign', 'desk', 'overbooked', 'paid', 'confirmed', 'reservation', 'late', 'arrival', '2', 'week', 'prior', 'room', 'left', '2', 'bed', 'took', 'hurriedly', 'left', 'thing', 'room', 'grab', 'quick', 'bite', 'returning', 'getting', 'bed', 'noticed', 'room', 'ac', 'window', 'not', 'open', 'son', 'double', 'bed', 'clean', 'twin', 'hairy', 'sheet', 'closet', 'not', 'talking', 'old', 'fashioned', 'wall', 'pullout', 'bedthis', 'actually', 'tiny', 'twin', 'bed', 'stuffed', 'closet', 'went', 'kitchenette', 'leftover', 'fridge', 'fridge', 'mold', 'not', 'work', 'went', 'desk', 'complain', 'told', 'nothing', 'sucked', 'tried', 'sleep', 'took', 'sheet', 'bed', 'used', 'son', 'blanket', 'eventually', 'closet', 'got', 'stuffy', 'jumped', 'son', 'bed', 'fan', 'morning', 'experienced', 'plumbing', 'issue', 'toilet', 'shower', 'bug', 'bathroom', 'packing', 'looked', 'bed', 'make', 'sure', 'got', 'discovered', 'possession', 'stayed', 'did', 'housekeeper', 'not', 'clean', 'bed', 'change', 'sheet', 'canceled', 'rest', 'stay', 'decided', 'leave', 'seattle', 'drove', 'anacortes', 'stayed', 'cap', 'sante', 'inn', 'palace', 'compared', 'night', 'beforei', 'wrote', 'manager', 'queen', 'anne', 'requesting', 'refund', 'received', 'letter', 'saying', 'refund', 'not', 'given', 'gave', 'coupon', 'stay', 'use', 'word', 'quaint', 'queen', 'anne', 'us', 'advertising', 'not', 'rundownmy', 'advice', 'anybody', 'staying', 'check', 'room', 'white', 'glove', 'inspection', 'make', 'sure', 'working', 'order', 'agree', 'stay', 'itby', 'way', 'queen', 'anne', 'policy', 'reserve', 'room', 'charge', 'card', 'immediately', 'not', 'refund', '72', 'hour', 'advance', 'cancellation', 'ridiculous', 'comfortable', 'aptstyle', 'hotel', 'enjoyable', 'stay', 'price', 'amenity', 'europeanstyle', 'hotel', 'building', 'old', 'furniture', 'classic', 'style', 'comfortable', 'ac', 'upper', 'floor', 'able', 'open', 'window', 'terrific', 'grocery', 'nearby', 'metropolitan', 'market', 'good', 'restaurant', 'seattle', 'center', 'space', 'needle', 'experience', 'music', 'project', 'science', 'center', 'far', 'pike', 'market', 'waterfront', 'inn', 'shuttle', 'available', 'day', 'parking', 'tight', 'limited', 'hotel', 'space', 'usually', 'parking', 'street', 'fee', '12', 'hour', 'parking', '6', 'pm', 'free', 'street', 'car', '8', 'amreported', 'slow', 'toilet', 'fixed', 'immediately', 'staff', 'responsive', 'not', 'bad', 'place', 'stay', 'short', 'term', 'nt', 'expect', 'want', 'roominess', 'amenity', 'not', 'walk', 'stair', 'not', 'place', 'youif', 'day', 'need', 'place', 'sleep', 'shower', 'fine', 'place', 'rate', 'good', 'compared', 'lodging', 'cityit', 'old', '1920', 'built', 'twin', 'apartment', 'building', 'retired', 'priest', 'nun', 'building', 'sister', 'priestsour', 'room', 'queen', 'bed', 'large', 'walkin', 'closet', 'kitchenette', 'bath', 'clean', 'adequate', 'night', 'staythe', 'staff', 'friendly', 'bellboyadam', 'nice', 'helpful', 'stairway', 'funny', 'smell', 'mildew', 'like', 'room', 'air', 'conditioner', 'smell', 'temp', 'hit', '90', 'open', 'window', 'ceiling', 'fan', 'bearable', 'hot', 'temperature', 'seattle', 'rarethis', 'street', 'city', 'center', 'old', '1962', 'world', 'fair', 'site', 'space', 'needle', 'park', 'amusement', 'ride', 'short', 'walk', 'away', 'monorail', '2', 'ride', 'downtown', 'walk', 'free', 'public', 'transportation', 'pioneer', 'square', 'pike', 'markey', 'waterfrontif', 'arriving', 'air', 'rushhour', 'period', 'suggest', 'let', 'hotel', 'book', 'towncar', '45', 'plus', 'tip', 'taxi', 'ride', 'rushhour', 'expensive', 'stuck', 'traffic', 'nice', 'not', 'meter', 'went', 'taxi', '5', 'am', 'sunday', 'cost', '35', 'plus', 'tip', 'excellent', 'stay', 'staff', 'friendly', 'helpful', 'nice', 'hotel', 'price', 'supermarket', 'restaurant', 'close', 'proximity', 'ideal', 'location', 'space', 'needle', 'breakfast', 'included', 'added', 'bonus', 'room', 'big', 'spacious', 'overall', 'nice', 'experience', 'relaxing', 'return', 'going', 'seattle', 'booked', 'hotel', 'knowing', 'budget', 'hotel', 'checkin', 'friend', 'met', 'friendly', 'warm', 'welcome', 'room', 'read', 'review', 'simple', 'charming', 'bedsok', 'bathroomok', 'really', 'big', 'closet', 'nice', 'little', 'kitchenettethe', 'breakfast', 'not', 'described', 'great', 'experience', 'need', 'little', 'kitchenette', 'bring', 'coffee', 'lobby', 'prepare', 'bacon', 'egg', 'bought', 'supermarket', 'located', 'not', '150', 'metre', 'awaywhat', 'stay', 'great', 'experience', 'friendly', 'staff', 'especially', 'dana', 'conveniant', 'compementary', 'shuttle', 'service', 'low', 'price', 'great', 'location', '1015', 'minute', 'walk', 'city', 'center', '2', 'minute', 'key', 'arena', '20', 'minute', 'hooter', 'restaurant', '20', 'minute', 'pike', 'market', '8', 'minute', 'space', 'needleanders', 'friend', 'terrible', 'hotel', 'approximately', '2', 'week', 'ago', 'april', '25', '2007', 'reservation', 'hotel', 'night', '19', '2007', 'wrote', 'followup', 'request', 'reply', 'advised', 'reservation', 'cancelled', 'overbookingi', 'wote', 'giving', 'reservation', 'number', 'wrote', 'saying', 'sorry', 'making', 'effort', 'room', 'nearby', 'hotel', 'rhe', 'email', 'brigeta', 'operation', 'manager', 'not', 'written', 'approximately', '2', 'week', 'stay', 'positive', 'left', 'scrambe', 'new', 'hotel', 'lobby', 'inn', 'queen', 'annei', 'practice', 'unforgivable', 'especially', 'light', 'resevation', 'number', 'guarenteeing', 'room', '19', '2007', 'point', 'making', 'advance', 'reservation', 'hotel', 'suddenly', 'cancel', 'little', 'advance', 'notice', 'sincerely', 'greg', 'scanlonsan', 'francisco', 'great', 'price', 'okay', 'experience', 'stayed', 'inn', 'queen', 'anne', 'night', 'midjanuary', '2007', 'price', 'good', '79night', 'room', 'fine', 'old', 'shabby', 'clean', 'comfortable', 'kitchenette', 'microwave', 'stove', 'sink', 'fridge', 'great', 'room', 'surprisingly', 'large', 'walkin', 'closet', 'service', 'friendly', 'warned', 'desk', 'staff', 'leaf', '1100', 'pm', 'call', 'desk', 'hour', 'fielded', 'staff', 'hotel', 'problem', 'example', 'needed', 'request', 'iron', 'ironing', 'board', 'morning', 'nt', 'able', 'guy', 'hotel', 'nt', 'queen', 'anne', 'answer', 'phone', 'inn', 'queen', 'anne', 'elevator', 'nt', 'problem', 'big', 'problem', 'somethe', 'downside', 'noise', 'hotel', 'soundproofing', 'room', 'night', 'bed', '230', 'ask', 'nextdoor', 'neighbor', 'kind', 'party', 'going', 'hold', 'morning', 'plumbing', 'noise', 'deafening', 'morning', 'awakened', '600', 'pm', 'shower', 'room', 'mehowever', 'location', 'great', 'hotel', 'north', 'space', 'needle', 'smack', 'middle', 'seattle', 'bohemianhip', 'neighborhood', 'excellent', 'cd', 'shop', 'corner', 'restaurant', 'safeway', 'deep', 'sleeper', 'nt', 'need', 'firstclass', 'accomodations', 'hotel', 'good', 'bargain', 'great', 'people', 'great', 'location', 'took', 'wife', 'birthday', 'surprise', 'stayed', 'fact', 'raffle', 'plaza', 'l', 'doubt', 'feeling', 'changewe', 'booked', 'club', 'room', 'expected', 'took', 'breakfast', 'restaurant', 'came', 'know', 'chef', 'l', 'not', 'knowm', 'breaky', 'delight', 'picked', 'served', 'head', 'cheflocation', 'excellent', 'staff', 'reception', 'club', 'lounge', 'conceirge', 'excellentit', 'pleasure', 'not', 'ripped', 'taxi', 'againabsolute', 'recommendation', 'great', 'location', 'stayed', 'stopover', 'australia', '2', '5', 'yr', 'old', 'great', 'location', 'easily', 'shopscafes', 'going', 'outside', 'humid', 'hotel', 'great', 'pool', 'renovation', 'reason', 'booked', 'hotel', 'disappointed', 'offered', 'shuttle', 'bus', 'use', 'pool', '2', 'hassle', 'stroller', 'didnt', 'room', '2', 'double', 'bed', 'fabulous', 'bathroom', 'breakfast', 'included', 'amazing', 'food', 'want', 'staff', 'friendly', 'helpful', 'stayshort', 'walk', 'merlion', 'singapore', 'flyer', 'mrt', 'right', 'perfect', 'location', 'lovely', 'hotel', 'great', 'location', 'reasonable', 'hotel', 'overall', 'happy', 'stay', 'nt', 'niggleswe', 'stayed', 'en', 'route', 'sydney', 'new', 'zealand', 'night', 'booked', 'raffle', 'plaza', 'overall', 'worked', 'rate', 'paidgood', 'upgraded', 'hotel', 'busy', 'booked', 'early', 'north', 'tower', 'executive', 'floor', 'nt', 'allowed', 'use', 'executive', 'lounge', '11', 'year', 'old', 'fine', 'room', 'large', 'comfortable', 'clean', 'great', 'view', 'high', 'floor', 'esplanade', 'padang', 'city', 'location', 'great', 'raffle', 'booked', 'afternoon', 'tea', 'suntec', 'mall', 'hippo', 'tour', 'walkable', 'national', 'musuem', 'bell', 'boy', 'sweet', 'soncould', 'better', 'room', 'rate', 'checkin', 'reservation', 'quite', 'conferring', 'management', 'original', 'rate', 'confirmed', 'bed', '11', 'year', 'old', 'despite', 'email', 'initial', 'booking', 'correct', 'got', 'lost', 'phoning', 'reception', 'said', 'sin', '30', 'night', 'additional', 'cost', 'returned', 'reception', 'email', 'original', 'rate', 'finally', 'agreed', 'went', 'food', 'bed', 'nt', 'returned', 'probably', 'took', '34', 'hour', 'bed', 'overnight', 'flight', 'london', 'finally', 'got', 'bed', '2300', 'son', 'sleep', 'bedsingapore', 'general', 'really', 'enjoyed', 'recommend', 'afternoon', 'tea', 'tiffin', 'room', 'raffle', 'couple', 'tour', 'group', 'sensitively', 'sat', 'smaller', 'party', 'slightly', 'separate', 'area', 'nice', 'encouraged', 'leave', 'main', 'lobby', 'nice', 'touch', 'book', 'ahead', 'booked', 'age', 'advance', 'saturday', 'definitely', 'getting', 'day', 'night', 'safari', 'national', 'museum', 'including', 'history', 'singapore', 'wing', 'beautiful', 'im', 'pei', 'designed', 'hotel', 'im', 'pei', 'designed', 'hotel', 'reminiscent', 'season', 'hotel', 'new', 'york', 'graciously', 'checked', 'karen', 'informed', 'travel', 'agent', 'booked', 'twobedded', 'room', 'explained', 'celebrate', '25th', 'anniversary', 'king', 'sized', 'bed', 'appropriate', 'immediately', 'congratulated', 'changed', 'room', 'asked', 'prefer', 'champagne', 'red', 'winewe', 'little', 'use', 'concierge', 'wonderful', 'doorman', 'unfortunately', 'forgotten', 'showed', 'concern', 'answering', 'question', 'making', 'recommendation', 'providing', 'direction', 'required', 'nothing', 'additional', 'let', 'leave', 'hotel', 'sure', 'going', 'wished', 'good', 'dayour', 'room', 'lovely', 'bathroom', 'impressive', 'tub', 'big', 'perfect', 'place', 'share', 'champagne', 'wonderful', 'overhead', 'shower', 'occupied', 'balance', 'bathing', 'room', 'seperated', 'sink', 'toilet', 'area', 'glass', 'wall', 'modern', 'furnishing', 'great', 'view', 'city', 'enhanced', 'experiencethe', 'international', 'buffet', 'breakfast', 'included', 'package', 'opulent', 'tasty', 'served', 'alongside', 'lovel', 'duel', 'poolsi', 'highly', 'recommend', 'hotel', 'excellent', 'read', 'review', 'sure', 'booked', 'room', 'north', 'tower', 'got', 'tot', 'check', 'desk', 'told', 'upgraded', 'junior', 'penthouse', 'suite', 'not', 'sure', 'completely', 'random', 'honeymoon', 'way', 'nice', 'surprise', 'minute', 'later', 'person', 'checking', 'said', 'oh', 'sorry', 'sir', 'mistake', 'not', 'upgraded', 'toa', 'junior', 'penthouse', 'suite', 'penthouse', 'suite', 'wentm', 'nit', 'sure', 'expect', 'room', 'apartment', '2', 'sitting', 'area', 'huge', 'dingin', 'table', 'remote', 'control', 'curtain', 'round', 'huge', 'bathroom', 'extra', 'storage', 'room', 'amazing', 'surprise', 'balcony', 'round', 'beautiful', 'view', 'floor', 'hotel', 'regretted', '2nights', 'hotel', 'staff', 'helpful', 'information', 'needed', 'assistance', 'nt', 'experience', '5', 'charge', 'texi', 'service', 'hotel', 'wait', 'taxi', 'extra', 'charge', 'knew', 'hotel', 'right', 'mall', 'bar', 'make', 'pretty', 'interesting', 'cocktail', 'famous', 'long', 'bar', 'road', 'bnch', 'bar', 'restaurant', 'couple', 'od', 'minute', 'away', 'happy', 'location', 'helpfulnes', 'staff', 'highly', 'reccommend', 'hotel', 'not', 'sure', 'south', 'tower', 'sure', 'booked', 'north', 'tower', 'told', 'little', 'dated', 'fairmont', 'hotel', 'singapore', 'splendid', 'stayed', 'fairmont', 'singapore', 'night', 'february', 'chinese', 'new', 'year', 'plaza', 'suite', '23rd', 'floor', 'large', 'clean', 'devine', 'view', 'overlooked', 'historic', 'raffle', 'hotel', 'turn', 'service', 'evening', 'large', 'bathroom', 'raindrop', 'showerhead', 'beautiful', 'appointment', 'bose', 'sound', 'electronic', 'blind', 'breakfasted', 'plaza', 'floor', 'restaurant', 'choose', 'shopping', 'plaza', 'directly', 'hotel', 'restaurant', 'budget', 'star', 'close', 'proximity', 'stocked', 'supermarket', 'complex', 'short', 'walking', 'distance', 'key', 'attraction', 'staff', 'doorman', 'housekeeping', 'helpful', 'welcoming', 'simply', 'best', 'hotel', 'stayed', 'world', 'ca', 'nt', 'wait', 'return', 'great', 'hotel', 'stayed', 'hotel', 'night', 'route', 'perth', 'christmas', 'great', 'location', 'easy', 'reach', 'changhi', 'singapore', 'clean', 'efficient', 'underground', 'room', 'modern', 'clean', 'staff', 'polite', 'helpful', 'booked', 'hotel', 'raffle', 'plaza', 'not', 'understand', 'mistake', 'raffle', 'booking', 'need', 'look', 'hotel', 'photo', 'read', 'description', 'look', 'price', 'know', 'not', 'raffle', 'literally', 'road', 'stop', 'long', 'bar', 'famous', 'singapore', 'sling', 'nutshell', 'covered', 'floor', 'great', 'hotel', 'centre', 'stayed', '5', 'night', 'room', 'overlooking', 'memorial', 'cricket', 'pitch', 'downtown', 'lot', 'like', 'hotel', 'room', 'big', 'need', 'great', 'bathroom', 'lobby', 'attached', 'shopping', 'mall', 'numerous', 'place', 'eat', 'western', 'oriental', 'food', 'including', 'new', 'donut', 'shop', 'queue', 'extraordinary', 'pleasant', 'pool', 'area', '8th', 'floor', 'small', 'pool', 'quite', 'restricted', 'place', 'need', 'early', 'want', 'loungerthe', 'hotel', 'good', 'spot', 'walk', 'place', 'orchard', 'road', '15', 'min', 'away', 'hop', 'mrt', 'old', 'raffle', 'hotel', 'road', 'try', 'entertainment', 'floor', 'swiss', 'hotel', 'door', 'view', 'great', 'especially', 'nightyou', 'ca', 'nt', 'far', 'wrong', 'singapore', 'hotel', 'good', 'exception', 'certainly', 'worth', 'stay', 'great', 'location', 'great', 'value', 'great', 'hotel', 'husband', 'stayed', '3', 'night', 'start', 'month', 'long', 'tour', 'far', 'east', 'australiaour', 'stop', 'perth', 'australia', 'australian', 'friend', 'recommended', 'singapore', 'stopover', 'help', 'jet', 'lag', 'worked', 'jet', 'lag', 'time', 'arrived', 'perth', 'unfortunately', 'bad', 'jet', 'lag', 'singaporewe', 'absolutely', 'loved', 'stay', 'raffle', 'plaza', 'fantastic', 'value', 'money', 'brilliant', 'location', 'right', 'opposite', 'raffle', 'really', 'helpful', 'staffafter', 'long', 'trip', 'edinburgh', 'raindrop', 'shower', 'fantastic', 'deluxe', 'room', 'room', 'great', 'view', 'lot', 'clever', 'electric', 'eg', 'automated', 'curtain', 'lighting', 'control', 'bed', 'breakast', 'included', 'deal', 'class', 'sitting', 'pool', 'area', 'morning', 'lovely', 'concierge', 'friendly', 'highlighted', 'place', 'map', 'hopefully', 'singapore', 'soon', 'definitely', 'stay', 'lovely', 'hotel', 'great', 'location', 'stayed', 'vacation', 'touring', 'asia', 'thought', 'raffle', 'plaza', 'looking', 'decorated', 'maintained', 'staff', 'professional', 'large', 'room', 'nice', 'extra', 'bathroom', 'toiletry', 'robe', 'slipper', 'walk', 'right', 'hotel', 'store', 'restaurant', 'huge', 'mall', 'hotel', 'connected', 'good', 'food', 'raffle', 'hotel', 'right', 'street']\n"
     ]
    }
   ],
   "source": [
    "clean_tokens=sum(data['lemmatized'],[])\n",
    "    # wasn't sure whats happening here so...\n",
    "    # data['lemmatized'] is a pandas Series object\n",
    "    # data['lemmatized'],[]  - this creates a tuple with the entire series in one side and an empty list in the other... why?\n",
    "    # sum() of ^ returns a list type with all of the individual tokens in one list (not a list of lists per 'cell' within the Series)\n",
    "        # I tested out list(data['lemmatized']) which returned a list of lists... so I guess the above is a way around that\n",
    "        # which... following a google search, there's a number of ways to flatten a list of lists and this is one of them..\n",
    "            # https://www.google.com/search?q=python+convert+list+of+lists+to+list\n",
    "\n",
    "    \n",
    "print(clean_tokens);"
   ]
  },
  {
   "cell_type": "code",
   "execution_count": null,
   "id": "3c17b6b8",
   "metadata": {},
   "outputs": [],
   "source": [
    "clean_tokens=sum(data['lemmatized'],[])\n",
    "    # wasn't sure whats happening here so...\n",
    "    # data['lemmatized'] is a pandas Series object\n",
    "    # data['lemmatized'],[]  - this creates a tuple with the entire series in one side and an empty list in the other... why?\n",
    "    # sum() of ^ returns a list type with all of the individual tokens in one list (not a list of lists per 'cell' within the Series)\n",
    "        # I tested out list(data['lemmatized']) which returned a list of lists... so I guess the above is a way around that\n",
    "        # which... following a google search, there's a number of ways to flatten a list of lists and this is one of them..\n",
    "            # https://www.google.com/search?q=python+convert+list+of+lists+to+list\n",
    "\n",
    "    \n",
    "print(clean_tokens);"
   ]
  },
  {
   "cell_type": "code",
   "execution_count": 117,
   "id": "4eec4190-ff0a-4cec-aa38-3c392e84aa22",
   "metadata": {},
   "outputs": [],
   "source": [
    "unigrams = (pd.Series(nltk.ngrams(clean_tokens, 1)).value_counts())"
   ]
  },
  {
   "cell_type": "code",
   "execution_count": 122,
   "id": "349c17c7-aba6-4def-ba2f-2eb3d76f67e8",
   "metadata": {},
   "outputs": [
    {
     "name": "stdout",
     "output_type": "stream",
     "text": [
      "(hotel,)           292\n",
      "(room,)            275\n",
      "(great,)           126\n",
      "(not,)             122\n",
      "(stay,)             95\n",
      "                  ... \n",
      "(175,)               1\n",
      "(smackagainst,)      1\n",
      "(2x,)                1\n",
      "(80,)                1\n",
      "(connected,)         1\n",
      "Name: count, Length: 2589, dtype: int64\n"
     ]
    }
   ],
   "source": [
    "print(unigrams)"
   ]
  },
  {
   "cell_type": "code",
   "execution_count": 119,
   "id": "583c8617-1588-4016-b497-ab1e33d02fa6",
   "metadata": {},
   "outputs": [],
   "source": [
    "bigrams = (pd.Series(nltk.ngrams(clean_tokens, 2)).value_counts())"
   ]
  },
  {
   "cell_type": "code",
   "execution_count": 120,
   "id": "a643ff8e-14ed-4a3b-aa90-7c14be65649d",
   "metadata": {},
   "outputs": [
    {
     "name": "stdout",
     "output_type": "stream",
     "text": [
      "(great, location)     24\n",
      "(space, needle)       21\n",
      "(hotel, monaco)       16\n",
      "(great, hotel)        12\n",
      "(staff, friendly)     12\n",
      "                      ..\n",
      "(didnt, make)          1\n",
      "(personnel, didnt)     1\n",
      "(minute, stay)         1\n",
      "(starting, minute)     1\n",
      "(food, raffle)         1\n",
      "Name: count, Length: 8263, dtype: int64\n"
     ]
    }
   ],
   "source": [
    "print(bigrams)"
   ]
  },
  {
   "cell_type": "code",
   "execution_count": 127,
   "id": "e2775f9f-f83a-45df-bb2e-ecfa09287e4a",
   "metadata": {},
   "outputs": [
    {
     "name": "stdout",
     "output_type": "stream",
     "text": [
      "(pike, place, market)            8\n",
      "(view, space, needle)            5\n",
      "(hotel, great, location)         5\n",
      "(inn, queen, anne)               4\n",
      "(room, king, bed)                4\n",
      "                                ..\n",
      "(hotel, dissapointment, trip)    1\n",
      "(dissapointment, trip, 3)        1\n",
      "(trip, 3, night)                 1\n",
      "(3, night, stay)                 1\n",
      "(hotel, right, street)           1\n",
      "Name: count, Length: 9288, dtype: int64\n"
     ]
    }
   ],
   "source": [
    "trigrams = bigrams = (pd.Series(nltk.ngrams(clean_tokens, 3)).value_counts())\n",
    "print(trigrams)"
   ]
  },
  {
   "cell_type": "code",
   "execution_count": null,
   "id": "f5ab9163-e1c7-4e4b-a3bb-0c4d15d3f8d4",
   "metadata": {},
   "outputs": [],
   "source": []
  }
 ],
 "metadata": {
  "kernelspec": {
   "display_name": "base",
   "language": "python",
   "name": "python3"
  },
  "language_info": {
   "codemirror_mode": {
    "name": "ipython",
    "version": 3
   },
   "file_extension": ".py",
   "mimetype": "text/x-python",
   "name": "python",
   "nbconvert_exporter": "python",
   "pygments_lexer": "ipython3",
   "version": "3.12.7"
  }
 },
 "nbformat": 4,
 "nbformat_minor": 5
}
