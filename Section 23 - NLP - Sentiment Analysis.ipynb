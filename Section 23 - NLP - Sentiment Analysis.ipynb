{
 "cells": [
  {
   "cell_type": "markdown",
   "metadata": {},
   "source": [
    "# Section 23: Sentiment Analysis"
   ]
  },
  {
   "cell_type": "markdown",
   "metadata": {},
   "source": [
    "## Rule Based Sentiment"
   ]
  },
  {
   "cell_type": "markdown",
   "metadata": {},
   "source": [
    "### Using TextBlob"
   ]
  },
  {
   "cell_type": "code",
   "execution_count": 5,
   "metadata": {},
   "outputs": [],
   "source": [
    "from textblob import TextBlob"
   ]
  },
  {
   "cell_type": "code",
   "execution_count": 6,
   "metadata": {},
   "outputs": [],
   "source": [
    "sentence_1 = \"i had a great time at the movie it was really funny\"\n",
    "sentence_2 = \"i had a great time at the movie but the parking was terrible\"\n",
    "sentence_3 = \"i had a great time at the movie but the parking wasn't great\"\n",
    "sentence_4 = \"i went to see a movie\""
   ]
  },
  {
   "cell_type": "code",
   "execution_count": 7,
   "metadata": {},
   "outputs": [
    {
     "name": "stdout",
     "output_type": "stream",
     "text": [
      "i had a great time at the movie it was really funny\n",
      "0.525\n"
     ]
    }
   ],
   "source": [
    "print(sentence_1)\n",
    "sentiment_score1 = TextBlob(sentence_1)\n",
    "print(sentiment_score1.sentiment.polarity)"
   ]
  },
  {
   "cell_type": "code",
   "execution_count": 8,
   "metadata": {},
   "outputs": [
    {
     "name": "stdout",
     "output_type": "stream",
     "text": [
      "i had a great time at the movie but the parking was terrible\n",
      "-0.09999999999999998\n"
     ]
    }
   ],
   "source": [
    "print(sentence_2)\n",
    "sentiment_score2 = TextBlob(sentence_2)\n",
    "print(sentiment_score2.sentiment.polarity)"
   ]
  },
  {
   "cell_type": "code",
   "execution_count": 9,
   "metadata": {},
   "outputs": [
    {
     "name": "stdout",
     "output_type": "stream",
     "text": [
      "i had a great time at the movie but the parking wasn't great\n",
      "0.8\n"
     ]
    }
   ],
   "source": [
    "print(sentence_3)\n",
    "sentiment_score3 = TextBlob(sentence_3)\n",
    "print(sentiment_score3.sentiment.polarity)"
   ]
  },
  {
   "cell_type": "markdown",
   "metadata": {},
   "source": []
  },
  {
   "cell_type": "code",
   "execution_count": null,
   "metadata": {},
   "outputs": [],
   "source": []
  },
  {
   "cell_type": "markdown",
   "metadata": {},
   "source": [
    "### Using Vader"
   ]
  },
  {
   "cell_type": "code",
   "execution_count": 10,
   "metadata": {},
   "outputs": [],
   "source": [
    "from vaderSentiment.vaderSentiment import SentimentIntensityAnalyzer"
   ]
  },
  {
   "cell_type": "code",
   "execution_count": 11,
   "metadata": {},
   "outputs": [],
   "source": [
    "vader_sentiment = SentimentIntensityAnalyzer()"
   ]
  },
  {
   "cell_type": "code",
   "execution_count": 12,
   "metadata": {},
   "outputs": [
    {
     "name": "stdout",
     "output_type": "stream",
     "text": [
      "i had a great time at the movie it was really funny\n",
      "{'neg': 0.0, 'neu': 0.578, 'pos': 0.422, 'compound': 0.807}\n"
     ]
    }
   ],
   "source": [
    "print(sentence_1)\n",
    "print(vader_sentiment.polarity_scores(sentence_1))\n",
    "# prints a score for each sentiment, and a compound score\n",
    "# did a lot better recognizing the positive sentiment here"
   ]
  },
  {
   "cell_type": "code",
   "execution_count": 13,
   "metadata": {},
   "outputs": [
    {
     "name": "stdout",
     "output_type": "stream",
     "text": [
      "i had a great time at the movie but the parking was terrible\n",
      "{'neg': 0.234, 'neu': 0.621, 'pos': 0.144, 'compound': -0.3818}\n"
     ]
    }
   ],
   "source": [
    "print(sentence_2)\n",
    "print(vader_sentiment.polarity_scores(sentence_2))\n",
    "# more aggresive on the negative sentiment for this one"
   ]
  },
  {
   "cell_type": "code",
   "execution_count": 14,
   "metadata": {},
   "outputs": [
    {
     "name": "stdout",
     "output_type": "stream",
     "text": [
      "i had a great time at the movie but the parking wasn't great\n",
      "{'neg': 0.247, 'neu': 0.611, 'pos': 0.142, 'compound': -0.4387}\n"
     ]
    }
   ],
   "source": [
    "print(sentence_3)\n",
    "print(vader_sentiment.polarity_scores(sentence_3))\n",
    "# very different results than textblob here"
   ]
  },
  {
   "cell_type": "code",
   "execution_count": 15,
   "metadata": {},
   "outputs": [
    {
     "name": "stdout",
     "output_type": "stream",
     "text": [
      "i went to see a movie\n",
      "{'neg': 0.0, 'neu': 1.0, 'pos': 0.0, 'compound': 0.0}\n"
     ]
    }
   ],
   "source": [
    "print(sentence_4)\n",
    "print(vader_sentiment.polarity_scores(sentence_4))"
   ]
  },
  {
   "cell_type": "markdown",
   "metadata": {},
   "source": [
    "## Pre-trained Transformer Models"
   ]
  },
  {
   "cell_type": "code",
   "execution_count": 16,
   "metadata": {},
   "outputs": [],
   "source": [
    "import transformers\n",
    "from transformers import pipeline"
   ]
  },
  {
   "cell_type": "code",
   "execution_count": null,
   "metadata": {},
   "outputs": [],
   "source": [
    "sentiment_pipeline = pipeline(\"sentiment-analysis\")"
   ]
  },
  {
   "cell_type": "code",
   "execution_count": null,
   "metadata": {},
   "outputs": [
    {
     "name": "stdout",
     "output_type": "stream",
     "text": [
      "i had a great time at the movie it was really funny\n"
     ]
    }
   ],
   "source": [
    "print(sentence_1)\n",
    "sentiment_pipeline(sentence_1)"
   ]
  },
  {
   "cell_type": "code",
   "execution_count": null,
   "metadata": {},
   "outputs": [],
   "source": []
  },
  {
   "cell_type": "code",
   "execution_count": null,
   "metadata": {},
   "outputs": [],
   "source": []
  },
  {
   "cell_type": "markdown",
   "metadata": {},
   "source": [
    "## Practical Test"
   ]
  },
  {
   "cell_type": "code",
   "execution_count": 23,
   "metadata": {},
   "outputs": [],
   "source": [
    "import pandas as pd\n",
    "import numpy as np\n",
    "import re\n",
    "from vaderSentiment.vaderSentiment import SentimentIntensityAnalyzer"
   ]
  },
  {
   "cell_type": "code",
   "execution_count": 24,
   "metadata": {},
   "outputs": [
    {
     "data": {
      "text/html": [
       "<div>\n",
       "<style scoped>\n",
       "    .dataframe tbody tr th:only-of-type {\n",
       "        vertical-align: middle;\n",
       "    }\n",
       "\n",
       "    .dataframe tbody tr th {\n",
       "        vertical-align: top;\n",
       "    }\n",
       "\n",
       "    .dataframe thead th {\n",
       "        text-align: right;\n",
       "    }\n",
       "</style>\n",
       "<table border=\"1\" class=\"dataframe\">\n",
       "  <thead>\n",
       "    <tr style=\"text-align: right;\">\n",
       "      <th></th>\n",
       "      <th>index</th>\n",
       "      <th>reviewText</th>\n",
       "      <th>rating</th>\n",
       "    </tr>\n",
       "  </thead>\n",
       "  <tbody>\n",
       "    <tr>\n",
       "      <th>0</th>\n",
       "      <td>11494</td>\n",
       "      <td>Clean and funny. A bit busy with all the diffe...</td>\n",
       "      <td>3</td>\n",
       "    </tr>\n",
       "    <tr>\n",
       "      <th>1</th>\n",
       "      <td>984</td>\n",
       "      <td>Alex a sexy hot cop and the PhD candidate. Wha...</td>\n",
       "      <td>4</td>\n",
       "    </tr>\n",
       "    <tr>\n",
       "      <th>2</th>\n",
       "      <td>1463</td>\n",
       "      <td>Good thing that this is a free story. I read i...</td>\n",
       "      <td>1</td>\n",
       "    </tr>\n",
       "    <tr>\n",
       "      <th>3</th>\n",
       "      <td>10342</td>\n",
       "      <td>Action, action, action! Equipment keeps gettin...</td>\n",
       "      <td>4</td>\n",
       "    </tr>\n",
       "    <tr>\n",
       "      <th>4</th>\n",
       "      <td>5256</td>\n",
       "      <td>this was hands down the worse book i have ever...</td>\n",
       "      <td>1</td>\n",
       "    </tr>\n",
       "  </tbody>\n",
       "</table>\n",
       "</div>"
      ],
      "text/plain": [
       "   index                                         reviewText  rating\n",
       "0  11494  Clean and funny. A bit busy with all the diffe...       3\n",
       "1    984  Alex a sexy hot cop and the PhD candidate. Wha...       4\n",
       "2   1463  Good thing that this is a free story. I read i...       1\n",
       "3  10342  Action, action, action! Equipment keeps gettin...       4\n",
       "4   5256  this was hands down the worse book i have ever...       1"
      ]
     },
     "execution_count": 24,
     "metadata": {},
     "output_type": "execute_result"
    }
   ],
   "source": [
    "data = pd.read_csv('book_reviews_sample.csv')\n",
    "data.head()"
   ]
  },
  {
   "cell_type": "markdown",
   "metadata": {},
   "source": [
    "Lets do some basic cleaning: remove punct and lowercase"
   ]
  },
  {
   "cell_type": "code",
   "execution_count": 25,
   "metadata": {},
   "outputs": [
    {
     "data": {
      "text/html": [
       "<div>\n",
       "<style scoped>\n",
       "    .dataframe tbody tr th:only-of-type {\n",
       "        vertical-align: middle;\n",
       "    }\n",
       "\n",
       "    .dataframe tbody tr th {\n",
       "        vertical-align: top;\n",
       "    }\n",
       "\n",
       "    .dataframe thead th {\n",
       "        text-align: right;\n",
       "    }\n",
       "</style>\n",
       "<table border=\"1\" class=\"dataframe\">\n",
       "  <thead>\n",
       "    <tr style=\"text-align: right;\">\n",
       "      <th></th>\n",
       "      <th>index</th>\n",
       "      <th>reviewText</th>\n",
       "      <th>rating</th>\n",
       "      <th>reviewtext_clean</th>\n",
       "    </tr>\n",
       "  </thead>\n",
       "  <tbody>\n",
       "    <tr>\n",
       "      <th>0</th>\n",
       "      <td>11494</td>\n",
       "      <td>Clean and funny. A bit busy with all the diffe...</td>\n",
       "      <td>3</td>\n",
       "      <td>clean and funny a bit busy with all the differ...</td>\n",
       "    </tr>\n",
       "    <tr>\n",
       "      <th>1</th>\n",
       "      <td>984</td>\n",
       "      <td>Alex a sexy hot cop and the PhD candidate. Wha...</td>\n",
       "      <td>4</td>\n",
       "      <td>alex a sexy hot cop and the phd candidate what...</td>\n",
       "    </tr>\n",
       "    <tr>\n",
       "      <th>2</th>\n",
       "      <td>1463</td>\n",
       "      <td>Good thing that this is a free story. I read i...</td>\n",
       "      <td>1</td>\n",
       "      <td>good thing that this is a free story i read it...</td>\n",
       "    </tr>\n",
       "    <tr>\n",
       "      <th>3</th>\n",
       "      <td>10342</td>\n",
       "      <td>Action, action, action! Equipment keeps gettin...</td>\n",
       "      <td>4</td>\n",
       "      <td>action action action equipment keeps getting b...</td>\n",
       "    </tr>\n",
       "    <tr>\n",
       "      <th>4</th>\n",
       "      <td>5256</td>\n",
       "      <td>this was hands down the worse book i have ever...</td>\n",
       "      <td>1</td>\n",
       "      <td>this was hands down the worse book i have ever...</td>\n",
       "    </tr>\n",
       "  </tbody>\n",
       "</table>\n",
       "</div>"
      ],
      "text/plain": [
       "   index                                         reviewText  rating  \\\n",
       "0  11494  Clean and funny. A bit busy with all the diffe...       3   \n",
       "1    984  Alex a sexy hot cop and the PhD candidate. Wha...       4   \n",
       "2   1463  Good thing that this is a free story. I read i...       1   \n",
       "3  10342  Action, action, action! Equipment keeps gettin...       4   \n",
       "4   5256  this was hands down the worse book i have ever...       1   \n",
       "\n",
       "                                    reviewtext_clean  \n",
       "0  clean and funny a bit busy with all the differ...  \n",
       "1  alex a sexy hot cop and the phd candidate what...  \n",
       "2  good thing that this is a free story i read it...  \n",
       "3  action action action equipment keeps getting b...  \n",
       "4  this was hands down the worse book i have ever...  "
      ]
     },
     "execution_count": 25,
     "metadata": {},
     "output_type": "execute_result"
    }
   ],
   "source": [
    "data['reviewtext_clean'] = data['reviewText'].apply(lambda x: re.sub(r\"([^\\w\\s])\", \"\", x.lower()))\n",
    "\n",
    "data.head()"
   ]
  },
  {
   "cell_type": "markdown",
   "metadata": {},
   "source": [
    "lets get the vader sentiment first"
   ]
  },
  {
   "cell_type": "code",
   "execution_count": 26,
   "metadata": {},
   "outputs": [
    {
     "data": {
      "text/html": [
       "<div>\n",
       "<style scoped>\n",
       "    .dataframe tbody tr th:only-of-type {\n",
       "        vertical-align: middle;\n",
       "    }\n",
       "\n",
       "    .dataframe tbody tr th {\n",
       "        vertical-align: top;\n",
       "    }\n",
       "\n",
       "    .dataframe thead th {\n",
       "        text-align: right;\n",
       "    }\n",
       "</style>\n",
       "<table border=\"1\" class=\"dataframe\">\n",
       "  <thead>\n",
       "    <tr style=\"text-align: right;\">\n",
       "      <th></th>\n",
       "      <th>index</th>\n",
       "      <th>reviewText</th>\n",
       "      <th>rating</th>\n",
       "      <th>reviewtext_clean</th>\n",
       "      <th>vader_sent_comp</th>\n",
       "    </tr>\n",
       "  </thead>\n",
       "  <tbody>\n",
       "    <tr>\n",
       "      <th>0</th>\n",
       "      <td>11494</td>\n",
       "      <td>Clean and funny. A bit busy with all the diffe...</td>\n",
       "      <td>3</td>\n",
       "      <td>clean and funny a bit busy with all the differ...</td>\n",
       "      <td>0.7684</td>\n",
       "    </tr>\n",
       "    <tr>\n",
       "      <th>1</th>\n",
       "      <td>984</td>\n",
       "      <td>Alex a sexy hot cop and the PhD candidate. Wha...</td>\n",
       "      <td>4</td>\n",
       "      <td>alex a sexy hot cop and the phd candidate what...</td>\n",
       "      <td>0.9325</td>\n",
       "    </tr>\n",
       "    <tr>\n",
       "      <th>2</th>\n",
       "      <td>1463</td>\n",
       "      <td>Good thing that this is a free story. I read i...</td>\n",
       "      <td>1</td>\n",
       "      <td>good thing that this is a free story i read it...</td>\n",
       "      <td>0.6740</td>\n",
       "    </tr>\n",
       "    <tr>\n",
       "      <th>3</th>\n",
       "      <td>10342</td>\n",
       "      <td>Action, action, action! Equipment keeps gettin...</td>\n",
       "      <td>4</td>\n",
       "      <td>action action action equipment keeps getting b...</td>\n",
       "      <td>0.6652</td>\n",
       "    </tr>\n",
       "    <tr>\n",
       "      <th>4</th>\n",
       "      <td>5256</td>\n",
       "      <td>this was hands down the worse book i have ever...</td>\n",
       "      <td>1</td>\n",
       "      <td>this was hands down the worse book i have ever...</td>\n",
       "      <td>-0.4767</td>\n",
       "    </tr>\n",
       "  </tbody>\n",
       "</table>\n",
       "</div>"
      ],
      "text/plain": [
       "   index                                         reviewText  rating  \\\n",
       "0  11494  Clean and funny. A bit busy with all the diffe...       3   \n",
       "1    984  Alex a sexy hot cop and the PhD candidate. Wha...       4   \n",
       "2   1463  Good thing that this is a free story. I read i...       1   \n",
       "3  10342  Action, action, action! Equipment keeps gettin...       4   \n",
       "4   5256  this was hands down the worse book i have ever...       1   \n",
       "\n",
       "                                    reviewtext_clean  vader_sent_comp  \n",
       "0  clean and funny a bit busy with all the differ...           0.7684  \n",
       "1  alex a sexy hot cop and the phd candidate what...           0.9325  \n",
       "2  good thing that this is a free story i read it...           0.6740  \n",
       "3  action action action equipment keeps getting b...           0.6652  \n",
       "4  this was hands down the worse book i have ever...          -0.4767  "
      ]
     },
     "execution_count": 26,
     "metadata": {},
     "output_type": "execute_result"
    }
   ],
   "source": [
    "vader_sentiment = SentimentIntensityAnalyzer()\n",
    "data['vader_sent_comp'] = data['reviewtext_clean'].apply(lambda x: vader_sentiment.polarity_scores(x)['compound'])\n",
    "data.head()"
   ]
  },
  {
   "cell_type": "markdown",
   "metadata": {},
   "source": [
    "next, we'll classify these scores:"
   ]
  },
  {
   "cell_type": "code",
   "execution_count": 28,
   "metadata": {},
   "outputs": [],
   "source": [
    "bins = [-1, -0.1, 0.1, 1]\n",
    "names = ['negative', 'neutral', 'positive']\n"
   ]
  },
  {
   "cell_type": "code",
   "execution_count": 33,
   "metadata": {},
   "outputs": [
    {
     "data": {
      "text/html": [
       "<div>\n",
       "<style scoped>\n",
       "    .dataframe tbody tr th:only-of-type {\n",
       "        vertical-align: middle;\n",
       "    }\n",
       "\n",
       "    .dataframe tbody tr th {\n",
       "        vertical-align: top;\n",
       "    }\n",
       "\n",
       "    .dataframe thead th {\n",
       "        text-align: right;\n",
       "    }\n",
       "</style>\n",
       "<table border=\"1\" class=\"dataframe\">\n",
       "  <thead>\n",
       "    <tr style=\"text-align: right;\">\n",
       "      <th></th>\n",
       "      <th>index</th>\n",
       "      <th>reviewText</th>\n",
       "      <th>rating</th>\n",
       "      <th>reviewtext_clean</th>\n",
       "      <th>vader_sent_comp</th>\n",
       "      <th>vader_sent_comp_label</th>\n",
       "    </tr>\n",
       "  </thead>\n",
       "  <tbody>\n",
       "    <tr>\n",
       "      <th>0</th>\n",
       "      <td>11494</td>\n",
       "      <td>Clean and funny. A bit busy with all the diffe...</td>\n",
       "      <td>3</td>\n",
       "      <td>clean and funny a bit busy with all the differ...</td>\n",
       "      <td>0.7684</td>\n",
       "      <td>positive</td>\n",
       "    </tr>\n",
       "    <tr>\n",
       "      <th>1</th>\n",
       "      <td>984</td>\n",
       "      <td>Alex a sexy hot cop and the PhD candidate. Wha...</td>\n",
       "      <td>4</td>\n",
       "      <td>alex a sexy hot cop and the phd candidate what...</td>\n",
       "      <td>0.9325</td>\n",
       "      <td>positive</td>\n",
       "    </tr>\n",
       "    <tr>\n",
       "      <th>2</th>\n",
       "      <td>1463</td>\n",
       "      <td>Good thing that this is a free story. I read i...</td>\n",
       "      <td>1</td>\n",
       "      <td>good thing that this is a free story i read it...</td>\n",
       "      <td>0.6740</td>\n",
       "      <td>positive</td>\n",
       "    </tr>\n",
       "    <tr>\n",
       "      <th>3</th>\n",
       "      <td>10342</td>\n",
       "      <td>Action, action, action! Equipment keeps gettin...</td>\n",
       "      <td>4</td>\n",
       "      <td>action action action equipment keeps getting b...</td>\n",
       "      <td>0.6652</td>\n",
       "      <td>positive</td>\n",
       "    </tr>\n",
       "    <tr>\n",
       "      <th>4</th>\n",
       "      <td>5256</td>\n",
       "      <td>this was hands down the worse book i have ever...</td>\n",
       "      <td>1</td>\n",
       "      <td>this was hands down the worse book i have ever...</td>\n",
       "      <td>-0.4767</td>\n",
       "      <td>negative</td>\n",
       "    </tr>\n",
       "  </tbody>\n",
       "</table>\n",
       "</div>"
      ],
      "text/plain": [
       "   index                                         reviewText  rating  \\\n",
       "0  11494  Clean and funny. A bit busy with all the diffe...       3   \n",
       "1    984  Alex a sexy hot cop and the PhD candidate. Wha...       4   \n",
       "2   1463  Good thing that this is a free story. I read i...       1   \n",
       "3  10342  Action, action, action! Equipment keeps gettin...       4   \n",
       "4   5256  this was hands down the worse book i have ever...       1   \n",
       "\n",
       "                                    reviewtext_clean  vader_sent_comp  \\\n",
       "0  clean and funny a bit busy with all the differ...           0.7684   \n",
       "1  alex a sexy hot cop and the phd candidate what...           0.9325   \n",
       "2  good thing that this is a free story i read it...           0.6740   \n",
       "3  action action action equipment keeps getting b...           0.6652   \n",
       "4  this was hands down the worse book i have ever...          -0.4767   \n",
       "\n",
       "  vader_sent_comp_label  \n",
       "0              positive  \n",
       "1              positive  \n",
       "2              positive  \n",
       "3              positive  \n",
       "4              negative  "
      ]
     },
     "execution_count": 33,
     "metadata": {},
     "output_type": "execute_result"
    }
   ],
   "source": [
    "data['vader_sent_comp_label'] = pd.cut(data['vader_sent_comp'], bins=bins, labels=names)\n",
    "data.head()"
   ]
  },
  {
   "cell_type": "code",
   "execution_count": 34,
   "metadata": {},
   "outputs": [
    {
     "data": {
      "text/plain": [
       "<Axes: xlabel='vader_sent_comp_label'>"
      ]
     },
     "execution_count": 34,
     "metadata": {},
     "output_type": "execute_result"
    },
    {
     "data": {
      "image/png": "[encoded data removed]",
      "text/plain": [
       "<Figure size 640x480 with 1 Axes>"
      ]
     },
     "metadata": {},
     "output_type": "display_data"
    }
   ],
   "source": [
    "data['vader_sent_comp_label'].value_counts().plot.bar()"
   ]
  }
 ],
 "metadata": {
  "kernelspec": {
   "display_name": "nlp_course_env",
   "language": "python",
   "name": "python3"
  },
  "language_info": {
   "codemirror_mode": {
    "name": "ipython",
    "version": 3
   },
   "file_extension": ".py",
   "mimetype": "text/x-python",
   "name": "python",
   "nbconvert_exporter": "python",
   "pygments_lexer": "ipython3",
   "version": "3.11.11"
  }
 },
 "nbformat": 4,
 "nbformat_minor": 2
}
