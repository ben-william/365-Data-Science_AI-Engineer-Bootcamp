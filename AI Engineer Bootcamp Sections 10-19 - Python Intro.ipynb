{
 "cells": [
  {
   "cell_type": "markdown",
   "id": "65f77808-2ded-48f6-bcc8-ced8fcc6e2a5",
   "metadata": {
    "jp-MarkdownHeadingCollapsed": true
   },
   "source": [
    "# Section 12"
   ]
  },
  {
   "cell_type": "code",
   "execution_count": 72,
   "id": "0ba9c2f8-9482-44d5-bb81-70c4023e6ee4",
   "metadata": {},
   "outputs": [
    {
     "name": "stdout",
     "output_type": "stream",
     "text": [
      "10\n"
     ]
    }
   ],
   "source": [
    "# y=10\n",
    "print(y)"
   ]
  },
  {
   "cell_type": "code",
   "execution_count": null,
   "id": "7fdc59aa-1cd9-476f-8a9a-c827c0086d4f",
   "metadata": {},
   "outputs": [],
   "source": [
    "# "
   ]
  },
  {
   "cell_type": "code",
   "execution_count": 50,
   "id": "143e20dd-02aa-4db3-9b18-195a2d4ea947",
   "metadata": {},
   "outputs": [
    {
     "name": "stdout",
     "output_type": "stream",
     "text": [
      "10 dollars\n"
     ]
    }
   ],
   "source": [
    "# print(y + \" dollars\")\n",
    "print(str(y) + \" dollars\") "
   ]
  },
  {
   "cell_type": "code",
   "execution_count": 58,
   "id": "55b29430-99e9-42f4-8f98-7b81babe5c24",
   "metadata": {},
   "outputs": [
    {
     "data": {
      "text/plain": [
       "\"I'm fine\""
      ]
     },
     "execution_count": 58,
     "metadata": {},
     "output_type": "execute_result"
    }
   ],
   "source": [
    "# 'I'm fine'\n",
    "\"I'm fine\""
   ]
  },
  {
   "cell_type": "code",
   "execution_count": 60,
   "id": "924b64ad-0dae-4e61-9665-20b94d75a3a8",
   "metadata": {},
   "outputs": [
    {
     "data": {
      "text/plain": [
       "\"I'm fine\""
      ]
     },
     "execution_count": 60,
     "metadata": {},
     "output_type": "execute_result"
    }
   ],
   "source": [
    "# 'I\\'m fine'\n"
   ]
  },
  {
   "cell_type": "code",
   "execution_count": 64,
   "id": "671c60ff-a3d2-4180-b68f-8cbf5a7695bf",
   "metadata": {},
   "outputs": [
    {
     "name": "stdout",
     "output_type": "stream",
     "text": [
      "I'm fine\n",
      "3 5\n"
     ]
    }
   ],
   "source": [
    "# print(\"I'm\",\"fine\")\n",
    "print(3,5)"
   ]
  },
  {
   "cell_type": "markdown",
   "id": "323161f6-d89a-4c86-ba28-0d96e46d2589",
   "metadata": {
    "jp-MarkdownHeadingCollapsed": true
   },
   "source": [
    "# Section 13"
   ]
  },
  {
   "cell_type": "code",
   "execution_count": 94,
   "id": "36871dcb-9f00-4df4-abb4-3ed2e7fd3f22",
   "metadata": {},
   "outputs": [
    {
     "data": {
      "text/plain": [
       "5.333333333333333"
      ]
     },
     "execution_count": 94,
     "metadata": {},
     "output_type": "execute_result"
    }
   ],
   "source": [
    "16/3"
   ]
  },
  {
   "cell_type": "code",
   "execution_count": 92,
   "id": "977dcb14-9b8b-44ce-8c04-26416d008a8f",
   "metadata": {},
   "outputs": [
    {
     "data": {
      "text/plain": [
       "1"
      ]
     },
     "execution_count": 92,
     "metadata": {},
     "output_type": "execute_result"
    }
   ],
   "source": [
    "16%3"
   ]
  },
  {
   "cell_type": "code",
   "execution_count": 96,
   "id": "f41ab315-c8ff-4a2d-841d-32a7833dd910",
   "metadata": {},
   "outputs": [
    {
     "data": {
      "text/plain": [
       "9"
      ]
     },
     "execution_count": 96,
     "metadata": {},
     "output_type": "execute_result"
    }
   ],
   "source": [
    "3*3"
   ]
  },
  {
   "cell_type": "code",
   "execution_count": 101,
   "id": "def20dfa-88ee-4844-88be-852638da2715",
   "metadata": {},
   "outputs": [
    {
     "data": {
      "text/plain": [
       "27"
      ]
     },
     "execution_count": 101,
     "metadata": {},
     "output_type": "execute_result"
    }
   ],
   "source": [
    "3**3 # 3 to the power of 3"
   ]
  },
  {
   "cell_type": "code",
   "execution_count": 105,
   "id": "90280b7e-20c7-452e-bdd5-7ffca23ec3ba",
   "metadata": {},
   "outputs": [
    {
     "data": {
      "text/plain": [
       "True"
      ]
     },
     "execution_count": 105,
     "metadata": {},
     "output_type": "execute_result"
    }
   ],
   "source": [
    "3==3 # 3 is the same as 3, works with vars"
   ]
  },
  {
   "cell_type": "markdown",
   "id": "153bbcaa-3594-4374-b5aa-f9078b04dfa7",
   "metadata": {},
   "source": [
    "### indexing"
   ]
  },
  {
   "cell_type": "code",
   "execution_count": 119,
   "id": "b510e40a-2552-4eb2-904e-d8ce777b6626",
   "metadata": {},
   "outputs": [
    {
     "data": {
      "text/plain": [
       "'d'"
      ]
     },
     "execution_count": 119,
     "metadata": {},
     "output_type": "execute_result"
    }
   ],
   "source": [
    "\"Friday\"[3]"
   ]
  },
  {
   "cell_type": "markdown",
   "id": "4b84b40c-17ad-4dba-ac02-80d43973cd4d",
   "metadata": {},
   "source": [
    "### indentation"
   ]
  },
  {
   "cell_type": "code",
   "execution_count": 146,
   "id": "c355e340-7040-4e79-aeb4-39b5d7a3f423",
   "metadata": {},
   "outputs": [
    {
     "data": {
      "text/plain": [
       "5"
      ]
     },
     "execution_count": 146,
     "metadata": {},
     "output_type": "execute_result"
    }
   ],
   "source": [
    "def five(x):\n",
    "    x=5\n",
    "    return x\n",
    "    print(3) ## doesnt run\n",
    "\n",
    "five(3)"
   ]
  },
  {
   "cell_type": "markdown",
   "id": "4120e7b8-f774-443a-822d-e0a4fc3c1f3a",
   "metadata": {
    "jp-MarkdownHeadingCollapsed": true
   },
   "source": [
    "# Section 14"
   ]
  },
  {
   "cell_type": "code",
   "execution_count": 157,
   "id": "4aec3fbb-da40-4ed9-8159-88e9e0aab359",
   "metadata": {},
   "outputs": [
    {
     "data": {
      "text/plain": [
       "True"
      ]
     },
     "execution_count": 157,
     "metadata": {},
     "output_type": "execute_result"
    }
   ],
   "source": [
    "10 == 20/2"
   ]
  },
  {
   "cell_type": "code",
   "execution_count": 159,
   "id": "94e87390-3905-4d46-8312-c74bee657d23",
   "metadata": {},
   "outputs": [
    {
     "data": {
      "text/plain": [
       "True"
      ]
     },
     "execution_count": 159,
     "metadata": {},
     "output_type": "execute_result"
    }
   ],
   "source": [
    "10 != 2"
   ]
  },
  {
   "cell_type": "code",
   "execution_count": 161,
   "id": "1d1bb697-8829-4fd3-8156-e1f043b8d750",
   "metadata": {},
   "outputs": [
    {
     "data": {
      "text/plain": [
       "False"
      ]
     },
     "execution_count": 161,
     "metadata": {},
     "output_type": "execute_result"
    }
   ],
   "source": [
    "10 == 15"
   ]
  },
  {
   "cell_type": "code",
   "execution_count": 163,
   "id": "03e31537-c465-4433-add0-0990605a9d4d",
   "metadata": {},
   "outputs": [
    {
     "data": {
      "text/plain": [
       "True"
      ]
     },
     "execution_count": 163,
     "metadata": {},
     "output_type": "execute_result"
    }
   ],
   "source": [
    "10 > 5"
   ]
  },
  {
   "cell_type": "code",
   "execution_count": 167,
   "id": "3b55eea0-0ba6-44df-90fc-3827f7d838d0",
   "metadata": {},
   "outputs": [
    {
     "data": {
      "text/plain": [
       "False"
      ]
     },
     "execution_count": 167,
     "metadata": {},
     "output_type": "execute_result"
    }
   ],
   "source": [
    "10 > 5+5"
   ]
  },
  {
   "cell_type": "markdown",
   "id": "fbc71896-0774-4ff1-a007-0ddc15a09720",
   "metadata": {},
   "source": [
    "### Logical Operators"
   ]
  },
  {
   "cell_type": "code",
   "execution_count": 176,
   "id": "8359d76e-6ab4-4924-aa6d-d89b8904c553",
   "metadata": {},
   "outputs": [
    {
     "data": {
      "text/plain": [
       "True"
      ]
     },
     "execution_count": 176,
     "metadata": {},
     "output_type": "execute_result"
    }
   ],
   "source": [
    "True and True"
   ]
  },
  {
   "cell_type": "code",
   "execution_count": 178,
   "id": "bb20f2c7-2aef-4398-a033-fb911cc91b0c",
   "metadata": {},
   "outputs": [
    {
     "data": {
      "text/plain": [
       "True"
      ]
     },
     "execution_count": 178,
     "metadata": {},
     "output_type": "execute_result"
    }
   ],
   "source": [
    "True or False"
   ]
  },
  {
   "cell_type": "code",
   "execution_count": 180,
   "id": "32630a9a-a587-45cb-9fbf-96d4b49770ba",
   "metadata": {},
   "outputs": [
    {
     "data": {
      "text/plain": [
       "True"
      ]
     },
     "execution_count": 180,
     "metadata": {},
     "output_type": "execute_result"
    }
   ],
   "source": [
    "False or True"
   ]
  },
  {
   "cell_type": "code",
   "execution_count": 182,
   "id": "16896f91-8ce2-4865-9d9f-6d7ad627630f",
   "metadata": {},
   "outputs": [
    {
     "data": {
      "text/plain": [
       "False"
      ]
     },
     "execution_count": 182,
     "metadata": {},
     "output_type": "execute_result"
    }
   ],
   "source": [
    "False or False"
   ]
  },
  {
   "cell_type": "code",
   "execution_count": 186,
   "id": "e7cee099-300b-42ae-af75-7b40ffbb8636",
   "metadata": {},
   "outputs": [
    {
     "data": {
      "text/plain": [
       "True"
      ]
     },
     "execution_count": 186,
     "metadata": {},
     "output_type": "execute_result"
    }
   ],
   "source": [
    "not False"
   ]
  },
  {
   "cell_type": "code",
   "execution_count": 200,
   "id": "3ee39fed-f718-45fb-9701-7301d6607862",
   "metadata": {},
   "outputs": [
    {
     "data": {
      "text/plain": [
       "False"
      ]
     },
     "execution_count": 200,
     "metadata": {},
     "output_type": "execute_result"
    }
   ],
   "source": [
    "3>5 and 10<20"
   ]
  },
  {
   "cell_type": "code",
   "execution_count": 202,
   "id": "5e3377bc-9e5d-4009-8ae8-9c6a3bdee5e8",
   "metadata": {},
   "outputs": [
    {
     "data": {
      "text/plain": [
       "False"
      ]
     },
     "execution_count": 202,
     "metadata": {},
     "output_type": "execute_result"
    }
   ],
   "source": [
    "True and not True # this becomes True and False"
   ]
  },
  {
   "cell_type": "code",
   "execution_count": 208,
   "id": "570dec52-29fd-47ff-94fc-304d8e4944ac",
   "metadata": {},
   "outputs": [
    {
     "data": {
      "text/plain": [
       "False"
      ]
     },
     "execution_count": 208,
     "metadata": {},
     "output_type": "execute_result"
    }
   ],
   "source": [
    "False or not True and True \n",
    "# not runs first, so this becomes False or False and True\n",
    "# then AND takes precedence, so this becomes False or False"
   ]
  },
  {
   "cell_type": "code",
   "execution_count": 214,
   "id": "e85e67fc-7866-4477-9bb9-bc8abd7f0aa2",
   "metadata": {},
   "outputs": [
    {
     "name": "stderr",
     "output_type": "stream",
     "text": [
      "<>:1: SyntaxWarning: \"is\" with 'int' literal. Did you mean \"==\"?\n",
      "<>:1: SyntaxWarning: \"is\" with 'int' literal. Did you mean \"==\"?\n",
      "/var/folders/63/r63xkxxn775973yzh59ghr4r0000gn/T/ipykernel_54317/1783323536.py:1: SyntaxWarning: \"is\" with 'int' literal. Did you mean \"==\"?\n",
      "  5 is 5\n"
     ]
    },
    {
     "data": {
      "text/plain": [
       "True"
      ]
     },
     "execution_count": 214,
     "metadata": {},
     "output_type": "execute_result"
    }
   ],
   "source": [
    "5 is 5"
   ]
  },
  {
   "cell_type": "code",
   "execution_count": 218,
   "id": "7a843f62-d499-4e52-acce-21177fa83229",
   "metadata": {},
   "outputs": [
    {
     "name": "stderr",
     "output_type": "stream",
     "text": [
      "<>:1: SyntaxWarning: \"is not\" with 'int' literal. Did you mean \"!=\"?\n",
      "<>:1: SyntaxWarning: \"is not\" with 'int' literal. Did you mean \"!=\"?\n",
      "/var/folders/63/r63xkxxn775973yzh59ghr4r0000gn/T/ipykernel_54317/2227521640.py:1: SyntaxWarning: \"is not\" with 'int' literal. Did you mean \"!=\"?\n",
      "  5 is not 6\n"
     ]
    },
    {
     "data": {
      "text/plain": [
       "True"
      ]
     },
     "execution_count": 218,
     "metadata": {},
     "output_type": "execute_result"
    }
   ],
   "source": [
    "5 is not 6"
   ]
  },
  {
   "cell_type": "markdown",
   "id": "6171248e-d3b9-43c5-88e3-ad6b08fc245d",
   "metadata": {
    "jp-MarkdownHeadingCollapsed": true
   },
   "source": [
    "# Section 15: If/Else"
   ]
  },
  {
   "cell_type": "code",
   "execution_count": 223,
   "id": "fc59823f-ac03-442a-9775-844b2620ef29",
   "metadata": {},
   "outputs": [
    {
     "name": "stdout",
     "output_type": "stream",
     "text": [
      "yay\n"
     ]
    }
   ],
   "source": [
    "if 5==15/3:\n",
    "    print('yay')"
   ]
  },
  {
   "cell_type": "code",
   "execution_count": 229,
   "id": "567aa490-9e7a-4338-aa2b-f79472a46782",
   "metadata": {},
   "outputs": [
    {
     "name": "stdout",
     "output_type": "stream",
     "text": [
      "case2\n"
     ]
    }
   ],
   "source": [
    "x=1\n",
    "if x>2:\n",
    "    print('case1')\n",
    "else:\n",
    "    print('case2')\n"
   ]
  },
  {
   "cell_type": "code",
   "execution_count": 233,
   "id": "e065d438-d31c-41a6-ab2a-bc71627e2dbc",
   "metadata": {},
   "outputs": [
    {
     "name": "stdout",
     "output_type": "stream",
     "text": [
      "case3\n"
     ]
    }
   ],
   "source": [
    "x=1\n",
    "if x>2:\n",
    "    print('case1')\n",
    "elif x<2:\n",
    "    print('case3')\n",
    "else:\n",
    "    print('case2')\n"
   ]
  },
  {
   "cell_type": "markdown",
   "id": "755094de-a983-4eff-94e7-2b7ae4c9af46",
   "metadata": {
    "jp-MarkdownHeadingCollapsed": true
   },
   "source": [
    "# Section 16: Functions"
   ]
  },
  {
   "cell_type": "code",
   "execution_count": 238,
   "id": "f20a0f55-5e23-40cf-85d4-cf9d82a380bb",
   "metadata": {},
   "outputs": [],
   "source": [
    "# def fucntion_name(parameters):\n",
    "    #function body"
   ]
  },
  {
   "cell_type": "code",
   "execution_count": 248,
   "id": "e810ce9e-0f7d-4533-ba2e-6debafe7624f",
   "metadata": {},
   "outputs": [
    {
     "name": "stdout",
     "output_type": "stream",
     "text": [
      "my first function\n"
     ]
    }
   ],
   "source": [
    "def simple():\n",
    "    print('my first function')\n",
    "simple()"
   ]
  },
  {
   "cell_type": "code",
   "execution_count": 252,
   "id": "e7429afb-51f7-42fc-8c14-72fa6cb2f284",
   "metadata": {},
   "outputs": [
    {
     "data": {
      "text/plain": [
       "12"
      ]
     },
     "execution_count": 252,
     "metadata": {},
     "output_type": "execute_result"
    }
   ],
   "source": [
    "def plusten(a):\n",
    "    return a + 10\n",
    "plusten(2)"
   ]
  },
  {
   "cell_type": "code",
   "execution_count": 258,
   "id": "1e2c625d-f930-4d8b-b62e-d00b609582bd",
   "metadata": {},
   "outputs": [
    {
     "ename": "TypeError",
     "evalue": "can only concatenate str (not \"int\") to str",
     "output_type": "error",
     "traceback": [
      "\u001b[0;31m---------------------------------------------------------------------------\u001b[0m",
      "\u001b[0;31mTypeError\u001b[0m                                 Traceback (most recent call last)",
      "Cell \u001b[0;32mIn[258], line 1\u001b[0m\n\u001b[0;32m----> 1\u001b[0m plusten(\u001b[38;5;124m'\u001b[39m\u001b[38;5;124mtest\u001b[39m\u001b[38;5;124m'\u001b[39m)\n",
      "Cell \u001b[0;32mIn[252], line 2\u001b[0m, in \u001b[0;36mplusten\u001b[0;34m(a)\u001b[0m\n\u001b[1;32m      1\u001b[0m \u001b[38;5;28;01mdef\u001b[39;00m \u001b[38;5;21mplusten\u001b[39m(a):\n\u001b[0;32m----> 2\u001b[0m     \u001b[38;5;28;01mreturn\u001b[39;00m a \u001b[38;5;241m+\u001b[39m \u001b[38;5;241m10\u001b[39m\n",
      "\u001b[0;31mTypeError\u001b[0m: can only concatenate str (not \"int\") to str"
     ]
    }
   ],
   "source": [
    "plusten('test')"
   ]
  },
  {
   "cell_type": "code",
   "execution_count": 266,
   "id": "48ec899a-c523-4768-bc45-0b93462e8af9",
   "metadata": {},
   "outputs": [
    {
     "name": "stdout",
     "output_type": "stream",
     "text": [
      "20\n"
     ]
    },
    {
     "data": {
      "text/plain": [
       "20"
      ]
     },
     "execution_count": 266,
     "metadata": {},
     "output_type": "execute_result"
    }
   ],
   "source": [
    "def plusten_new(a):\n",
    "    result = a + 10\n",
    "    print(result)\n",
    "    return(result)\n",
    "\n",
    "plusten_new(10)"
   ]
  },
  {
   "cell_type": "code",
   "execution_count": 270,
   "id": "a5df21f4-d51d-4aa5-92e0-97961254d671",
   "metadata": {},
   "outputs": [
    {
     "data": {
      "text/plain": [
       "1000"
      ]
     },
     "execution_count": 270,
     "metadata": {},
     "output_type": "execute_result"
    }
   ],
   "source": [
    "def wage(hours):\n",
    "    return hours * 25\n",
    "def bonus(hours):\n",
    "    return wage(hours)+50\n"
   ]
  },
  {
   "cell_type": "code",
   "execution_count": 274,
   "id": "ae04d754-2bab-47a5-a935-1b8ebf467824",
   "metadata": {},
   "outputs": [
    {
     "data": {
      "text/plain": [
       "1000"
      ]
     },
     "execution_count": 274,
     "metadata": {},
     "output_type": "execute_result"
    }
   ],
   "source": [
    "wage(40)"
   ]
  },
  {
   "cell_type": "code",
   "execution_count": 280,
   "id": "bd210935-4d26-4371-a045-b8b8721e9d90",
   "metadata": {},
   "outputs": [
    {
     "data": {
      "text/plain": [
       "1050"
      ]
     },
     "execution_count": 280,
     "metadata": {},
     "output_type": "execute_result"
    }
   ],
   "source": [
    "bonus(40)"
   ]
  },
  {
   "cell_type": "code",
   "execution_count": 284,
   "id": "0e04743d-f885-4b6e-9426-9e8cd142b350",
   "metadata": {},
   "outputs": [
    {
     "data": {
      "text/plain": [
       "(1000, 1050)"
      ]
     },
     "execution_count": 284,
     "metadata": {},
     "output_type": "execute_result"
    }
   ],
   "source": [
    "wage(40), bonus(40)"
   ]
  },
  {
   "cell_type": "markdown",
   "id": "1de42b3d-1e8d-43eb-97a1-69211eee7242",
   "metadata": {},
   "source": [
    "----"
   ]
  },
  {
   "cell_type": "code",
   "execution_count": 294,
   "id": "d7c3ed52-3e16-4ba6-b105-b5488344cebb",
   "metadata": {},
   "outputs": [
    {
     "data": {
      "text/plain": [
       "6"
      ]
     },
     "execution_count": 294,
     "metadata": {},
     "output_type": "execute_result"
    }
   ],
   "source": [
    "def func(a,b,c):\n",
    "    return a+b+c\n",
    "func(1,2,3)"
   ]
  },
  {
   "cell_type": "markdown",
   "id": "6d6c06db-086b-42fb-ad8d-85c2b1c388f9",
   "metadata": {},
   "source": [
    "-- Built in functions --"
   ]
  },
  {
   "cell_type": "code",
   "execution_count": 304,
   "id": "6db0c964-cfaf-4b1f-8d23-e81dede0ad0c",
   "metadata": {},
   "outputs": [
    {
     "data": {
      "text/plain": [
       "10"
      ]
     },
     "execution_count": 304,
     "metadata": {},
     "output_type": "execute_result"
    }
   ],
   "source": [
    "min(10,20)"
   ]
  },
  {
   "cell_type": "code",
   "execution_count": 308,
   "id": "d3d54f1c-9623-4fd7-960f-d76a3b97dd12",
   "metadata": {},
   "outputs": [
    {
     "data": {
      "text/plain": [
       "'500'"
      ]
     },
     "execution_count": 308,
     "metadata": {},
     "output_type": "execute_result"
    }
   ],
   "source": [
    "str(500)"
   ]
  },
  {
   "cell_type": "code",
   "execution_count": 314,
   "id": "0f00478c-4e24-44b5-ab4a-fae70b2e0396",
   "metadata": {},
   "outputs": [
    {
     "data": {
      "text/plain": [
       "30"
      ]
     },
     "execution_count": 314,
     "metadata": {},
     "output_type": "execute_result"
    }
   ],
   "source": [
    "sum([10,20])"
   ]
  },
  {
   "cell_type": "code",
   "execution_count": 316,
   "id": "3dd62bab-3bf7-4327-a3ac-ab09993d2fa5",
   "metadata": {},
   "outputs": [
    {
     "data": {
      "text/plain": [
       "3"
      ]
     },
     "execution_count": 316,
     "metadata": {},
     "output_type": "execute_result"
    }
   ],
   "source": [
    "round(3.14)"
   ]
  },
  {
   "cell_type": "markdown",
   "id": "cf1a91a7-43f2-4fea-899f-677d9d3b13b9",
   "metadata": {
    "jp-MarkdownHeadingCollapsed": true
   },
   "source": [
    "# Section 17: Sequences"
   ]
  },
  {
   "cell_type": "code",
   "execution_count": 361,
   "id": "8d7477d7-b777-4562-9afe-df03cd93e614",
   "metadata": {},
   "outputs": [],
   "source": [
    "names = ['ben','jon']"
   ]
  },
  {
   "cell_type": "code",
   "execution_count": 363,
   "id": "535cb14f-8155-483a-b645-30587a672e3a",
   "metadata": {},
   "outputs": [
    {
     "data": {
      "text/plain": [
       "'ben'"
      ]
     },
     "execution_count": 363,
     "metadata": {},
     "output_type": "execute_result"
    }
   ],
   "source": [
    "names[0]"
   ]
  },
  {
   "cell_type": "code",
   "execution_count": 365,
   "id": "05a474cf-8732-4ac6-8e07-7e94efcfcd61",
   "metadata": {},
   "outputs": [
    {
     "data": {
      "text/plain": [
       "['ben', 'Test']"
      ]
     },
     "execution_count": 365,
     "metadata": {},
     "output_type": "execute_result"
    }
   ],
   "source": [
    "names[1]='Test'\n",
    "names"
   ]
  },
  {
   "cell_type": "code",
   "execution_count": 367,
   "id": "c423c100-cd79-4b91-92b1-5cc0508f61ef",
   "metadata": {},
   "outputs": [
    {
     "data": {
      "text/plain": [
       "['ben', 'Test', 'jon']"
      ]
     },
     "execution_count": 367,
     "metadata": {},
     "output_type": "execute_result"
    }
   ],
   "source": [
    "names.append('jon') # this is a 'method'\n",
    "names"
   ]
  },
  {
   "cell_type": "code",
   "execution_count": 369,
   "id": "12622bb9-3f04-4d52-b01e-a8e7bce65568",
   "metadata": {},
   "outputs": [
    {
     "data": {
      "text/plain": [
       "['ben', 'Test', 'jon', 'extended']"
      ]
     },
     "execution_count": 369,
     "metadata": {},
     "output_type": "execute_result"
    }
   ],
   "source": [
    "names.extend(['extended'])\n",
    "names"
   ]
  },
  {
   "cell_type": "code",
   "execution_count": 371,
   "id": "09c2f052-704f-4370-8aed-f68aa637cdc7",
   "metadata": {},
   "outputs": [
    {
     "data": {
      "text/plain": [
       "4"
      ]
     },
     "execution_count": 371,
     "metadata": {},
     "output_type": "execute_result"
    }
   ],
   "source": [
    "len(names)"
   ]
  },
  {
   "cell_type": "code",
   "execution_count": 375,
   "id": "c505a010-72c5-43af-ae9b-571c6d1076d8",
   "metadata": {},
   "outputs": [
    {
     "data": {
      "text/plain": [
       "['Test', 'jon']"
      ]
     },
     "execution_count": 375,
     "metadata": {},
     "output_type": "execute_result"
    }
   ],
   "source": [
    "names[1:3]"
   ]
  },
  {
   "cell_type": "code",
   "execution_count": 377,
   "id": "17d5f1b7-36c9-427f-8ac9-66512473b906",
   "metadata": {},
   "outputs": [
    {
     "data": {
      "text/plain": [
       "['ben', 'Test']"
      ]
     },
     "execution_count": 377,
     "metadata": {},
     "output_type": "execute_result"
    }
   ],
   "source": [
    "names[:2]"
   ]
  },
  {
   "cell_type": "code",
   "execution_count": 381,
   "id": "f800cfd6-ebc8-44c6-8347-bca09b05158b",
   "metadata": {},
   "outputs": [
    {
     "data": {
      "text/plain": [
       "1"
      ]
     },
     "execution_count": 381,
     "metadata": {},
     "output_type": "execute_result"
    }
   ],
   "source": [
    "names.index('Test')"
   ]
  },
  {
   "cell_type": "code",
   "execution_count": 383,
   "id": "3fd02ea7-17bf-4d4b-8a8d-f0511cc76468",
   "metadata": {},
   "outputs": [],
   "source": [
    "newnames = ['josh','chris']"
   ]
  },
  {
   "cell_type": "code",
   "execution_count": 387,
   "id": "9946bb4a-0a0b-47ed-a13f-385e51cd5475",
   "metadata": {},
   "outputs": [
    {
     "data": {
      "text/plain": [
       "[['ben', 'Test', 'jon', 'extended'], ['josh', 'chris']]"
      ]
     },
     "execution_count": 387,
     "metadata": {},
     "output_type": "execute_result"
    }
   ],
   "source": [
    "allnames = [names,newnames]\n",
    "allnames"
   ]
  },
  {
   "cell_type": "code",
   "execution_count": 391,
   "id": "b7cef93b-445e-49e8-859b-b68f97700a7b",
   "metadata": {},
   "outputs": [
    {
     "data": {
      "text/plain": [
       "['Test', 'ben', 'extended', 'jon']"
      ]
     },
     "execution_count": 391,
     "metadata": {},
     "output_type": "execute_result"
    }
   ],
   "source": [
    "names.sort() # looks like sort also runs differently on cap and noncap letters\n",
    "names "
   ]
  },
  {
   "cell_type": "code",
   "execution_count": 399,
   "id": "2c1e2ec5-4ffc-49c6-83fb-dd28d674929d",
   "metadata": {},
   "outputs": [
    {
     "data": {
      "text/plain": [
       "['jon', 'extended', 'ben', 'Test']"
      ]
     },
     "execution_count": 399,
     "metadata": {},
     "output_type": "execute_result"
    }
   ],
   "source": [
    "names.sort(reverse=True)\n",
    "names"
   ]
  },
  {
   "cell_type": "code",
   "execution_count": 403,
   "id": "5c4a9860-6a5d-4abb-81b0-aa2aec8918a4",
   "metadata": {},
   "outputs": [
    {
     "data": {
      "text/plain": [
       "[1, 2, 3]"
      ]
     },
     "execution_count": 403,
     "metadata": {},
     "output_type": "execute_result"
    }
   ],
   "source": [
    "nums=[1,3,2]\n",
    "nums.sort()\n",
    "nums"
   ]
  },
  {
   "cell_type": "code",
   "execution_count": 407,
   "id": "23f39415-5cfd-41be-9d12-f57d114c0b52",
   "metadata": {},
   "outputs": [
    {
     "data": {
      "text/plain": [
       "[3, 2, 1]"
      ]
     },
     "execution_count": 407,
     "metadata": {},
     "output_type": "execute_result"
    }
   ],
   "source": [
    "nums.sort(reverse=True)\n",
    "nums"
   ]
  },
  {
   "cell_type": "markdown",
   "id": "8b43401b-6b32-4a1f-b248-9fb5297d3043",
   "metadata": {},
   "source": [
    "### Tuples"
   ]
  },
  {
   "cell_type": "code",
   "execution_count": 410,
   "id": "7e9a991a-62a8-4292-9235-c875fbc8ef47",
   "metadata": {},
   "outputs": [
    {
     "data": {
      "text/plain": [
       "(1, 3, 2)"
      ]
     },
     "execution_count": 410,
     "metadata": {},
     "output_type": "execute_result"
    }
   ],
   "source": [
    "x = (1,3,2)\n",
    "x"
   ]
  },
  {
   "cell_type": "code",
   "execution_count": 412,
   "id": "e27b3038-b4b3-40eb-8780-c117ca7c0f78",
   "metadata": {},
   "outputs": [
    {
     "data": {
      "text/plain": [
       "(1, 5, 7)"
      ]
     },
     "execution_count": 412,
     "metadata": {},
     "output_type": "execute_result"
    }
   ],
   "source": [
    "y = 1, 5, 7 #tuple 'packing'\n",
    "y"
   ]
  },
  {
   "cell_type": "code",
   "execution_count": 414,
   "id": "896b67a1-72c9-4739-9a47-427a5fc41ccd",
   "metadata": {},
   "outputs": [
    {
     "data": {
      "text/plain": [
       "2"
      ]
     },
     "execution_count": 414,
     "metadata": {},
     "output_type": "execute_result"
    }
   ],
   "source": [
    "a,b,c = 1,2,3 # this is really a tuple assignment\n",
    "b"
   ]
  },
  {
   "cell_type": "code",
   "execution_count": 416,
   "id": "6a109ccc-7be3-458b-a08d-83fc0d2e972f",
   "metadata": {},
   "outputs": [
    {
     "data": {
      "text/plain": [
       "1"
      ]
     },
     "execution_count": 416,
     "metadata": {},
     "output_type": "execute_result"
    }
   ],
   "source": [
    "x[0]"
   ]
  },
  {
   "cell_type": "code",
   "execution_count": 420,
   "id": "1a6d9099-a5c8-41d2-9962-2f49b513647a",
   "metadata": {},
   "outputs": [
    {
     "data": {
      "text/plain": [
       "[(1, 3, 2), (1, 5, 7)]"
      ]
     },
     "execution_count": 420,
     "metadata": {},
     "output_type": "execute_result"
    }
   ],
   "source": [
    "list_oftuples = [x,y]\n",
    "list_oftuples"
   ]
  },
  {
   "cell_type": "code",
   "execution_count": 424,
   "id": "55109e92-bc9d-426a-9a12-975c03362fbf",
   "metadata": {},
   "outputs": [
    {
     "name": "stdout",
     "output_type": "stream",
     "text": [
      "30\n",
      "18\n"
     ]
    }
   ],
   "source": [
    "(age, yearsofschool) = \"30,18\".split(',')\n",
    "print(age)\n",
    "print(yearsofschool)"
   ]
  },
  {
   "cell_type": "code",
   "execution_count": 432,
   "id": "4ad27ed8-63fe-446c-89ea-58e5c33e3682",
   "metadata": {},
   "outputs": [
    {
     "data": {
      "text/plain": [
       "(1, 5, 7)"
      ]
     },
     "execution_count": 432,
     "metadata": {},
     "output_type": "execute_result"
    }
   ],
   "source": [
    "def returntuple(x):\n",
    "    a = x\n",
    "    return a\n",
    "returntuple(y)"
   ]
  },
  {
   "cell_type": "markdown",
   "id": "882540e7-2329-4ae6-90a1-60aed9a2185a",
   "metadata": {},
   "source": [
    "### Disctionaries"
   ]
  },
  {
   "cell_type": "code",
   "execution_count": 435,
   "id": "69460332-7c8a-4fe4-89a0-e5ecde06a6a0",
   "metadata": {},
   "outputs": [
    {
     "name": "stdout",
     "output_type": "stream",
     "text": [
      "{'key1': 'cat', 'key2': 'mouse'}\n"
     ]
    }
   ],
   "source": [
    "dict = {'key1':'cat','key2':'mouse'}\n",
    "print(dict)"
   ]
  },
  {
   "cell_type": "code",
   "execution_count": 437,
   "id": "d4c70e67-4e22-4cd8-872f-40cd32a429e1",
   "metadata": {},
   "outputs": [
    {
     "data": {
      "text/plain": [
       "{'key1': 'cat', 'key2': 'mouse', 'key3': 'dog'}"
      ]
     },
     "execution_count": 437,
     "metadata": {},
     "output_type": "execute_result"
    }
   ],
   "source": [
    "dict['key3']='dog'\n",
    "dict"
   ]
  },
  {
   "cell_type": "code",
   "execution_count": 445,
   "id": "eabad527-651a-4c5f-b3cf-12a1b37d9fbc",
   "metadata": {},
   "outputs": [
    {
     "data": {
      "text/plain": [
       "'cat'"
      ]
     },
     "execution_count": 445,
     "metadata": {},
     "output_type": "execute_result"
    }
   ],
   "source": [
    "dict.get('key1')"
   ]
  },
  {
   "cell_type": "code",
   "execution_count": 447,
   "id": "3cb13161-d07b-4e08-83c7-e0ca2544ca6a",
   "metadata": {},
   "outputs": [
    {
     "data": {
      "text/plain": [
       "str"
      ]
     },
     "execution_count": 447,
     "metadata": {},
     "output_type": "execute_result"
    }
   ],
   "source": [
    "type(dict.get('key1'))"
   ]
  },
  {
   "cell_type": "markdown",
   "id": "9e0cfcc7-59fb-4c39-93ca-4375a458f78d",
   "metadata": {},
   "source": [
    "### Iteration"
   ]
  },
  {
   "cell_type": "markdown",
   "id": "cb0ec79e-c5c0-4651-a36c-773b46450e99",
   "metadata": {},
   "source": [
    "### For Loops"
   ]
  },
  {
   "cell_type": "code",
   "execution_count": 461,
   "id": "6d36dbbd-0a35-4e47-93f1-94c8ed9faf69",
   "metadata": {},
   "outputs": [
    {
     "data": {
      "text/plain": [
       "[0, 2, 4, 6]"
      ]
     },
     "execution_count": 461,
     "metadata": {},
     "output_type": "execute_result"
    }
   ],
   "source": [
    "even=[0,2,4,6]\n",
    "even"
   ]
  },
  {
   "cell_type": "code",
   "execution_count": 463,
   "id": "adb02671-6a86-4dcf-8193-7cf36fdb6cc7",
   "metadata": {},
   "outputs": [
    {
     "name": "stdout",
     "output_type": "stream",
     "text": [
      "0\n",
      "2\n",
      "4\n",
      "6\n"
     ]
    }
   ],
   "source": [
    "for i in even:\n",
    "    print(i)"
   ]
  },
  {
   "cell_type": "code",
   "execution_count": 467,
   "id": "8337414a-e723-411f-a1eb-8e29da987fec",
   "metadata": {},
   "outputs": [
    {
     "name": "stdout",
     "output_type": "stream",
     "text": [
      "0 2 4 6 "
     ]
    }
   ],
   "source": [
    "for i in even:\n",
    "    print(i, end = \" \")"
   ]
  },
  {
   "cell_type": "markdown",
   "id": "c056f49c-0db6-433d-afb9-e9aaceb55d87",
   "metadata": {},
   "source": [
    "### While Loops / Incrementing"
   ]
  },
  {
   "cell_type": "code",
   "execution_count": 476,
   "id": "edcf3c8f-f919-4af8-affd-b9a06a5b23e9",
   "metadata": {},
   "outputs": [
    {
     "name": "stdout",
     "output_type": "stream",
     "text": [
      "0 1 2 3 4 5 6 7 8 9 10 11 12 13 14 15 16 17 18 19 "
     ]
    }
   ],
   "source": [
    "x=0\n",
    "while x <20:\n",
    "    print(x, end=\" \")\n",
    "    # x=x+1\n",
    "    x += 1 # this is the same as above"
   ]
  },
  {
   "cell_type": "markdown",
   "id": "785243d9-81ee-4b83-9f4b-1ee265df90b8",
   "metadata": {},
   "source": [
    "### Lists with Range()"
   ]
  },
  {
   "cell_type": "code",
   "execution_count": 500,
   "id": "bb7b2786-e510-484b-a293-111bf08d7621",
   "metadata": {},
   "outputs": [
    {
     "data": {
      "text/plain": [
       "range(1, 10, 3)"
      ]
     },
     "execution_count": 500,
     "metadata": {},
     "output_type": "execute_result"
    }
   ],
   "source": [
    "range_object = range(1,10,3) #(start, stop, end)\n",
    "range_object"
   ]
  },
  {
   "cell_type": "code",
   "execution_count": 502,
   "id": "2950cc01-17e1-4389-aa90-afc63e196d7c",
   "metadata": {},
   "outputs": [
    {
     "data": {
      "text/plain": [
       "range"
      ]
     },
     "execution_count": 502,
     "metadata": {},
     "output_type": "execute_result"
    }
   ],
   "source": [
    "type(range_object)"
   ]
  },
  {
   "cell_type": "code",
   "execution_count": 508,
   "id": "86b1b4c8-ec05-4a36-96eb-01a430dad2cc",
   "metadata": {},
   "outputs": [
    {
     "data": {
      "text/plain": [
       "[1, 4, 7]"
      ]
     },
     "execution_count": 508,
     "metadata": {},
     "output_type": "execute_result"
    }
   ],
   "source": [
    "rangelist = list(range_object)\n",
    "rangelist"
   ]
  },
  {
   "cell_type": "code",
   "execution_count": 514,
   "id": "b71af831-406b-4912-9057-44eba43ffc6c",
   "metadata": {},
   "outputs": [
    {
     "name": "stdout",
     "output_type": "stream",
     "text": [
      "[0, 1, 2, 3, 4, 5, 6, 7, 8, 9]\n"
     ]
    }
   ],
   "source": [
    "newrange = range(10)\n",
    "print(list(newrange))"
   ]
  },
  {
   "cell_type": "code",
   "execution_count": 516,
   "id": "df2a0b79-9527-4d67-ab34-f2195a0612ae",
   "metadata": {},
   "outputs": [
    {
     "data": {
      "text/plain": [
       "[1, 4, 6]"
      ]
     },
     "execution_count": 516,
     "metadata": {},
     "output_type": "execute_result"
    }
   ],
   "source": [
    "z = [1,4,6]\n",
    "z"
   ]
  },
  {
   "cell_type": "code",
   "execution_count": 532,
   "id": "2cdc766f-0a00-4f82-bc85-2ac099005b36",
   "metadata": {},
   "outputs": [
    {
     "name": "stdout",
     "output_type": "stream",
     "text": [
      "1 4 6 "
     ]
    }
   ],
   "source": [
    "for i in range(len(z)):\n",
    "    print(z[i], end=\" \")\n",
    "    # print(i, end=\" \")"
   ]
  },
  {
   "cell_type": "code",
   "execution_count": 542,
   "id": "a6833131-f4b2-4596-9b39-5e5a378a1fd1",
   "metadata": {},
   "outputs": [
    {
     "data": {
      "text/plain": [
       "4"
      ]
     },
     "execution_count": 542,
     "metadata": {},
     "output_type": "execute_result"
    }
   ],
   "source": [
    "def count(numbers):\n",
    "    total = 0\n",
    "    for i in numbers:\n",
    "        if i < 20:\n",
    "            total+=1\n",
    "    return total\n",
    "\n",
    "count([1,2,22,24,5,3])"
   ]
  },
  {
   "cell_type": "code",
   "execution_count": 572,
   "id": "5abc7aa2-5bea-454b-ad7a-a88c76db35b5",
   "metadata": {},
   "outputs": [
    {
     "name": "stdout",
     "output_type": "stream",
     "text": [
      "4\n",
      "6\n",
      "12\n"
     ]
    },
    {
     "data": {
      "text/plain": [
       "1600"
      ]
     },
     "execution_count": 572,
     "metadata": {},
     "output_type": "execute_result"
    }
   ],
   "source": [
    "prices={'box':4, 'cup':6, 'tent':12}\n",
    "quantities={'box':22, 'cup':2, 'tent':125}\n",
    "\n",
    "# for i in quantities:\n",
    "    # print(quantities[i])\n",
    "\n",
    "def get_inventory_value(p, q):\n",
    "    value = 0\n",
    "    for i in p:\n",
    "        print(p[i])\n",
    "        value+= p[i] * q[i]\n",
    "    return value\n",
    "        #1600 is correct\n",
    "\n",
    "get_inventory_value(prices, quantities)"
   ]
  },
  {
   "cell_type": "code",
   "execution_count": 582,
   "id": "3d5bd1a3-a5d4-410c-af7a-84bccbbd6371",
   "metadata": {},
   "outputs": [],
   "source": [
    "import math\n",
    "# help(math)"
   ]
  },
  {
   "cell_type": "code",
   "execution_count": null,
   "id": "328ca27c-5548-4731-91ba-18776f7330ba",
   "metadata": {
    "editable": true,
    "slideshow": {
     "slide_type": ""
    },
    "tags": []
   },
   "outputs": [],
   "source": [
    "testlist=[1,2]\n",
    "testlist."
   ]
  }
 ],
 "metadata": {
  "kernelspec": {
   "display_name": "Python [conda env:base] *",
   "language": "python",
   "name": "conda-base-py"
  },
  "language_info": {
   "codemirror_mode": {
    "name": "ipython",
    "version": 3
   },
   "file_extension": ".py",
   "mimetype": "text/x-python",
   "name": "python",
   "nbconvert_exporter": "python",
   "pygments_lexer": "ipython3",
   "version": "3.12.7"
  }
 },
 "nbformat": 4,
 "nbformat_minor": 5
}
